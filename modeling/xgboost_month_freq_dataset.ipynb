{
 "cells": [
  {
   "cell_type": "code",
   "execution_count": 1,
   "metadata": {},
   "outputs": [],
   "source": [
    "import pandas as pd\n",
    "import numpy as np\n",
    "import xgboost"
   ]
  },
  {
   "cell_type": "code",
   "execution_count": 2,
   "metadata": {},
   "outputs": [],
   "source": [
    "df = pd.read_csv('../../all_data/xgboost_month_freq_dataset.csv')"
   ]
  },
  {
   "cell_type": "markdown",
   "metadata": {},
   "source": [
    "# 補值(先隨便補)"
   ]
  },
  {
   "cell_type": "code",
   "execution_count": 3,
   "metadata": {},
   "outputs": [],
   "source": [
    "df_clean = df.copy()"
   ]
  },
  {
   "cell_type": "code",
   "execution_count": 4,
   "metadata": {},
   "outputs": [
    {
     "name": "stdout",
     "output_type": "stream",
     "text": [
      "<class 'pandas.core.frame.DataFrame'>\n",
      "RangeIndex: 806578 entries, 0 to 806577\n",
      "Data columns (total 149 columns):\n",
      " #    Column                         Non-Null Count   Dtype  \n",
      "---   ------                         --------------   -----  \n",
      " 0    usage_category                 781214 non-null  object \n",
      " 1    address                        806578 non-null  object \n",
      " 2    property_type                  806566 non-null  object \n",
      " 3    community_name                 543379 non-null  object \n",
      " 4    main_building_ratio            750580 non-null  float64\n",
      " 5    city                           806578 non-null  object \n",
      " 6    parking_space_price            190741 non-null  float64\n",
      " 7    transaction_date               806578 non-null  object \n",
      " 8    elevator_available             288775 non-null  float64\n",
      " 9    building_age                   611128 non-null  float64\n",
      " 10   number_of_land                 806578 non-null  int64  \n",
      " 11   number_of_building             806578 non-null  int64  \n",
      " 12   number_of_parking_space        806578 non-null  int64  \n",
      " 13   latitude                       806578 non-null  float64\n",
      " 14   longitude                      806578 non-null  float64\n",
      " 15   management_org_available       806578 non-null  int64  \n",
      " 16   per_ping_calculation_method    806578 non-null  object \n",
      " 17   note                           342311 non-null  object \n",
      " 18   price_per_ping                 779765 non-null  float64\n",
      " 19   detailed_usage_classification  804622 non-null  object \n",
      " 20   total_area_ping                806578 non-null  float64\n",
      " 21   property_b_l_p_type            806578 non-null  object \n",
      " 22   district                       806578 non-null  object \n",
      " 23   total_price                    806578 non-null  int64  \n",
      " 24   total_floors                   804873 non-null  float64\n",
      " 25   target_floor                   803870 non-null  float64\n",
      " 26   transaction_floors             805108 non-null  float64\n",
      " 27   bedrooms                       750927 non-null  float64\n",
      " 28   living_rooms                   750927 non-null  float64\n",
      " 29   bathrooms                      750927 non-null  float64\n",
      " 30   cor                            806578 non-null  object \n",
      " 31   公共活動空間_under_250_m             806578 non-null  float64\n",
      " 32   公共活動空間_under_500_m             806578 non-null  float64\n",
      " 33   公共活動空間_under_750_m             806578 non-null  float64\n",
      " 34   交流道出入口_under_250_m             806578 non-null  float64\n",
      " 35   交流道出入口_under_500_m             806578 non-null  float64\n",
      " 36   交流道出入口_under_750_m             806578 non-null  float64\n",
      " 37   捷運出口_under_250_m               806578 non-null  float64\n",
      " 38   捷運出口_under_500_m               806578 non-null  float64\n",
      " 39   捷運出口_under_750_m               806578 non-null  float64\n",
      " 40   宗教場所_under_250_m               806578 non-null  float64\n",
      " 41   宗教場所_under_500_m               806578 non-null  float64\n",
      " 42   宗教場所_under_750_m               806578 non-null  float64\n",
      " 43   消防單位_under_250_m               806578 non-null  float64\n",
      " 44   消防單位_under_500_m               806578 non-null  float64\n",
      " 45   消防單位_under_750_m               806578 non-null  float64\n",
      " 46   商圈_under_250_m                 806578 non-null  float64\n",
      " 47   商圈_under_500_m                 806578 non-null  float64\n",
      " 48   商圈_under_750_m                 806578 non-null  float64\n",
      " 49   圖書館_under_250_m                806578 non-null  float64\n",
      " 50   圖書館_under_500_m                806578 non-null  float64\n",
      " 51   圖書館_under_750_m                806578 non-null  float64\n",
      " 52   學校_under_250_m                 806578 non-null  float64\n",
      " 53   學校_under_500_m                 806578 non-null  float64\n",
      " 54   學校_under_750_m                 806578 non-null  float64\n",
      " 55   藝文_under_250_m                 806578 non-null  float64\n",
      " 56   藝文_under_500_m                 806578 non-null  float64\n",
      " 57   藝文_under_750_m                 806578 non-null  float64\n",
      " 58   醫院_under_250_m                 806578 non-null  float64\n",
      " 59   醫院_under_500_m                 806578 non-null  float64\n",
      " 60   醫院_under_750_m                 806578 non-null  float64\n",
      " 61   加油站_under_250_m                806578 non-null  float64\n",
      " 62   加油站_under_500_m                806578 non-null  float64\n",
      " 63   加油站_under_750_m                806578 non-null  float64\n",
      " 64   幼兒園_under_250_m                806578 non-null  float64\n",
      " 65   幼兒園_under_500_m                806578 non-null  float64\n",
      " 66   幼兒園_under_750_m                806578 non-null  float64\n",
      " 67   托兒所_under_250_m                806578 non-null  float64\n",
      " 68   托兒所_under_500_m                806578 non-null  float64\n",
      " 69   托兒所_under_750_m                806578 non-null  float64\n",
      " 70   法院_檢察署_under_250_m             806578 non-null  float64\n",
      " 71   法院_檢察署_under_500_m             806578 non-null  float64\n",
      " 72   法院_檢察署_under_750_m             806578 non-null  float64\n",
      " 73   便利商店_under_250_m               806578 non-null  float64\n",
      " 74   便利商店_under_500_m               806578 non-null  float64\n",
      " 75   便利商店_under_750_m               806578 non-null  float64\n",
      " 76   發電廠_under_250_m                806578 non-null  float64\n",
      " 77   發電廠_under_500_m                806578 non-null  float64\n",
      " 78   發電廠_under_750_m                806578 non-null  float64\n",
      " 79   清潔單位_under_250_m               806578 non-null  float64\n",
      " 80   清潔單位_under_500_m               806578 non-null  float64\n",
      " 81   清潔單位_under_750_m               806578 non-null  float64\n",
      " 82   焚化廠_under_250_m                806578 non-null  float64\n",
      " 83   焚化廠_under_500_m                806578 non-null  float64\n",
      " 84   焚化廠_under_750_m                806578 non-null  float64\n",
      " 85   銀行_under_250_m                 806578 non-null  float64\n",
      " 86   銀行_under_500_m                 806578 non-null  float64\n",
      " 87   銀行_under_750_m                 806578 non-null  float64\n",
      " 88   殯儀館_under_250_m                806578 non-null  float64\n",
      " 89   殯儀館_under_500_m                806578 non-null  float64\n",
      " 90   殯儀館_under_750_m                806578 non-null  float64\n",
      " 91   警局_under_250_m                 806578 non-null  float64\n",
      " 92   警局_under_500_m                 806578 non-null  float64\n",
      " 93   警局_under_750_m                 806578 non-null  float64\n",
      " 94   療養院_under_250_m                806578 non-null  float64\n",
      " 95   療養院_under_500_m                806578 non-null  float64\n",
      " 96   療養院_under_750_m                806578 non-null  float64\n",
      " 97   診所_under_250_m                 806578 non-null  float64\n",
      " 98   診所_under_500_m                 806578 non-null  float64\n",
      " 99   診所_under_750_m                 806578 non-null  float64\n",
      " 100  藥局_under_250_m                 806578 non-null  float64\n",
      " 101  藥局_under_500_m                 806578 non-null  float64\n",
      " 102  藥局_under_750_m                 806578 non-null  float64\n",
      " 103  醫療設施_under_250_m               806578 non-null  float64\n",
      " 104  醫療設施_under_500_m               806578 non-null  float64\n",
      " 105  醫療設施_under_750_m               806578 non-null  float64\n",
      " 106  year_month_for_combine         806578 non-null  object \n",
      " 107  date                           806578 non-null  object \n",
      " 108  EA1101                         806578 non-null  float64\n",
      " 109  EB0312                         806578 non-null  float64\n",
      " 110  EB0911                         806578 non-null  float64\n",
      " 111  EB18                           806578 non-null  float64\n",
      " 112  EB21                           806578 non-null  float64\n",
      " 113  EB22                           806578 non-null  float64\n",
      " 114  EC06                           806578 non-null  float64\n",
      " 115  EC07                           806578 non-null  float64\n",
      " 116  LA07                           806578 non-null  float64\n",
      " 117  MA1501                         806578 non-null  float64\n",
      " 118  MB65                           806578 non-null  float64\n",
      " 119  MC31                           806578 non-null  float64\n",
      " 120  MC31G                          806578 non-null  float64\n",
      " 121  MC36                           806578 non-null  float64\n",
      " 122  MC36G                          806578 non-null  float64\n",
      " 123  MO30                           806578 non-null  float64\n",
      " 124  MP101G                         806578 non-null  float64\n",
      " 125  NA0101                         806578 non-null  float64\n",
      " 126  NA1005                         793962 non-null  float64\n",
      " 127  NB0101                         806578 non-null  float64\n",
      " 128  NC0117                         806578 non-null  float64\n",
      " 129  NC0118                         806578 non-null  float64\n",
      " 130  NE0206                         806578 non-null  float64\n",
      " 131  NE0812                         806578 non-null  float64\n",
      " 132  OC08G                          806578 non-null  float64\n",
      " 133  PA0120                         806578 non-null  float64\n",
      " 134  PA1205                         806578 non-null  float64\n",
      " 135  PE0503                         806578 non-null  float64\n",
      " 136  TSE收盤                          806578 non-null  float64\n",
      " 137  水泥(TSE11)收盤                    806578 non-null  float64\n",
      " 138  建材營造(TSE25)收盤                  806578 non-null  float64\n",
      " 139  航運業(TSE26)收盤                   806578 non-null  float64\n",
      " 140  鋼鐵(TSE20)收盤                    806578 non-null  float64\n",
      " 141  倫敦鋁現貨價                         806578 non-null  float64\n",
      " 142  倫敦高級銅極現貨價                      806578 non-null  float64\n",
      " 143  巴拿馬型貨櫃運費指數                     806578 non-null  float64\n",
      " 144  杜拜輕原油現貨價                       806578 non-null  float64\n",
      " 145  水泥50kg北區台泥                     806578 non-null  float64\n",
      " 146  無鉛汽油95                         806578 non-null  float64\n",
      " 147  竹節鋼筋_南                         806578 non-null  float64\n",
      " 148  預拌混凝土3000磅台北                   806578 non-null  float64\n",
      "dtypes: float64(130), int64(5), object(14)\n",
      "memory usage: 916.9+ MB\n"
     ]
    }
   ],
   "source": [
    "df_clean.info(max_cols=149)"
   ]
  },
  {
   "cell_type": "code",
   "execution_count": 5,
   "metadata": {},
   "outputs": [],
   "source": [
    "# 處理坪數有0的，drop掉好了....\n",
    "df_clean[ df_clean['total_area_ping'] == 0 ]\n",
    "\n",
    "df_clean.drop(175950, axis=0, inplace=True)\n"
   ]
  },
  {
   "cell_type": "code",
   "execution_count": 6,
   "metadata": {},
   "outputs": [
    {
     "name": "stderr",
     "output_type": "stream",
     "text": [
      "C:\\Users\\student\\AppData\\Local\\Temp\\ipykernel_9544\\1282215795.py:1: FutureWarning: A value is trying to be set on a copy of a DataFrame or Series through chained assignment using an inplace method.\n",
      "The behavior will change in pandas 3.0. This inplace method will never work because the intermediate object on which we are setting values always behaves as a copy.\n",
      "\n",
      "For example, when doing 'df[col].method(value, inplace=True)', try using 'df.method({col: value}, inplace=True)' or df[col] = df[col].method(value) instead, to perform the operation inplace on the original object.\n",
      "\n",
      "\n",
      "  df_clean['NA1005'].fillna(method='bfill', inplace=True)\n",
      "C:\\Users\\student\\AppData\\Local\\Temp\\ipykernel_9544\\1282215795.py:1: FutureWarning: Series.fillna with 'method' is deprecated and will raise in a future version. Use obj.ffill() or obj.bfill() instead.\n",
      "  df_clean['NA1005'].fillna(method='bfill', inplace=True)\n"
     ]
    }
   ],
   "source": [
    "df_clean['NA1005'].fillna(method='bfill', inplace=True)"
   ]
  },
  {
   "cell_type": "code",
   "execution_count": 7,
   "metadata": {},
   "outputs": [],
   "source": [
    "# transaction_floors target_floor total_floors detailed_usage_classification"
   ]
  },
  {
   "cell_type": "code",
   "execution_count": 8,
   "metadata": {},
   "outputs": [
    {
     "name": "stderr",
     "output_type": "stream",
     "text": [
      "C:\\Users\\student\\AppData\\Local\\Temp\\ipykernel_9544\\3423363900.py:1: FutureWarning: A value is trying to be set on a copy of a DataFrame or Series through chained assignment using an inplace method.\n",
      "The behavior will change in pandas 3.0. This inplace method will never work because the intermediate object on which we are setting values always behaves as a copy.\n",
      "\n",
      "For example, when doing 'df[col].method(value, inplace=True)', try using 'df.method({col: value}, inplace=True)' or df[col] = df[col].method(value) instead, to perform the operation inplace on the original object.\n",
      "\n",
      "\n",
      "  df_clean['transaction_floors'].fillna(value=1, inplace=True)\n",
      "C:\\Users\\student\\AppData\\Local\\Temp\\ipykernel_9544\\3423363900.py:2: FutureWarning: A value is trying to be set on a copy of a DataFrame or Series through chained assignment using an inplace method.\n",
      "The behavior will change in pandas 3.0. This inplace method will never work because the intermediate object on which we are setting values always behaves as a copy.\n",
      "\n",
      "For example, when doing 'df[col].method(value, inplace=True)', try using 'df.method({col: value}, inplace=True)' or df[col] = df[col].method(value) instead, to perform the operation inplace on the original object.\n",
      "\n",
      "\n",
      "  df_clean['target_floor'].fillna(df_clean['target_floor'].mean(), inplace=True)\n",
      "C:\\Users\\student\\AppData\\Local\\Temp\\ipykernel_9544\\3423363900.py:3: FutureWarning: A value is trying to be set on a copy of a DataFrame or Series through chained assignment using an inplace method.\n",
      "The behavior will change in pandas 3.0. This inplace method will never work because the intermediate object on which we are setting values always behaves as a copy.\n",
      "\n",
      "For example, when doing 'df[col].method(value, inplace=True)', try using 'df.method({col: value}, inplace=True)' or df[col] = df[col].method(value) instead, to perform the operation inplace on the original object.\n",
      "\n",
      "\n",
      "  df_clean['total_floors'].fillna(df_clean['total_floors'].mean(), inplace=True)\n",
      "C:\\Users\\student\\AppData\\Local\\Temp\\ipykernel_9544\\3423363900.py:4: FutureWarning: A value is trying to be set on a copy of a DataFrame or Series through chained assignment using an inplace method.\n",
      "The behavior will change in pandas 3.0. This inplace method will never work because the intermediate object on which we are setting values always behaves as a copy.\n",
      "\n",
      "For example, when doing 'df[col].method(value, inplace=True)', try using 'df.method({col: value}, inplace=True)' or df[col] = df[col].method(value) instead, to perform the operation inplace on the original object.\n",
      "\n",
      "\n",
      "  df_clean['detailed_usage_classification'].fillna(value='其他', inplace=True)\n"
     ]
    }
   ],
   "source": [
    "df_clean['transaction_floors'].fillna(value=1, inplace=True)\n",
    "df_clean['target_floor'].fillna(df_clean['target_floor'].mean(), inplace=True)\n",
    "df_clean['total_floors'].fillna(df_clean['total_floors'].mean(), inplace=True)\n",
    "df_clean['detailed_usage_classification'].fillna(value='其他', inplace=True)\n",
    "\n"
   ]
  },
  {
   "cell_type": "code",
   "execution_count": 9,
   "metadata": {},
   "outputs": [
    {
     "data": {
      "text/plain": [
       "12.000648550328503"
      ]
     },
     "execution_count": 9,
     "metadata": {},
     "output_type": "execute_result"
    }
   ],
   "source": [
    "df_clean['total_floors'].mean()"
   ]
  },
  {
   "cell_type": "code",
   "execution_count": 10,
   "metadata": {},
   "outputs": [
    {
     "data": {
      "text/plain": [
       "0"
      ]
     },
     "execution_count": 10,
     "metadata": {},
     "output_type": "execute_result"
    }
   ],
   "source": [
    "df_clean['detailed_usage_classification'].isnull().sum()"
   ]
  },
  {
   "cell_type": "code",
   "execution_count": 11,
   "metadata": {},
   "outputs": [],
   "source": [
    "# 要丟掉的欄位\n",
    "df_clean.drop(['parking_space_price', 'elevator_available', 'note', 'year_month_for_combine', 'date', 'cor', 'latitude', 'longitude', 'address','price_per_ping'],axis=1, inplace=True)"
   ]
  },
  {
   "cell_type": "code",
   "execution_count": 12,
   "metadata": {},
   "outputs": [],
   "source": [
    "df_clean.drop( 'transaction_date',axis=1, inplace=True)"
   ]
  },
  {
   "cell_type": "code",
   "execution_count": 13,
   "metadata": {},
   "outputs": [
    {
     "name": "stderr",
     "output_type": "stream",
     "text": [
      "C:\\Users\\student\\AppData\\Local\\Temp\\ipykernel_9544\\2967026026.py:2: FutureWarning: DataFrame.fillna with 'method' is deprecated and will raise in a future version. Use obj.ffill() or obj.bfill() instead.\n",
      "  df_clean.iloc[:,108:149].fillna(method='bfill', inplace=True)\n"
     ]
    }
   ],
   "source": [
    "# 經濟指標像後補值\n",
    "df_clean.iloc[:,108:149].fillna(method='bfill', inplace=True)"
   ]
  },
  {
   "cell_type": "code",
   "execution_count": 14,
   "metadata": {},
   "outputs": [
    {
     "name": "stderr",
     "output_type": "stream",
     "text": [
      "C:\\Users\\student\\AppData\\Local\\Temp\\ipykernel_9544\\3826513975.py:2: FutureWarning: A value is trying to be set on a copy of a DataFrame or Series through chained assignment using an inplace method.\n",
      "The behavior will change in pandas 3.0. This inplace method will never work because the intermediate object on which we are setting values always behaves as a copy.\n",
      "\n",
      "For example, when doing 'df[col].method(value, inplace=True)', try using 'df.method({col: value}, inplace=True)' or df[col] = df[col].method(value) instead, to perform the operation inplace on the original object.\n",
      "\n",
      "\n",
      "  df_clean['building_age'].fillna(df_clean['building_age'].mean(), inplace=True)\n"
     ]
    }
   ],
   "source": [
    "# building_age補平均值(其實應該要補當年的平均)\n",
    "df_clean['building_age'].fillna(df_clean['building_age'].mean(), inplace=True)"
   ]
  },
  {
   "cell_type": "code",
   "execution_count": 15,
   "metadata": {},
   "outputs": [
    {
     "data": {
      "text/plain": [
       "usage_category          25364\n",
       "property_type              12\n",
       "community_name         263198\n",
       "main_building_ratio     55997\n",
       "city                        0\n",
       "                        ...  \n",
       "杜拜輕原油現貨價                    0\n",
       "水泥50kg北區台泥                  0\n",
       "無鉛汽油95                      0\n",
       "竹節鋼筋_南                      0\n",
       "預拌混凝土3000磅台北                0\n",
       "Length: 138, dtype: int64"
      ]
     },
     "execution_count": 15,
     "metadata": {},
     "output_type": "execute_result"
    }
   ],
   "source": [
    "df_clean.isnull().sum()"
   ]
  },
  {
   "cell_type": "code",
   "execution_count": 16,
   "metadata": {},
   "outputs": [
    {
     "name": "stderr",
     "output_type": "stream",
     "text": [
      "C:\\Users\\student\\AppData\\Local\\Temp\\ipykernel_9544\\3971976473.py:1: FutureWarning: A value is trying to be set on a copy of a DataFrame or Series through chained assignment using an inplace method.\n",
      "The behavior will change in pandas 3.0. This inplace method will never work because the intermediate object on which we are setting values always behaves as a copy.\n",
      "\n",
      "For example, when doing 'df[col].method(value, inplace=True)', try using 'df.method({col: value}, inplace=True)' or df[col] = df[col].method(value) instead, to perform the operation inplace on the original object.\n",
      "\n",
      "\n",
      "  df_clean['property_type'].fillna(value=\"其他\", inplace=True)\n"
     ]
    }
   ],
   "source": [
    "df_clean['property_type'].fillna(value=\"其他\", inplace=True)"
   ]
  },
  {
   "cell_type": "code",
   "execution_count": 17,
   "metadata": {},
   "outputs": [
    {
     "name": "stderr",
     "output_type": "stream",
     "text": [
      "C:\\Users\\student\\AppData\\Local\\Temp\\ipykernel_9544\\2079150644.py:1: FutureWarning: A value is trying to be set on a copy of a DataFrame or Series through chained assignment using an inplace method.\n",
      "The behavior will change in pandas 3.0. This inplace method will never work because the intermediate object on which we are setting values always behaves as a copy.\n",
      "\n",
      "For example, when doing 'df[col].method(value, inplace=True)', try using 'df.method({col: value}, inplace=True)' or df[col] = df[col].method(value) instead, to perform the operation inplace on the original object.\n",
      "\n",
      "\n",
      "  df_clean['main_building_ratio'].fillna(df_clean['main_building_ratio'].mean(), inplace=True)\n"
     ]
    }
   ],
   "source": [
    "df_clean['main_building_ratio'].fillna(df_clean['main_building_ratio'].mean(), inplace=True)"
   ]
  },
  {
   "cell_type": "code",
   "execution_count": 18,
   "metadata": {},
   "outputs": [
    {
     "name": "stderr",
     "output_type": "stream",
     "text": [
      "C:\\Users\\student\\AppData\\Local\\Temp\\ipykernel_9544\\3680213287.py:1: FutureWarning: A value is trying to be set on a copy of a DataFrame or Series through chained assignment using an inplace method.\n",
      "The behavior will change in pandas 3.0. This inplace method will never work because the intermediate object on which we are setting values always behaves as a copy.\n",
      "\n",
      "For example, when doing 'df[col].method(value, inplace=True)', try using 'df.method({col: value}, inplace=True)' or df[col] = df[col].method(value) instead, to perform the operation inplace on the original object.\n",
      "\n",
      "\n",
      "  df_clean['community_name'].fillna(value=\"沒有社區\", inplace=True)\n"
     ]
    }
   ],
   "source": [
    "df_clean['community_name'].fillna(value=\"沒有社區\", inplace=True)"
   ]
  },
  {
   "cell_type": "code",
   "execution_count": 19,
   "metadata": {},
   "outputs": [
    {
     "data": {
      "text/plain": [
       "array(['住', '商', '其他', '6', '工', '7', '農', nan], dtype=object)"
      ]
     },
     "execution_count": 19,
     "metadata": {},
     "output_type": "execute_result"
    }
   ],
   "source": [
    "# 空值的話就先補\"其他\"\n",
    "df_clean['usage_category'].unique()"
   ]
  },
  {
   "cell_type": "code",
   "execution_count": 20,
   "metadata": {},
   "outputs": [
    {
     "name": "stderr",
     "output_type": "stream",
     "text": [
      "C:\\Users\\student\\AppData\\Local\\Temp\\ipykernel_9544\\3570540452.py:2: FutureWarning: A value is trying to be set on a copy of a DataFrame or Series through chained assignment using an inplace method.\n",
      "The behavior will change in pandas 3.0. This inplace method will never work because the intermediate object on which we are setting values always behaves as a copy.\n",
      "\n",
      "For example, when doing 'df[col].method(value, inplace=True)', try using 'df.method({col: value}, inplace=True)' or df[col] = df[col].method(value) instead, to perform the operation inplace on the original object.\n",
      "\n",
      "\n",
      "  df_clean['usage_category'].fillna(value=\"其他\", inplace=True)\n",
      "C:\\Users\\student\\AppData\\Local\\Temp\\ipykernel_9544\\3570540452.py:6: FutureWarning: ChainedAssignmentError: behaviour will change in pandas 3.0!\n",
      "You are setting values through chained assignment. Currently this works in certain cases, but when using Copy-on-Write (which will become the default behaviour in pandas 3.0) this will never work to update the original DataFrame or Series, because the intermediate object on which we are setting values will behave as a copy.\n",
      "A typical example is when you are setting values in a column of a DataFrame, like:\n",
      "\n",
      "df[\"col\"][row_indexer] = value\n",
      "\n",
      "Use `df.loc[row_indexer, \"col\"] = values` instead, to perform the assignment in a single step and ensure this keeps updating the original `df`.\n",
      "\n",
      "See the caveats in the documentation: https://pandas.pydata.org/pandas-docs/stable/user_guide/indexing.html#returning-a-view-versus-a-copy\n",
      "\n",
      "  df_clean['usage_category'].iloc[index] = \"其他\"\n",
      "C:\\Users\\student\\AppData\\Local\\Temp\\ipykernel_9544\\3570540452.py:8: FutureWarning: ChainedAssignmentError: behaviour will change in pandas 3.0!\n",
      "You are setting values through chained assignment. Currently this works in certain cases, but when using Copy-on-Write (which will become the default behaviour in pandas 3.0) this will never work to update the original DataFrame or Series, because the intermediate object on which we are setting values will behave as a copy.\n",
      "A typical example is when you are setting values in a column of a DataFrame, like:\n",
      "\n",
      "df[\"col\"][row_indexer] = value\n",
      "\n",
      "Use `df.loc[row_indexer, \"col\"] = values` instead, to perform the assignment in a single step and ensure this keeps updating the original `df`.\n",
      "\n",
      "See the caveats in the documentation: https://pandas.pydata.org/pandas-docs/stable/user_guide/indexing.html#returning-a-view-versus-a-copy\n",
      "\n",
      "  df_clean['usage_category'].iloc[index] = \"其他\"\n"
     ]
    }
   ],
   "source": [
    "# 把null值跟\"6\",\"7\"，都改成\"其他\"\n",
    "df_clean['usage_category'].fillna(value=\"其他\", inplace=True)\n",
    "\n",
    "for index, value in enumerate(df_clean['usage_category']):\n",
    "    if value == \"6\":\n",
    "        df_clean['usage_category'].iloc[index] = \"其他\"\n",
    "    if value == \"7\":\n",
    "        df_clean['usage_category'].iloc[index] = \"其他\""
   ]
  },
  {
   "cell_type": "code",
   "execution_count": 21,
   "metadata": {},
   "outputs": [
    {
     "name": "stderr",
     "output_type": "stream",
     "text": [
      "C:\\Users\\student\\AppData\\Local\\Temp\\ipykernel_9544\\2736197432.py:2: FutureWarning: A value is trying to be set on a copy of a DataFrame or Series through chained assignment using an inplace method.\n",
      "The behavior will change in pandas 3.0. This inplace method will never work because the intermediate object on which we are setting values always behaves as a copy.\n",
      "\n",
      "For example, when doing 'df[col].method(value, inplace=True)', try using 'df.method({col: value}, inplace=True)' or df[col] = df[col].method(value) instead, to perform the operation inplace on the original object.\n",
      "\n",
      "\n",
      "  df_clean['bedrooms'].fillna(df_clean['bedrooms'].mean(), inplace=True)\n",
      "C:\\Users\\student\\AppData\\Local\\Temp\\ipykernel_9544\\2736197432.py:3: FutureWarning: A value is trying to be set on a copy of a DataFrame or Series through chained assignment using an inplace method.\n",
      "The behavior will change in pandas 3.0. This inplace method will never work because the intermediate object on which we are setting values always behaves as a copy.\n",
      "\n",
      "For example, when doing 'df[col].method(value, inplace=True)', try using 'df.method({col: value}, inplace=True)' or df[col] = df[col].method(value) instead, to perform the operation inplace on the original object.\n",
      "\n",
      "\n",
      "  df_clean['living_rooms'].fillna(df_clean['living_rooms'].mean(), inplace=True)\n",
      "C:\\Users\\student\\AppData\\Local\\Temp\\ipykernel_9544\\2736197432.py:4: FutureWarning: A value is trying to be set on a copy of a DataFrame or Series through chained assignment using an inplace method.\n",
      "The behavior will change in pandas 3.0. This inplace method will never work because the intermediate object on which we are setting values always behaves as a copy.\n",
      "\n",
      "For example, when doing 'df[col].method(value, inplace=True)', try using 'df.method({col: value}, inplace=True)' or df[col] = df[col].method(value) instead, to perform the operation inplace on the original object.\n",
      "\n",
      "\n",
      "  df_clean['bathrooms'].fillna(df_clean['bathrooms'].mean(), inplace=True)\n"
     ]
    }
   ],
   "source": [
    "# 補平均\n",
    "df_clean['bedrooms'].fillna(df_clean['bedrooms'].mean(), inplace=True)\n",
    "df_clean['living_rooms'].fillna(df_clean['living_rooms'].mean(), inplace=True)\n",
    "df_clean['bathrooms'].fillna(df_clean['bathrooms'].mean(), inplace=True)"
   ]
  },
  {
   "cell_type": "code",
   "execution_count": 22,
   "metadata": {},
   "outputs": [
    {
     "name": "stderr",
     "output_type": "stream",
     "text": [
      "C:\\Users\\student\\AppData\\Local\\Temp\\ipykernel_9544\\2119278460.py:6: FutureWarning: A value is trying to be set on a copy of a DataFrame or Series through chained assignment using an inplace method.\n",
      "The behavior will change in pandas 3.0. This inplace method will never work because the intermediate object on which we are setting values always behaves as a copy.\n",
      "\n",
      "For example, when doing 'df[col].method(value, inplace=True)', try using 'df.method({col: value}, inplace=True)' or df[col] = df[col].method(value) instead, to perform the operation inplace on the original object.\n",
      "\n",
      "\n",
      "  df_clean['new_per_ping'].fillna(df_clean['new_per_ping'].mean(), inplace=True)\n"
     ]
    }
   ],
   "source": [
    "# 以總價/總坪(不考慮是否有車位)，做為每坪的價格\n",
    "# round(2): 取到小數點以下兩位\n",
    "df_clean['new_per_ping'] = (df_clean['total_price'] / df_clean['total_area_ping']).round(2)\n",
    "\n",
    "# 有缺補平均\n",
    "df_clean['new_per_ping'].fillna(df_clean['new_per_ping'].mean(), inplace=True)"
   ]
  },
  {
   "cell_type": "markdown",
   "metadata": {},
   "source": [
    "# 編碼"
   ]
  },
  {
   "cell_type": "code",
   "execution_count": 23,
   "metadata": {},
   "outputs": [],
   "source": [
    "# 非數值變數\n",
    "non_numeric_columns = [\n",
    "    \"usage_category\",\n",
    "    \"property_type\",\n",
    "    \"city\",\n",
    "    \"per_ping_calculation_method\",\n",
    "    \"detailed_usage_classification\",\n",
    "    \"property_b_l_p_type\",\n",
    "    \"district\"\n",
    "]\n",
    "# one-hot encoding \n",
    "\n",
    "# df_clean['property_type'].unique()"
   ]
  },
  {
   "cell_type": "code",
   "execution_count": 24,
   "metadata": {},
   "outputs": [],
   "source": [
    "# \"community_name\", # 這跟分0,1就好\n",
    "# for index, value in enumerate(df_clean['community_name']):\n",
    "#     if value == \"沒有社區\":\n",
    "#         df_clean['community_name'].iloc[index] = 0\n",
    "#     else:\n",
    "#         df_clean['community_name'].iloc[index] = 1\n",
    "# 這要20mins....\n",
    "\n",
    "### 可能比較快的做法 #### 超快....0 second\n",
    "# 使用 np.where 方法分配二進制標記\n",
    "df_clean['community_name'] = np.where(df_clean['community_name'].isin([\"沒有社區\"]), 0, 1)\n"
   ]
  },
  {
   "cell_type": "code",
   "execution_count": 25,
   "metadata": {},
   "outputs": [],
   "source": [
    "df_clean.drop('usage_category', axis=1, inplace=True)"
   ]
  },
  {
   "cell_type": "code",
   "execution_count": 26,
   "metadata": {},
   "outputs": [],
   "source": [
    "# usage_category, detailed_usage_classification很類似，先留詳細的(detailed)\n",
    "\n",
    "# df_clean = pd.get_dummies(df_clean, columns=['usage_category'], prefix='usage_category_')\n",
    "\n",
    "df_clean = pd.get_dummies(df_clean, columns=['property_type'], prefix='property_type_')\n",
    "df_clean = pd.get_dummies(df_clean, columns=['city'], prefix='city_')\n",
    "df_clean = pd.get_dummies(df_clean, columns=['per_ping_calculation_method'], prefix='per_ping_calculation_method_')\n",
    "df_clean = pd.get_dummies(df_clean, columns=['detailed_usage_classification'], prefix='detailed_usage_classification')\n",
    "df_clean = pd.get_dummies(df_clean, columns=['property_b_l_p_type'], prefix='property_b_l_p_type_')\n",
    "df_clean = pd.get_dummies(df_clean, columns=['district'], prefix='district_')"
   ]
  },
  {
   "cell_type": "code",
   "execution_count": 27,
   "metadata": {},
   "outputs": [
    {
     "data": {
      "text/plain": [
       "0"
      ]
     },
     "execution_count": 27,
     "metadata": {},
     "output_type": "execute_result"
    }
   ],
   "source": [
    "df_clean.isnull().sum().sum()"
   ]
  },
  {
   "cell_type": "markdown",
   "metadata": {},
   "source": [
    "# XGBoost"
   ]
  },
  {
   "cell_type": "code",
   "execution_count": 28,
   "metadata": {},
   "outputs": [],
   "source": [
    "import xgboost\n",
    "from xgboost import XGBRFRegressor"
   ]
  },
  {
   "cell_type": "code",
   "execution_count": 29,
   "metadata": {},
   "outputs": [
    {
     "name": "stdout",
     "output_type": "stream",
     "text": [
      "<class 'pandas.core.frame.DataFrame'>\n",
      "Index: 806577 entries, 0 to 806577\n",
      "Data columns (total 205 columns):\n",
      " #    Column                                                     Non-Null Count   Dtype  \n",
      "---   ------                                                     --------------   -----  \n",
      " 0    community_name                                             806577 non-null  int32  \n",
      " 1    main_building_ratio                                        806577 non-null  float64\n",
      " 2    building_age                                               806577 non-null  float64\n",
      " 3    number_of_land                                             806577 non-null  int64  \n",
      " 4    number_of_building                                         806577 non-null  int64  \n",
      " 5    number_of_parking_space                                    806577 non-null  int64  \n",
      " 6    management_org_available                                   806577 non-null  int64  \n",
      " 7    total_area_ping                                            806577 non-null  float64\n",
      " 8    total_price                                                806577 non-null  int64  \n",
      " 9    total_floors                                               806577 non-null  float64\n",
      " 10   target_floor                                               806577 non-null  float64\n",
      " 11   transaction_floors                                         806577 non-null  float64\n",
      " 12   bedrooms                                                   806577 non-null  float64\n",
      " 13   living_rooms                                               806577 non-null  float64\n",
      " 14   bathrooms                                                  806577 non-null  float64\n",
      " 15   公共活動空間_under_250_m                                         806577 non-null  float64\n",
      " 16   公共活動空間_under_500_m                                         806577 non-null  float64\n",
      " 17   公共活動空間_under_750_m                                         806577 non-null  float64\n",
      " 18   交流道出入口_under_250_m                                         806577 non-null  float64\n",
      " 19   交流道出入口_under_500_m                                         806577 non-null  float64\n",
      " 20   交流道出入口_under_750_m                                         806577 non-null  float64\n",
      " 21   捷運出口_under_250_m                                           806577 non-null  float64\n",
      " 22   捷運出口_under_500_m                                           806577 non-null  float64\n",
      " 23   捷運出口_under_750_m                                           806577 non-null  float64\n",
      " 24   宗教場所_under_250_m                                           806577 non-null  float64\n",
      " 25   宗教場所_under_500_m                                           806577 non-null  float64\n",
      " 26   宗教場所_under_750_m                                           806577 non-null  float64\n",
      " 27   消防單位_under_250_m                                           806577 non-null  float64\n",
      " 28   消防單位_under_500_m                                           806577 non-null  float64\n",
      " 29   消防單位_under_750_m                                           806577 non-null  float64\n",
      " 30   商圈_under_250_m                                             806577 non-null  float64\n",
      " 31   商圈_under_500_m                                             806577 non-null  float64\n",
      " 32   商圈_under_750_m                                             806577 non-null  float64\n",
      " 33   圖書館_under_250_m                                            806577 non-null  float64\n",
      " 34   圖書館_under_500_m                                            806577 non-null  float64\n",
      " 35   圖書館_under_750_m                                            806577 non-null  float64\n",
      " 36   學校_under_250_m                                             806577 non-null  float64\n",
      " 37   學校_under_500_m                                             806577 non-null  float64\n",
      " 38   學校_under_750_m                                             806577 non-null  float64\n",
      " 39   藝文_under_250_m                                             806577 non-null  float64\n",
      " 40   藝文_under_500_m                                             806577 non-null  float64\n",
      " 41   藝文_under_750_m                                             806577 non-null  float64\n",
      " 42   醫院_under_250_m                                             806577 non-null  float64\n",
      " 43   醫院_under_500_m                                             806577 non-null  float64\n",
      " 44   醫院_under_750_m                                             806577 non-null  float64\n",
      " 45   加油站_under_250_m                                            806577 non-null  float64\n",
      " 46   加油站_under_500_m                                            806577 non-null  float64\n",
      " 47   加油站_under_750_m                                            806577 non-null  float64\n",
      " 48   幼兒園_under_250_m                                            806577 non-null  float64\n",
      " 49   幼兒園_under_500_m                                            806577 non-null  float64\n",
      " 50   幼兒園_under_750_m                                            806577 non-null  float64\n",
      " 51   托兒所_under_250_m                                            806577 non-null  float64\n",
      " 52   托兒所_under_500_m                                            806577 non-null  float64\n",
      " 53   托兒所_under_750_m                                            806577 non-null  float64\n",
      " 54   法院_檢察署_under_250_m                                         806577 non-null  float64\n",
      " 55   法院_檢察署_under_500_m                                         806577 non-null  float64\n",
      " 56   法院_檢察署_under_750_m                                         806577 non-null  float64\n",
      " 57   便利商店_under_250_m                                           806577 non-null  float64\n",
      " 58   便利商店_under_500_m                                           806577 non-null  float64\n",
      " 59   便利商店_under_750_m                                           806577 non-null  float64\n",
      " 60   發電廠_under_250_m                                            806577 non-null  float64\n",
      " 61   發電廠_under_500_m                                            806577 non-null  float64\n",
      " 62   發電廠_under_750_m                                            806577 non-null  float64\n",
      " 63   清潔單位_under_250_m                                           806577 non-null  float64\n",
      " 64   清潔單位_under_500_m                                           806577 non-null  float64\n",
      " 65   清潔單位_under_750_m                                           806577 non-null  float64\n",
      " 66   焚化廠_under_250_m                                            806577 non-null  float64\n",
      " 67   焚化廠_under_500_m                                            806577 non-null  float64\n",
      " 68   焚化廠_under_750_m                                            806577 non-null  float64\n",
      " 69   銀行_under_250_m                                             806577 non-null  float64\n",
      " 70   銀行_under_500_m                                             806577 non-null  float64\n",
      " 71   銀行_under_750_m                                             806577 non-null  float64\n",
      " 72   殯儀館_under_250_m                                            806577 non-null  float64\n",
      " 73   殯儀館_under_500_m                                            806577 non-null  float64\n",
      " 74   殯儀館_under_750_m                                            806577 non-null  float64\n",
      " 75   警局_under_250_m                                             806577 non-null  float64\n",
      " 76   警局_under_500_m                                             806577 non-null  float64\n",
      " 77   警局_under_750_m                                             806577 non-null  float64\n",
      " 78   療養院_under_250_m                                            806577 non-null  float64\n",
      " 79   療養院_under_500_m                                            806577 non-null  float64\n",
      " 80   療養院_under_750_m                                            806577 non-null  float64\n",
      " 81   診所_under_250_m                                             806577 non-null  float64\n",
      " 82   診所_under_500_m                                             806577 non-null  float64\n",
      " 83   診所_under_750_m                                             806577 non-null  float64\n",
      " 84   藥局_under_250_m                                             806577 non-null  float64\n",
      " 85   藥局_under_500_m                                             806577 non-null  float64\n",
      " 86   藥局_under_750_m                                             806577 non-null  float64\n",
      " 87   醫療設施_under_250_m                                           806577 non-null  float64\n",
      " 88   醫療設施_under_500_m                                           806577 non-null  float64\n",
      " 89   醫療設施_under_750_m                                           806577 non-null  float64\n",
      " 90   EA1101                                                     806577 non-null  float64\n",
      " 91   EB0312                                                     806577 non-null  float64\n",
      " 92   EB0911                                                     806577 non-null  float64\n",
      " 93   EB18                                                       806577 non-null  float64\n",
      " 94   EB21                                                       806577 non-null  float64\n",
      " 95   EB22                                                       806577 non-null  float64\n",
      " 96   EC06                                                       806577 non-null  float64\n",
      " 97   EC07                                                       806577 non-null  float64\n",
      " 98   LA07                                                       806577 non-null  float64\n",
      " 99   MA1501                                                     806577 non-null  float64\n",
      " 100  MB65                                                       806577 non-null  float64\n",
      " 101  MC31                                                       806577 non-null  float64\n",
      " 102  MC31G                                                      806577 non-null  float64\n",
      " 103  MC36                                                       806577 non-null  float64\n",
      " 104  MC36G                                                      806577 non-null  float64\n",
      " 105  MO30                                                       806577 non-null  float64\n",
      " 106  MP101G                                                     806577 non-null  float64\n",
      " 107  NA0101                                                     806577 non-null  float64\n",
      " 108  NA1005                                                     806577 non-null  float64\n",
      " 109  NB0101                                                     806577 non-null  float64\n",
      " 110  NC0117                                                     806577 non-null  float64\n",
      " 111  NC0118                                                     806577 non-null  float64\n",
      " 112  NE0206                                                     806577 non-null  float64\n",
      " 113  NE0812                                                     806577 non-null  float64\n",
      " 114  OC08G                                                      806577 non-null  float64\n",
      " 115  PA0120                                                     806577 non-null  float64\n",
      " 116  PA1205                                                     806577 non-null  float64\n",
      " 117  PE0503                                                     806577 non-null  float64\n",
      " 118  TSE收盤                                                      806577 non-null  float64\n",
      " 119  水泥(TSE11)收盤                                                806577 non-null  float64\n",
      " 120  建材營造(TSE25)收盤                                              806577 non-null  float64\n",
      " 121  航運業(TSE26)收盤                                               806577 non-null  float64\n",
      " 122  鋼鐵(TSE20)收盤                                                806577 non-null  float64\n",
      " 123  倫敦鋁現貨價                                                     806577 non-null  float64\n",
      " 124  倫敦高級銅極現貨價                                                  806577 non-null  float64\n",
      " 125  巴拿馬型貨櫃運費指數                                                 806577 non-null  float64\n",
      " 126  杜拜輕原油現貨價                                                   806577 non-null  float64\n",
      " 127  水泥50kg北區台泥                                                 806577 non-null  float64\n",
      " 128  無鉛汽油95                                                     806577 non-null  float64\n",
      " 129  竹節鋼筋_南                                                     806577 non-null  float64\n",
      " 130  預拌混凝土3000磅台北                                               806577 non-null  float64\n",
      " 131  new_per_ping                                               806577 non-null  float64\n",
      " 132  property_type__住宅大樓(11層含以上有電梯)                             806577 non-null  bool   \n",
      " 133  property_type__倉庫                                          806577 non-null  bool   \n",
      " 134  property_type__公寓(5樓含以下無電梯)                                806577 non-null  bool   \n",
      " 135  property_type__其他                                          806577 non-null  bool   \n",
      " 136  property_type__套房(1房(1廳)1衛)                                806577 non-null  bool   \n",
      " 137  property_type__工廠                                          806577 non-null  bool   \n",
      " 138  property_type__店面（店舖)                                      806577 non-null  bool   \n",
      " 139  property_type__廠辦                                          806577 non-null  bool   \n",
      " 140  property_type__華廈(10層含以下有電梯)                               806577 non-null  bool   \n",
      " 141  property_type__辦公商業大樓                                      806577 non-null  bool   \n",
      " 142  property_type__農舍                                          806577 non-null  bool   \n",
      " 143  property_type__透天厝                                         806577 non-null  bool   \n",
      " 144  city__A                                                    806577 non-null  bool   \n",
      " 145  city__F                                                    806577 non-null  bool   \n",
      " 146  per_ping_calculation_method__(總價-車位總價)/(總面積-車位總面積)         806577 non-null  bool   \n",
      " 147  per_ping_calculation_method__總價/總面積                        806577 non-null  bool   \n",
      " 148  per_ping_calculation_method__總面積-車位總面積 剩餘面積小於1平方公尺 ,不計算單價  806577 non-null  bool   \n",
      " 149  detailed_usage_classification_住商用                          806577 non-null  bool   \n",
      " 150  detailed_usage_classification_住商辦用                         806577 non-null  bool   \n",
      " 151  detailed_usage_classification_住家用                          806577 non-null  bool   \n",
      " 152  detailed_usage_classification_住工用                          806577 non-null  bool   \n",
      " 153  detailed_usage_classification_住辦用                          806577 non-null  bool   \n",
      " 154  detailed_usage_classification_其他                           806577 non-null  bool   \n",
      " 155  detailed_usage_classification_商業用                          806577 non-null  bool   \n",
      " 156  detailed_usage_classification_商辦用                          806577 non-null  bool   \n",
      " 157  detailed_usage_classification_工商用                          806577 non-null  bool   \n",
      " 158  detailed_usage_classification_工商辦用                         806577 non-null  bool   \n",
      " 159  detailed_usage_classification_工業用                          806577 non-null  bool   \n",
      " 160  detailed_usage_classification_辦公用                          806577 non-null  bool   \n",
      " 161  detailed_usage_classification_農業用                          806577 non-null  bool   \n",
      " 162  property_b_l_p_type__房地(土地+建物)                             806577 non-null  bool   \n",
      " 163  property_b_l_p_type__房地(土地+建物)+車位                          806577 non-null  bool   \n",
      " 164  district__A01                                              806577 non-null  bool   \n",
      " 165  district__A02                                              806577 non-null  bool   \n",
      " 166  district__A03                                              806577 non-null  bool   \n",
      " 167  district__A05                                              806577 non-null  bool   \n",
      " 168  district__A09                                              806577 non-null  bool   \n",
      " 169  district__A10                                              806577 non-null  bool   \n",
      " 170  district__A11                                              806577 non-null  bool   \n",
      " 171  district__A13                                              806577 non-null  bool   \n",
      " 172  district__A14                                              806577 non-null  bool   \n",
      " 173  district__A15                                              806577 non-null  bool   \n",
      " 174  district__A16                                              806577 non-null  bool   \n",
      " 175  district__A17                                              806577 non-null  bool   \n",
      " 176  district__F01                                              806577 non-null  bool   \n",
      " 177  district__F02                                              806577 non-null  bool   \n",
      " 178  district__F03                                              806577 non-null  bool   \n",
      " 179  district__F04                                              806577 non-null  bool   \n",
      " 180  district__F05                                              806577 non-null  bool   \n",
      " 181  district__F06                                              806577 non-null  bool   \n",
      " 182  district__F07                                              806577 non-null  bool   \n",
      " 183  district__F08                                              806577 non-null  bool   \n",
      " 184  district__F09                                              806577 non-null  bool   \n",
      " 185  district__F10                                              806577 non-null  bool   \n",
      " 186  district__F11                                              806577 non-null  bool   \n",
      " 187  district__F14                                              806577 non-null  bool   \n",
      " 188  district__F15                                              806577 non-null  bool   \n",
      " 189  district__F16                                              806577 non-null  bool   \n",
      " 190  district__F17                                              806577 non-null  bool   \n",
      " 191  district__F18                                              806577 non-null  bool   \n",
      " 192  district__F19                                              806577 non-null  bool   \n",
      " 193  district__F21                                              806577 non-null  bool   \n",
      " 194  district__F22                                              806577 non-null  bool   \n",
      " 195  district__F23                                              806577 non-null  bool   \n",
      " 196  district__F24                                              806577 non-null  bool   \n",
      " 197  district__F25                                              806577 non-null  bool   \n",
      " 198  district__F26                                              806577 non-null  bool   \n",
      " 199  district__F27                                              806577 non-null  bool   \n",
      " 200  district__F28                                              806577 non-null  bool   \n",
      " 201  district__F30                                              806577 non-null  bool   \n",
      " 202  district__F31                                              806577 non-null  bool   \n",
      " 203  district__F32                                              806577 non-null  bool   \n",
      " 204  district__F33                                              806577 non-null  bool   \n",
      "dtypes: bool(73), float64(126), int32(1), int64(5)\n",
      "memory usage: 871.5 MB\n"
     ]
    }
   ],
   "source": [
    "df_clean.info(max_cols=205)"
   ]
  },
  {
   "cell_type": "code",
   "execution_count": 30,
   "metadata": {},
   "outputs": [],
   "source": [
    "X = df_clean.drop(['new_per_ping', 'total_price'], axis=1)\n",
    "y = df_clean['new_per_ping']"
   ]
  },
  {
   "cell_type": "code",
   "execution_count": 31,
   "metadata": {},
   "outputs": [],
   "source": [
    "# 切分資料集\n",
    "from sklearn.model_selection import train_test_split\n",
    "X_train, X_test, y_train, y_test = train_test_split(X, y, random_state=777, test_size=0.2)"
   ]
  },
  {
   "cell_type": "code",
   "execution_count": 32,
   "metadata": {},
   "outputs": [],
   "source": [
    "\n",
    "dtrain = xgboost.DMatrix(X_train, label=y_train)\n",
    "dtest = xgboost.DMatrix(X_test, label=y_test)"
   ]
  },
  {
   "cell_type": "code",
   "execution_count": 33,
   "metadata": {},
   "outputs": [],
   "source": [
    "params = {\n",
    "    # Parameters that we are going to tune.\n",
    "    'max_depth':6,\n",
    "    'min_child_weight': 1,\n",
    "    'eta':.3,\n",
    "    'subsample': 1,\n",
    "    'colsample_bytree': 1,\n",
    "    # Other parameters\n",
    "    'objective':'reg:linear',\n",
    "}\n",
    "num_boost_round = 1000"
   ]
  },
  {
   "cell_type": "code",
   "execution_count": 80,
   "metadata": {},
   "outputs": [
    {
     "name": "stderr",
     "output_type": "stream",
     "text": [
      "c:\\Users\\student\\anaconda3\\envs\\web_scraping\\lib\\site-packages\\xgboost\\core.py:160: UserWarning: [14:56:27] WARNING: C:\\buildkite-agent\\builds\\buildkite-windows-cpu-autoscaling-group-i-0b3782d1791676daf-1\\xgboost\\xgboost-ci-windows\\src\\objective\\regression_obj.cu:209: reg:linear is now deprecated in favor of reg:squarederror.\n",
      "  warnings.warn(smsg, UserWarning)\n",
      "c:\\Users\\student\\anaconda3\\envs\\web_scraping\\lib\\site-packages\\xgboost\\core.py:160: UserWarning: [14:56:28] WARNING: C:\\buildkite-agent\\builds\\buildkite-windows-cpu-autoscaling-group-i-0b3782d1791676daf-1\\xgboost\\xgboost-ci-windows\\src\\objective\\regression_obj.cu:209: reg:linear is now deprecated in favor of reg:squarederror.\n",
      "  warnings.warn(smsg, UserWarning)\n",
      "c:\\Users\\student\\anaconda3\\envs\\web_scraping\\lib\\site-packages\\xgboost\\core.py:160: UserWarning: [14:56:29] WARNING: C:\\buildkite-agent\\builds\\buildkite-windows-cpu-autoscaling-group-i-0b3782d1791676daf-1\\xgboost\\xgboost-ci-windows\\src\\objective\\regression_obj.cu:209: reg:linear is now deprecated in favor of reg:squarederror.\n",
      "  warnings.warn(smsg, UserWarning)\n",
      "c:\\Users\\student\\anaconda3\\envs\\web_scraping\\lib\\site-packages\\xgboost\\core.py:160: UserWarning: [14:56:30] WARNING: C:\\buildkite-agent\\builds\\buildkite-windows-cpu-autoscaling-group-i-0b3782d1791676daf-1\\xgboost\\xgboost-ci-windows\\src\\objective\\regression_obj.cu:209: reg:linear is now deprecated in favor of reg:squarederror.\n",
      "  warnings.warn(smsg, UserWarning)\n",
      "c:\\Users\\student\\anaconda3\\envs\\web_scraping\\lib\\site-packages\\xgboost\\core.py:160: UserWarning: [14:56:31] WARNING: C:\\buildkite-agent\\builds\\buildkite-windows-cpu-autoscaling-group-i-0b3782d1791676daf-1\\xgboost\\xgboost-ci-windows\\src\\objective\\regression_obj.cu:209: reg:linear is now deprecated in favor of reg:squarederror.\n",
      "  warnings.warn(smsg, UserWarning)\n",
      "c:\\Users\\student\\anaconda3\\envs\\web_scraping\\lib\\site-packages\\xgboost\\core.py:160: UserWarning: [14:56:32] WARNING: C:\\buildkite-agent\\builds\\buildkite-windows-cpu-autoscaling-group-i-0b3782d1791676daf-1\\xgboost\\xgboost-ci-windows\\src\\objective\\regression_obj.cu:209: reg:linear is now deprecated in favor of reg:squarederror.\n",
      "  warnings.warn(smsg, UserWarning)\n",
      "c:\\Users\\student\\anaconda3\\envs\\web_scraping\\lib\\site-packages\\xgboost\\core.py:160: UserWarning: [14:56:33] WARNING: C:\\buildkite-agent\\builds\\buildkite-windows-cpu-autoscaling-group-i-0b3782d1791676daf-1\\xgboost\\xgboost-ci-windows\\src\\objective\\regression_obj.cu:209: reg:linear is now deprecated in favor of reg:squarederror.\n",
      "  warnings.warn(smsg, UserWarning)\n",
      "c:\\Users\\student\\anaconda3\\envs\\web_scraping\\lib\\site-packages\\xgboost\\core.py:160: UserWarning: [14:56:34] WARNING: C:\\buildkite-agent\\builds\\buildkite-windows-cpu-autoscaling-group-i-0b3782d1791676daf-1\\xgboost\\xgboost-ci-windows\\src\\objective\\regression_obj.cu:209: reg:linear is now deprecated in favor of reg:squarederror.\n",
      "  warnings.warn(smsg, UserWarning)\n"
     ]
    },
    {
     "data": {
      "text/plain": [
       "train-rmse-mean    1.609226e+06\n",
       "train-rmse-std     3.708292e+05\n",
       "test-rmse-mean     8.998483e+05\n",
       "test-rmse-std      1.458828e+06\n",
       "dtype: float64"
      ]
     },
     "execution_count": 80,
     "metadata": {},
     "output_type": "execute_result"
    }
   ],
   "source": [
    "# 簡言之這邊是用來測試\"幾棵樹(weak learners)\"比較好，用來調最後的num_boost_round超參數\n",
    "# 每一棵樹做10 fold cross-validation 來衡量模型好壞(取10次平均)\n",
    "# num_boost_round: \"最多\"總共可以長出幾棵樹(每一棵樹都是一樣weak learner，)\n",
    "# early_stopping_rounds = n: 若近n次的衡量結果沒什麼變動，那就停止訓練(樹就不繼續長了)\n",
    "\n",
    "cv_results = xgboost.cv(\n",
    "    params,               # 其他超參數\n",
    "    dtrain,               # 訓練資料集\n",
    "    num_boost_round=10000, # 最多可以長到幾棵樹     # !!!看來還可以再深!!! # 2844\n",
    "    seed=39,         # 隨機種子測試時要固定\n",
    "    nfold=10,        # 每個模型跑幾次交叉驗證\n",
    "    metrics={'rmse'}, # 評估的標準\n",
    "    early_stopping_rounds=15  # 提早停止的標準\n",
    ")\n",
    "cv_results"
   ]
  },
  {
   "cell_type": "code",
   "execution_count": 48,
   "metadata": {},
   "outputs": [
    {
     "data": {
      "text/plain": [
       "train-mae-mean    29857.110240\n",
       "train-mae-std       129.824250\n",
       "test-mae-mean     56295.936522\n",
       "test-mae-std       6233.479288\n",
       "Name: 2844, dtype: float64"
      ]
     },
     "execution_count": 48,
     "metadata": {},
     "output_type": "execute_result"
    }
   ],
   "source": [
    "# 看哪個index有最小的test-mae-mean\n",
    "cv_results.idxmin()   # 2884"
   ]
  },
  {
   "cell_type": "code",
   "execution_count": 35,
   "metadata": {},
   "outputs": [
    {
     "data": {
      "text/plain": [
       "[(9, 5), (9, 6), (9, 7), (10, 5), (10, 6), (10, 7), (11, 5), (11, 6), (11, 7)]"
      ]
     },
     "execution_count": 35,
     "metadata": {},
     "output_type": "execute_result"
    }
   ],
   "source": [
    "# 調整這兩個超參 max_depth, min_child_weight\n",
    "\n",
    "gridsearch_params = [\n",
    "    (max_depth, min_child_weight)\n",
    "    for max_depth in range(9,12)\n",
    "    for min_child_weight in range(5,8)\n",
    "] # 9 elements\n",
    "gridsearch_params"
   ]
  },
  {
   "cell_type": "code",
   "execution_count": 82,
   "metadata": {},
   "outputs": [
    {
     "name": "stdout",
     "output_type": "stream",
     "text": [
      "CV with max_depth=9, min_child_weight=5\n"
     ]
    },
    {
     "name": "stderr",
     "output_type": "stream",
     "text": [
      "c:\\Users\\student\\anaconda3\\envs\\web_scraping\\lib\\site-packages\\xgboost\\core.py:160: UserWarning: [14:58:52] WARNING: C:\\buildkite-agent\\builds\\buildkite-windows-cpu-autoscaling-group-i-0b3782d1791676daf-1\\xgboost\\xgboost-ci-windows\\src\\objective\\regression_obj.cu:209: reg:linear is now deprecated in favor of reg:squarederror.\n",
      "  warnings.warn(smsg, UserWarning)\n",
      "c:\\Users\\student\\anaconda3\\envs\\web_scraping\\lib\\site-packages\\xgboost\\core.py:160: UserWarning: [14:58:53] WARNING: C:\\buildkite-agent\\builds\\buildkite-windows-cpu-autoscaling-group-i-0b3782d1791676daf-1\\xgboost\\xgboost-ci-windows\\src\\objective\\regression_obj.cu:209: reg:linear is now deprecated in favor of reg:squarederror.\n",
      "  warnings.warn(smsg, UserWarning)\n",
      "c:\\Users\\student\\anaconda3\\envs\\web_scraping\\lib\\site-packages\\xgboost\\core.py:160: UserWarning: [14:58:54] WARNING: C:\\buildkite-agent\\builds\\buildkite-windows-cpu-autoscaling-group-i-0b3782d1791676daf-1\\xgboost\\xgboost-ci-windows\\src\\objective\\regression_obj.cu:209: reg:linear is now deprecated in favor of reg:squarederror.\n",
      "  warnings.warn(smsg, UserWarning)\n"
     ]
    },
    {
     "name": "stdout",
     "output_type": "stream",
     "text": [
      "\tMAE 1107248.3348472877 for 16 rounds\n",
      "CV with max_depth=9, min_child_weight=6\n"
     ]
    },
    {
     "name": "stderr",
     "output_type": "stream",
     "text": [
      "c:\\Users\\student\\anaconda3\\envs\\web_scraping\\lib\\site-packages\\xgboost\\core.py:160: UserWarning: [14:59:08] WARNING: C:\\buildkite-agent\\builds\\buildkite-windows-cpu-autoscaling-group-i-0b3782d1791676daf-1\\xgboost\\xgboost-ci-windows\\src\\objective\\regression_obj.cu:209: reg:linear is now deprecated in favor of reg:squarederror.\n",
      "  warnings.warn(smsg, UserWarning)\n",
      "c:\\Users\\student\\anaconda3\\envs\\web_scraping\\lib\\site-packages\\xgboost\\core.py:160: UserWarning: [14:59:09] WARNING: C:\\buildkite-agent\\builds\\buildkite-windows-cpu-autoscaling-group-i-0b3782d1791676daf-1\\xgboost\\xgboost-ci-windows\\src\\objective\\regression_obj.cu:209: reg:linear is now deprecated in favor of reg:squarederror.\n",
      "  warnings.warn(smsg, UserWarning)\n",
      "c:\\Users\\student\\anaconda3\\envs\\web_scraping\\lib\\site-packages\\xgboost\\core.py:160: UserWarning: [14:59:10] WARNING: C:\\buildkite-agent\\builds\\buildkite-windows-cpu-autoscaling-group-i-0b3782d1791676daf-1\\xgboost\\xgboost-ci-windows\\src\\objective\\regression_obj.cu:209: reg:linear is now deprecated in favor of reg:squarederror.\n",
      "  warnings.warn(smsg, UserWarning)\n",
      "c:\\Users\\student\\anaconda3\\envs\\web_scraping\\lib\\site-packages\\xgboost\\core.py:160: UserWarning: [14:59:11] WARNING: C:\\buildkite-agent\\builds\\buildkite-windows-cpu-autoscaling-group-i-0b3782d1791676daf-1\\xgboost\\xgboost-ci-windows\\src\\objective\\regression_obj.cu:209: reg:linear is now deprecated in favor of reg:squarederror.\n",
      "  warnings.warn(smsg, UserWarning)\n"
     ]
    },
    {
     "name": "stdout",
     "output_type": "stream",
     "text": [
      "\tMAE 1100975.9358304485 for 51 rounds\n",
      "CV with max_depth=9, min_child_weight=7\n"
     ]
    },
    {
     "name": "stderr",
     "output_type": "stream",
     "text": [
      "c:\\Users\\student\\anaconda3\\envs\\web_scraping\\lib\\site-packages\\xgboost\\core.py:160: UserWarning: [14:59:36] WARNING: C:\\buildkite-agent\\builds\\buildkite-windows-cpu-autoscaling-group-i-0b3782d1791676daf-1\\xgboost\\xgboost-ci-windows\\src\\objective\\regression_obj.cu:209: reg:linear is now deprecated in favor of reg:squarederror.\n",
      "  warnings.warn(smsg, UserWarning)\n",
      "c:\\Users\\student\\anaconda3\\envs\\web_scraping\\lib\\site-packages\\xgboost\\core.py:160: UserWarning: [14:59:37] WARNING: C:\\buildkite-agent\\builds\\buildkite-windows-cpu-autoscaling-group-i-0b3782d1791676daf-1\\xgboost\\xgboost-ci-windows\\src\\objective\\regression_obj.cu:209: reg:linear is now deprecated in favor of reg:squarederror.\n",
      "  warnings.warn(smsg, UserWarning)\n",
      "c:\\Users\\student\\anaconda3\\envs\\web_scraping\\lib\\site-packages\\xgboost\\core.py:160: UserWarning: [14:59:38] WARNING: C:\\buildkite-agent\\builds\\buildkite-windows-cpu-autoscaling-group-i-0b3782d1791676daf-1\\xgboost\\xgboost-ci-windows\\src\\objective\\regression_obj.cu:209: reg:linear is now deprecated in favor of reg:squarederror.\n",
      "  warnings.warn(smsg, UserWarning)\n"
     ]
    },
    {
     "name": "stdout",
     "output_type": "stream",
     "text": [
      "\tMAE 1101013.810216446 for 56 rounds\n",
      "CV with max_depth=10, min_child_weight=5\n"
     ]
    },
    {
     "name": "stderr",
     "output_type": "stream",
     "text": [
      "c:\\Users\\student\\anaconda3\\envs\\web_scraping\\lib\\site-packages\\xgboost\\core.py:160: UserWarning: [15:00:04] WARNING: C:\\buildkite-agent\\builds\\buildkite-windows-cpu-autoscaling-group-i-0b3782d1791676daf-1\\xgboost\\xgboost-ci-windows\\src\\objective\\regression_obj.cu:209: reg:linear is now deprecated in favor of reg:squarederror.\n",
      "  warnings.warn(smsg, UserWarning)\n",
      "c:\\Users\\student\\anaconda3\\envs\\web_scraping\\lib\\site-packages\\xgboost\\core.py:160: UserWarning: [15:00:05] WARNING: C:\\buildkite-agent\\builds\\buildkite-windows-cpu-autoscaling-group-i-0b3782d1791676daf-1\\xgboost\\xgboost-ci-windows\\src\\objective\\regression_obj.cu:209: reg:linear is now deprecated in favor of reg:squarederror.\n",
      "  warnings.warn(smsg, UserWarning)\n",
      "c:\\Users\\student\\anaconda3\\envs\\web_scraping\\lib\\site-packages\\xgboost\\core.py:160: UserWarning: [15:00:06] WARNING: C:\\buildkite-agent\\builds\\buildkite-windows-cpu-autoscaling-group-i-0b3782d1791676daf-1\\xgboost\\xgboost-ci-windows\\src\\objective\\regression_obj.cu:209: reg:linear is now deprecated in favor of reg:squarederror.\n",
      "  warnings.warn(smsg, UserWarning)\n"
     ]
    },
    {
     "name": "stdout",
     "output_type": "stream",
     "text": [
      "\tMAE 1106986.7384577026 for 17 rounds\n",
      "CV with max_depth=10, min_child_weight=6\n"
     ]
    },
    {
     "name": "stderr",
     "output_type": "stream",
     "text": [
      "c:\\Users\\student\\anaconda3\\envs\\web_scraping\\lib\\site-packages\\xgboost\\core.py:160: UserWarning: [15:00:21] WARNING: C:\\buildkite-agent\\builds\\buildkite-windows-cpu-autoscaling-group-i-0b3782d1791676daf-1\\xgboost\\xgboost-ci-windows\\src\\objective\\regression_obj.cu:209: reg:linear is now deprecated in favor of reg:squarederror.\n",
      "  warnings.warn(smsg, UserWarning)\n",
      "c:\\Users\\student\\anaconda3\\envs\\web_scraping\\lib\\site-packages\\xgboost\\core.py:160: UserWarning: [15:00:22] WARNING: C:\\buildkite-agent\\builds\\buildkite-windows-cpu-autoscaling-group-i-0b3782d1791676daf-1\\xgboost\\xgboost-ci-windows\\src\\objective\\regression_obj.cu:209: reg:linear is now deprecated in favor of reg:squarederror.\n",
      "  warnings.warn(smsg, UserWarning)\n",
      "c:\\Users\\student\\anaconda3\\envs\\web_scraping\\lib\\site-packages\\xgboost\\core.py:160: UserWarning: [15:00:23] WARNING: C:\\buildkite-agent\\builds\\buildkite-windows-cpu-autoscaling-group-i-0b3782d1791676daf-1\\xgboost\\xgboost-ci-windows\\src\\objective\\regression_obj.cu:209: reg:linear is now deprecated in favor of reg:squarederror.\n",
      "  warnings.warn(smsg, UserWarning)\n",
      "c:\\Users\\student\\anaconda3\\envs\\web_scraping\\lib\\site-packages\\xgboost\\core.py:160: UserWarning: [15:00:24] WARNING: C:\\buildkite-agent\\builds\\buildkite-windows-cpu-autoscaling-group-i-0b3782d1791676daf-1\\xgboost\\xgboost-ci-windows\\src\\objective\\regression_obj.cu:209: reg:linear is now deprecated in favor of reg:squarederror.\n",
      "  warnings.warn(smsg, UserWarning)\n"
     ]
    },
    {
     "name": "stdout",
     "output_type": "stream",
     "text": [
      "\tMAE 1100351.8622219188 for 57 rounds\n",
      "CV with max_depth=10, min_child_weight=7\n"
     ]
    },
    {
     "name": "stderr",
     "output_type": "stream",
     "text": [
      "c:\\Users\\student\\anaconda3\\envs\\web_scraping\\lib\\site-packages\\xgboost\\core.py:160: UserWarning: [15:00:52] WARNING: C:\\buildkite-agent\\builds\\buildkite-windows-cpu-autoscaling-group-i-0b3782d1791676daf-1\\xgboost\\xgboost-ci-windows\\src\\objective\\regression_obj.cu:209: reg:linear is now deprecated in favor of reg:squarederror.\n",
      "  warnings.warn(smsg, UserWarning)\n",
      "c:\\Users\\student\\anaconda3\\envs\\web_scraping\\lib\\site-packages\\xgboost\\core.py:160: UserWarning: [15:00:53] WARNING: C:\\buildkite-agent\\builds\\buildkite-windows-cpu-autoscaling-group-i-0b3782d1791676daf-1\\xgboost\\xgboost-ci-windows\\src\\objective\\regression_obj.cu:209: reg:linear is now deprecated in favor of reg:squarederror.\n",
      "  warnings.warn(smsg, UserWarning)\n",
      "c:\\Users\\student\\anaconda3\\envs\\web_scraping\\lib\\site-packages\\xgboost\\core.py:160: UserWarning: [15:00:54] WARNING: C:\\buildkite-agent\\builds\\buildkite-windows-cpu-autoscaling-group-i-0b3782d1791676daf-1\\xgboost\\xgboost-ci-windows\\src\\objective\\regression_obj.cu:209: reg:linear is now deprecated in favor of reg:squarederror.\n",
      "  warnings.warn(smsg, UserWarning)\n"
     ]
    },
    {
     "name": "stdout",
     "output_type": "stream",
     "text": [
      "\tMAE 1100126.969425211 for 56 rounds\n",
      "CV with max_depth=11, min_child_weight=5\n"
     ]
    },
    {
     "name": "stderr",
     "output_type": "stream",
     "text": [
      "c:\\Users\\student\\anaconda3\\envs\\web_scraping\\lib\\site-packages\\xgboost\\core.py:160: UserWarning: [15:01:24] WARNING: C:\\buildkite-agent\\builds\\buildkite-windows-cpu-autoscaling-group-i-0b3782d1791676daf-1\\xgboost\\xgboost-ci-windows\\src\\objective\\regression_obj.cu:209: reg:linear is now deprecated in favor of reg:squarederror.\n",
      "  warnings.warn(smsg, UserWarning)\n",
      "c:\\Users\\student\\anaconda3\\envs\\web_scraping\\lib\\site-packages\\xgboost\\core.py:160: UserWarning: [15:01:25] WARNING: C:\\buildkite-agent\\builds\\buildkite-windows-cpu-autoscaling-group-i-0b3782d1791676daf-1\\xgboost\\xgboost-ci-windows\\src\\objective\\regression_obj.cu:209: reg:linear is now deprecated in favor of reg:squarederror.\n",
      "  warnings.warn(smsg, UserWarning)\n",
      "c:\\Users\\student\\anaconda3\\envs\\web_scraping\\lib\\site-packages\\xgboost\\core.py:160: UserWarning: [15:01:26] WARNING: C:\\buildkite-agent\\builds\\buildkite-windows-cpu-autoscaling-group-i-0b3782d1791676daf-1\\xgboost\\xgboost-ci-windows\\src\\objective\\regression_obj.cu:209: reg:linear is now deprecated in favor of reg:squarederror.\n",
      "  warnings.warn(smsg, UserWarning)\n"
     ]
    },
    {
     "name": "stdout",
     "output_type": "stream",
     "text": [
      "\tMAE 1106758.9308136601 for 17 rounds\n",
      "CV with max_depth=11, min_child_weight=6\n"
     ]
    },
    {
     "name": "stderr",
     "output_type": "stream",
     "text": [
      "c:\\Users\\student\\anaconda3\\envs\\web_scraping\\lib\\site-packages\\xgboost\\core.py:160: UserWarning: [15:01:43] WARNING: C:\\buildkite-agent\\builds\\buildkite-windows-cpu-autoscaling-group-i-0b3782d1791676daf-1\\xgboost\\xgboost-ci-windows\\src\\objective\\regression_obj.cu:209: reg:linear is now deprecated in favor of reg:squarederror.\n",
      "  warnings.warn(smsg, UserWarning)\n",
      "c:\\Users\\student\\anaconda3\\envs\\web_scraping\\lib\\site-packages\\xgboost\\core.py:160: UserWarning: [15:01:44] WARNING: C:\\buildkite-agent\\builds\\buildkite-windows-cpu-autoscaling-group-i-0b3782d1791676daf-1\\xgboost\\xgboost-ci-windows\\src\\objective\\regression_obj.cu:209: reg:linear is now deprecated in favor of reg:squarederror.\n",
      "  warnings.warn(smsg, UserWarning)\n",
      "c:\\Users\\student\\anaconda3\\envs\\web_scraping\\lib\\site-packages\\xgboost\\core.py:160: UserWarning: [15:01:45] WARNING: C:\\buildkite-agent\\builds\\buildkite-windows-cpu-autoscaling-group-i-0b3782d1791676daf-1\\xgboost\\xgboost-ci-windows\\src\\objective\\regression_obj.cu:209: reg:linear is now deprecated in favor of reg:squarederror.\n",
      "  warnings.warn(smsg, UserWarning)\n",
      "c:\\Users\\student\\anaconda3\\envs\\web_scraping\\lib\\site-packages\\xgboost\\core.py:160: UserWarning: [15:01:46] WARNING: C:\\buildkite-agent\\builds\\buildkite-windows-cpu-autoscaling-group-i-0b3782d1791676daf-1\\xgboost\\xgboost-ci-windows\\src\\objective\\regression_obj.cu:209: reg:linear is now deprecated in favor of reg:squarederror.\n",
      "  warnings.warn(smsg, UserWarning)\n"
     ]
    },
    {
     "name": "stdout",
     "output_type": "stream",
     "text": [
      "\tMAE 1099737.414637231 for 57 rounds\n",
      "CV with max_depth=11, min_child_weight=7\n"
     ]
    },
    {
     "name": "stderr",
     "output_type": "stream",
     "text": [
      "c:\\Users\\student\\anaconda3\\envs\\web_scraping\\lib\\site-packages\\xgboost\\core.py:160: UserWarning: [15:02:19] WARNING: C:\\buildkite-agent\\builds\\buildkite-windows-cpu-autoscaling-group-i-0b3782d1791676daf-1\\xgboost\\xgboost-ci-windows\\src\\objective\\regression_obj.cu:209: reg:linear is now deprecated in favor of reg:squarederror.\n",
      "  warnings.warn(smsg, UserWarning)\n",
      "c:\\Users\\student\\anaconda3\\envs\\web_scraping\\lib\\site-packages\\xgboost\\core.py:160: UserWarning: [15:02:20] WARNING: C:\\buildkite-agent\\builds\\buildkite-windows-cpu-autoscaling-group-i-0b3782d1791676daf-1\\xgboost\\xgboost-ci-windows\\src\\objective\\regression_obj.cu:209: reg:linear is now deprecated in favor of reg:squarederror.\n",
      "  warnings.warn(smsg, UserWarning)\n",
      "c:\\Users\\student\\anaconda3\\envs\\web_scraping\\lib\\site-packages\\xgboost\\core.py:160: UserWarning: [15:02:21] WARNING: C:\\buildkite-agent\\builds\\buildkite-windows-cpu-autoscaling-group-i-0b3782d1791676daf-1\\xgboost\\xgboost-ci-windows\\src\\objective\\regression_obj.cu:209: reg:linear is now deprecated in favor of reg:squarederror.\n",
      "  warnings.warn(smsg, UserWarning)\n",
      "c:\\Users\\student\\anaconda3\\envs\\web_scraping\\lib\\site-packages\\xgboost\\core.py:160: UserWarning: [15:02:22] WARNING: C:\\buildkite-agent\\builds\\buildkite-windows-cpu-autoscaling-group-i-0b3782d1791676daf-1\\xgboost\\xgboost-ci-windows\\src\\objective\\regression_obj.cu:209: reg:linear is now deprecated in favor of reg:squarederror.\n",
      "  warnings.warn(smsg, UserWarning)\n"
     ]
    },
    {
     "name": "stdout",
     "output_type": "stream",
     "text": [
      "\tMAE 1099513.121961423 for 60 rounds\n",
      "Best params: 11, 7, MAE: 1099513.121961423\n"
     ]
    }
   ],
   "source": [
    "# Define initial best params and MAE   \n",
    "# Best params: 10, 5, MAE: 64972.64892741657\n",
    "min_mae = float(\"Inf\")\n",
    "best_params = None\n",
    "for max_depth, min_child_weight in gridsearch_params:\n",
    "    print(\"CV with max_depth={}, min_child_weight={}\".format(\n",
    "                             max_depth,\n",
    "                             min_child_weight))\n",
    "    # Update our parameters\n",
    "    params['max_depth'] = max_depth\n",
    "    params['min_child_weight'] = min_child_weight\n",
    "    # Run CV\n",
    "    cv_results = xgboost.cv(             # cv_results會是一個dataframe，會有選擇評估標準的column名稱\n",
    "        params,                          # ex: metrics={'mae'}, 會有train-mae-mean,test-mae-mean\n",
    "        dtrain,\n",
    "        num_boost_round=num_boost_round,\n",
    "        seed=42,\n",
    "        nfold=5,\n",
    "        metrics={'rmse'},\n",
    "        early_stopping_rounds=10\n",
    "    )\n",
    "    # Update best MAE\n",
    "    mean_mae = cv_results['test-rmse-mean'].min()   # 改成算rmse\n",
    "    boost_rounds = cv_results['test-rmse-mean'].argmin()\n",
    "    print(\"\\tMAE {} for {} rounds\".format(mean_mae, boost_rounds))\n",
    "    if mean_mae < min_mae:\n",
    "        min_mae = mean_mae\n",
    "        best_params = (max_depth,min_child_weight)\n",
    "print(\"Best params: {}, {}, MAE: {}\".format(best_params[0], best_params[1], min_mae))"
   ]
  },
  {
   "cell_type": "code",
   "execution_count": null,
   "metadata": {},
   "outputs": [],
   "source": [
    "gridsearch_params = [\n",
    "    (subsample, colsample)\n",
    "    for subsample in [i/10. for i in range(7,11)]\n",
    "    for colsample in [i/10. for i in range(7,11)]\n",
    "] # 16 elements"
   ]
  },
  {
   "cell_type": "code",
   "execution_count": null,
   "metadata": {},
   "outputs": [
    {
     "name": "stdout",
     "output_type": "stream",
     "text": [
      "CV with subsample=1.0, colsample=1.0\n"
     ]
    },
    {
     "name": "stderr",
     "output_type": "stream",
     "text": [
      "c:\\Users\\student\\anaconda3\\envs\\web_scraping\\lib\\site-packages\\xgboost\\core.py:160: UserWarning: [19:40:47] WARNING: C:\\buildkite-agent\\builds\\buildkite-windows-cpu-autoscaling-group-i-0b3782d1791676daf-1\\xgboost\\xgboost-ci-windows\\src\\objective\\regression_obj.cu:209: reg:linear is now deprecated in favor of reg:squarederror.\n",
      "  warnings.warn(smsg, UserWarning)\n",
      "c:\\Users\\student\\anaconda3\\envs\\web_scraping\\lib\\site-packages\\xgboost\\core.py:160: UserWarning: [19:40:48] WARNING: C:\\buildkite-agent\\builds\\buildkite-windows-cpu-autoscaling-group-i-0b3782d1791676daf-1\\xgboost\\xgboost-ci-windows\\src\\objective\\regression_obj.cu:209: reg:linear is now deprecated in favor of reg:squarederror.\n",
      "  warnings.warn(smsg, UserWarning)\n",
      "c:\\Users\\student\\anaconda3\\envs\\web_scraping\\lib\\site-packages\\xgboost\\core.py:160: UserWarning: [19:40:49] WARNING: C:\\buildkite-agent\\builds\\buildkite-windows-cpu-autoscaling-group-i-0b3782d1791676daf-1\\xgboost\\xgboost-ci-windows\\src\\objective\\regression_obj.cu:209: reg:linear is now deprecated in favor of reg:squarederror.\n",
      "  warnings.warn(smsg, UserWarning)\n",
      "c:\\Users\\student\\anaconda3\\envs\\web_scraping\\lib\\site-packages\\xgboost\\core.py:160: UserWarning: [19:40:50] WARNING: C:\\buildkite-agent\\builds\\buildkite-windows-cpu-autoscaling-group-i-0b3782d1791676daf-1\\xgboost\\xgboost-ci-windows\\src\\objective\\regression_obj.cu:209: reg:linear is now deprecated in favor of reg:squarederror.\n",
      "  warnings.warn(smsg, UserWarning)\n",
      "c:\\Users\\student\\anaconda3\\envs\\web_scraping\\lib\\site-packages\\xgboost\\core.py:160: UserWarning: [19:40:51] WARNING: C:\\buildkite-agent\\builds\\buildkite-windows-cpu-autoscaling-group-i-0b3782d1791676daf-1\\xgboost\\xgboost-ci-windows\\src\\objective\\regression_obj.cu:209: reg:linear is now deprecated in favor of reg:squarederror.\n",
      "  warnings.warn(smsg, UserWarning)\n"
     ]
    },
    {
     "name": "stdout",
     "output_type": "stream",
     "text": [
      "\tMAE 65449.73520929491 for 680 rounds\n",
      "CV with subsample=1.0, colsample=0.9\n"
     ]
    },
    {
     "name": "stderr",
     "output_type": "stream",
     "text": [
      "c:\\Users\\student\\anaconda3\\envs\\web_scraping\\lib\\site-packages\\xgboost\\core.py:160: UserWarning: [19:46:14] WARNING: C:\\buildkite-agent\\builds\\buildkite-windows-cpu-autoscaling-group-i-0b3782d1791676daf-1\\xgboost\\xgboost-ci-windows\\src\\objective\\regression_obj.cu:209: reg:linear is now deprecated in favor of reg:squarederror.\n",
      "  warnings.warn(smsg, UserWarning)\n",
      "c:\\Users\\student\\anaconda3\\envs\\web_scraping\\lib\\site-packages\\xgboost\\core.py:160: UserWarning: [19:46:15] WARNING: C:\\buildkite-agent\\builds\\buildkite-windows-cpu-autoscaling-group-i-0b3782d1791676daf-1\\xgboost\\xgboost-ci-windows\\src\\objective\\regression_obj.cu:209: reg:linear is now deprecated in favor of reg:squarederror.\n",
      "  warnings.warn(smsg, UserWarning)\n",
      "c:\\Users\\student\\anaconda3\\envs\\web_scraping\\lib\\site-packages\\xgboost\\core.py:160: UserWarning: [19:46:16] WARNING: C:\\buildkite-agent\\builds\\buildkite-windows-cpu-autoscaling-group-i-0b3782d1791676daf-1\\xgboost\\xgboost-ci-windows\\src\\objective\\regression_obj.cu:209: reg:linear is now deprecated in favor of reg:squarederror.\n",
      "  warnings.warn(smsg, UserWarning)\n",
      "c:\\Users\\student\\anaconda3\\envs\\web_scraping\\lib\\site-packages\\xgboost\\core.py:160: UserWarning: [19:46:17] WARNING: C:\\buildkite-agent\\builds\\buildkite-windows-cpu-autoscaling-group-i-0b3782d1791676daf-1\\xgboost\\xgboost-ci-windows\\src\\objective\\regression_obj.cu:209: reg:linear is now deprecated in favor of reg:squarederror.\n",
      "  warnings.warn(smsg, UserWarning)\n"
     ]
    },
    {
     "name": "stdout",
     "output_type": "stream",
     "text": [
      "\tMAE 65962.33303309506 for 616 rounds\n",
      "CV with subsample=1.0, colsample=0.8\n"
     ]
    },
    {
     "name": "stderr",
     "output_type": "stream",
     "text": [
      "c:\\Users\\student\\anaconda3\\envs\\web_scraping\\lib\\site-packages\\xgboost\\core.py:160: UserWarning: [19:51:44] WARNING: C:\\buildkite-agent\\builds\\buildkite-windows-cpu-autoscaling-group-i-0b3782d1791676daf-1\\xgboost\\xgboost-ci-windows\\src\\objective\\regression_obj.cu:209: reg:linear is now deprecated in favor of reg:squarederror.\n",
      "  warnings.warn(smsg, UserWarning)\n",
      "c:\\Users\\student\\anaconda3\\envs\\web_scraping\\lib\\site-packages\\xgboost\\core.py:160: UserWarning: [19:51:45] WARNING: C:\\buildkite-agent\\builds\\buildkite-windows-cpu-autoscaling-group-i-0b3782d1791676daf-1\\xgboost\\xgboost-ci-windows\\src\\objective\\regression_obj.cu:209: reg:linear is now deprecated in favor of reg:squarederror.\n",
      "  warnings.warn(smsg, UserWarning)\n",
      "c:\\Users\\student\\anaconda3\\envs\\web_scraping\\lib\\site-packages\\xgboost\\core.py:160: UserWarning: [19:51:46] WARNING: C:\\buildkite-agent\\builds\\buildkite-windows-cpu-autoscaling-group-i-0b3782d1791676daf-1\\xgboost\\xgboost-ci-windows\\src\\objective\\regression_obj.cu:209: reg:linear is now deprecated in favor of reg:squarederror.\n",
      "  warnings.warn(smsg, UserWarning)\n",
      "c:\\Users\\student\\anaconda3\\envs\\web_scraping\\lib\\site-packages\\xgboost\\core.py:160: UserWarning: [19:51:47] WARNING: C:\\buildkite-agent\\builds\\buildkite-windows-cpu-autoscaling-group-i-0b3782d1791676daf-1\\xgboost\\xgboost-ci-windows\\src\\objective\\regression_obj.cu:209: reg:linear is now deprecated in favor of reg:squarederror.\n",
      "  warnings.warn(smsg, UserWarning)\n",
      "c:\\Users\\student\\anaconda3\\envs\\web_scraping\\lib\\site-packages\\xgboost\\core.py:160: UserWarning: [19:51:49] WARNING: C:\\buildkite-agent\\builds\\buildkite-windows-cpu-autoscaling-group-i-0b3782d1791676daf-1\\xgboost\\xgboost-ci-windows\\src\\objective\\regression_obj.cu:209: reg:linear is now deprecated in favor of reg:squarederror.\n",
      "  warnings.warn(smsg, UserWarning)\n"
     ]
    },
    {
     "name": "stdout",
     "output_type": "stream",
     "text": [
      "\tMAE 69123.86546766646 for 706 rounds\n",
      "CV with subsample=1.0, colsample=0.7\n"
     ]
    },
    {
     "name": "stderr",
     "output_type": "stream",
     "text": [
      "c:\\Users\\student\\anaconda3\\envs\\web_scraping\\lib\\site-packages\\xgboost\\core.py:160: UserWarning: [19:58:43] WARNING: C:\\buildkite-agent\\builds\\buildkite-windows-cpu-autoscaling-group-i-0b3782d1791676daf-1\\xgboost\\xgboost-ci-windows\\src\\objective\\regression_obj.cu:209: reg:linear is now deprecated in favor of reg:squarederror.\n",
      "  warnings.warn(smsg, UserWarning)\n",
      "c:\\Users\\student\\anaconda3\\envs\\web_scraping\\lib\\site-packages\\xgboost\\core.py:160: UserWarning: [19:58:44] WARNING: C:\\buildkite-agent\\builds\\buildkite-windows-cpu-autoscaling-group-i-0b3782d1791676daf-1\\xgboost\\xgboost-ci-windows\\src\\objective\\regression_obj.cu:209: reg:linear is now deprecated in favor of reg:squarederror.\n",
      "  warnings.warn(smsg, UserWarning)\n",
      "c:\\Users\\student\\anaconda3\\envs\\web_scraping\\lib\\site-packages\\xgboost\\core.py:160: UserWarning: [19:58:45] WARNING: C:\\buildkite-agent\\builds\\buildkite-windows-cpu-autoscaling-group-i-0b3782d1791676daf-1\\xgboost\\xgboost-ci-windows\\src\\objective\\regression_obj.cu:209: reg:linear is now deprecated in favor of reg:squarederror.\n",
      "  warnings.warn(smsg, UserWarning)\n",
      "c:\\Users\\student\\anaconda3\\envs\\web_scraping\\lib\\site-packages\\xgboost\\core.py:160: UserWarning: [19:58:46] WARNING: C:\\buildkite-agent\\builds\\buildkite-windows-cpu-autoscaling-group-i-0b3782d1791676daf-1\\xgboost\\xgboost-ci-windows\\src\\objective\\regression_obj.cu:209: reg:linear is now deprecated in favor of reg:squarederror.\n",
      "  warnings.warn(smsg, UserWarning)\n",
      "c:\\Users\\student\\anaconda3\\envs\\web_scraping\\lib\\site-packages\\xgboost\\core.py:160: UserWarning: [19:58:47] WARNING: C:\\buildkite-agent\\builds\\buildkite-windows-cpu-autoscaling-group-i-0b3782d1791676daf-1\\xgboost\\xgboost-ci-windows\\src\\objective\\regression_obj.cu:209: reg:linear is now deprecated in favor of reg:squarederror.\n",
      "  warnings.warn(smsg, UserWarning)\n"
     ]
    },
    {
     "name": "stdout",
     "output_type": "stream",
     "text": [
      "\tMAE 78582.03067128503 for 16 rounds\n",
      "CV with subsample=0.9, colsample=1.0\n"
     ]
    },
    {
     "name": "stderr",
     "output_type": "stream",
     "text": [
      "c:\\Users\\student\\anaconda3\\envs\\web_scraping\\lib\\site-packages\\xgboost\\core.py:160: UserWarning: [19:59:09] WARNING: C:\\buildkite-agent\\builds\\buildkite-windows-cpu-autoscaling-group-i-0b3782d1791676daf-1\\xgboost\\xgboost-ci-windows\\src\\objective\\regression_obj.cu:209: reg:linear is now deprecated in favor of reg:squarederror.\n",
      "  warnings.warn(smsg, UserWarning)\n",
      "c:\\Users\\student\\anaconda3\\envs\\web_scraping\\lib\\site-packages\\xgboost\\core.py:160: UserWarning: [19:59:10] WARNING: C:\\buildkite-agent\\builds\\buildkite-windows-cpu-autoscaling-group-i-0b3782d1791676daf-1\\xgboost\\xgboost-ci-windows\\src\\objective\\regression_obj.cu:209: reg:linear is now deprecated in favor of reg:squarederror.\n",
      "  warnings.warn(smsg, UserWarning)\n",
      "c:\\Users\\student\\anaconda3\\envs\\web_scraping\\lib\\site-packages\\xgboost\\core.py:160: UserWarning: [19:59:11] WARNING: C:\\buildkite-agent\\builds\\buildkite-windows-cpu-autoscaling-group-i-0b3782d1791676daf-1\\xgboost\\xgboost-ci-windows\\src\\objective\\regression_obj.cu:209: reg:linear is now deprecated in favor of reg:squarederror.\n",
      "  warnings.warn(smsg, UserWarning)\n",
      "c:\\Users\\student\\anaconda3\\envs\\web_scraping\\lib\\site-packages\\xgboost\\core.py:160: UserWarning: [19:59:12] WARNING: C:\\buildkite-agent\\builds\\buildkite-windows-cpu-autoscaling-group-i-0b3782d1791676daf-1\\xgboost\\xgboost-ci-windows\\src\\objective\\regression_obj.cu:209: reg:linear is now deprecated in favor of reg:squarederror.\n",
      "  warnings.warn(smsg, UserWarning)\n",
      "c:\\Users\\student\\anaconda3\\envs\\web_scraping\\lib\\site-packages\\xgboost\\core.py:160: UserWarning: [19:59:13] WARNING: C:\\buildkite-agent\\builds\\buildkite-windows-cpu-autoscaling-group-i-0b3782d1791676daf-1\\xgboost\\xgboost-ci-windows\\src\\objective\\regression_obj.cu:209: reg:linear is now deprecated in favor of reg:squarederror.\n",
      "  warnings.warn(smsg, UserWarning)\n"
     ]
    },
    {
     "name": "stdout",
     "output_type": "stream",
     "text": [
      "\tMAE 65361.50899472935 for 814 rounds\n",
      "CV with subsample=0.9, colsample=0.9\n"
     ]
    },
    {
     "name": "stderr",
     "output_type": "stream",
     "text": [
      "c:\\Users\\student\\anaconda3\\envs\\web_scraping\\lib\\site-packages\\xgboost\\core.py:160: UserWarning: [20:05:43] WARNING: C:\\buildkite-agent\\builds\\buildkite-windows-cpu-autoscaling-group-i-0b3782d1791676daf-1\\xgboost\\xgboost-ci-windows\\src\\objective\\regression_obj.cu:209: reg:linear is now deprecated in favor of reg:squarederror.\n",
      "  warnings.warn(smsg, UserWarning)\n",
      "c:\\Users\\student\\anaconda3\\envs\\web_scraping\\lib\\site-packages\\xgboost\\core.py:160: UserWarning: [20:05:44] WARNING: C:\\buildkite-agent\\builds\\buildkite-windows-cpu-autoscaling-group-i-0b3782d1791676daf-1\\xgboost\\xgboost-ci-windows\\src\\objective\\regression_obj.cu:209: reg:linear is now deprecated in favor of reg:squarederror.\n",
      "  warnings.warn(smsg, UserWarning)\n",
      "c:\\Users\\student\\anaconda3\\envs\\web_scraping\\lib\\site-packages\\xgboost\\core.py:160: UserWarning: [20:05:45] WARNING: C:\\buildkite-agent\\builds\\buildkite-windows-cpu-autoscaling-group-i-0b3782d1791676daf-1\\xgboost\\xgboost-ci-windows\\src\\objective\\regression_obj.cu:209: reg:linear is now deprecated in favor of reg:squarederror.\n",
      "  warnings.warn(smsg, UserWarning)\n",
      "c:\\Users\\student\\anaconda3\\envs\\web_scraping\\lib\\site-packages\\xgboost\\core.py:160: UserWarning: [20:05:46] WARNING: C:\\buildkite-agent\\builds\\buildkite-windows-cpu-autoscaling-group-i-0b3782d1791676daf-1\\xgboost\\xgboost-ci-windows\\src\\objective\\regression_obj.cu:209: reg:linear is now deprecated in favor of reg:squarederror.\n",
      "  warnings.warn(smsg, UserWarning)\n",
      "c:\\Users\\student\\anaconda3\\envs\\web_scraping\\lib\\site-packages\\xgboost\\core.py:160: UserWarning: [20:05:47] WARNING: C:\\buildkite-agent\\builds\\buildkite-windows-cpu-autoscaling-group-i-0b3782d1791676daf-1\\xgboost\\xgboost-ci-windows\\src\\objective\\regression_obj.cu:209: reg:linear is now deprecated in favor of reg:squarederror.\n",
      "  warnings.warn(smsg, UserWarning)\n"
     ]
    },
    {
     "name": "stdout",
     "output_type": "stream",
     "text": [
      "\tMAE 67385.85267507558 for 653 rounds\n",
      "CV with subsample=0.9, colsample=0.8\n"
     ]
    },
    {
     "name": "stderr",
     "output_type": "stream",
     "text": [
      "c:\\Users\\student\\anaconda3\\envs\\web_scraping\\lib\\site-packages\\xgboost\\core.py:160: UserWarning: [20:11:01] WARNING: C:\\buildkite-agent\\builds\\buildkite-windows-cpu-autoscaling-group-i-0b3782d1791676daf-1\\xgboost\\xgboost-ci-windows\\src\\objective\\regression_obj.cu:209: reg:linear is now deprecated in favor of reg:squarederror.\n",
      "  warnings.warn(smsg, UserWarning)\n",
      "c:\\Users\\student\\anaconda3\\envs\\web_scraping\\lib\\site-packages\\xgboost\\core.py:160: UserWarning: [20:11:02] WARNING: C:\\buildkite-agent\\builds\\buildkite-windows-cpu-autoscaling-group-i-0b3782d1791676daf-1\\xgboost\\xgboost-ci-windows\\src\\objective\\regression_obj.cu:209: reg:linear is now deprecated in favor of reg:squarederror.\n",
      "  warnings.warn(smsg, UserWarning)\n",
      "c:\\Users\\student\\anaconda3\\envs\\web_scraping\\lib\\site-packages\\xgboost\\core.py:160: UserWarning: [20:11:03] WARNING: C:\\buildkite-agent\\builds\\buildkite-windows-cpu-autoscaling-group-i-0b3782d1791676daf-1\\xgboost\\xgboost-ci-windows\\src\\objective\\regression_obj.cu:209: reg:linear is now deprecated in favor of reg:squarederror.\n",
      "  warnings.warn(smsg, UserWarning)\n",
      "c:\\Users\\student\\anaconda3\\envs\\web_scraping\\lib\\site-packages\\xgboost\\core.py:160: UserWarning: [20:11:04] WARNING: C:\\buildkite-agent\\builds\\buildkite-windows-cpu-autoscaling-group-i-0b3782d1791676daf-1\\xgboost\\xgboost-ci-windows\\src\\objective\\regression_obj.cu:209: reg:linear is now deprecated in favor of reg:squarederror.\n",
      "  warnings.warn(smsg, UserWarning)\n",
      "c:\\Users\\student\\anaconda3\\envs\\web_scraping\\lib\\site-packages\\xgboost\\core.py:160: UserWarning: [20:11:05] WARNING: C:\\buildkite-agent\\builds\\buildkite-windows-cpu-autoscaling-group-i-0b3782d1791676daf-1\\xgboost\\xgboost-ci-windows\\src\\objective\\regression_obj.cu:209: reg:linear is now deprecated in favor of reg:squarederror.\n",
      "  warnings.warn(smsg, UserWarning)\n"
     ]
    },
    {
     "name": "stdout",
     "output_type": "stream",
     "text": [
      "\tMAE 77514.31322967513 for 18 rounds\n",
      "CV with subsample=0.9, colsample=0.7\n"
     ]
    },
    {
     "name": "stderr",
     "output_type": "stream",
     "text": [
      "c:\\Users\\student\\anaconda3\\envs\\web_scraping\\lib\\site-packages\\xgboost\\core.py:160: UserWarning: [20:11:27] WARNING: C:\\buildkite-agent\\builds\\buildkite-windows-cpu-autoscaling-group-i-0b3782d1791676daf-1\\xgboost\\xgboost-ci-windows\\src\\objective\\regression_obj.cu:209: reg:linear is now deprecated in favor of reg:squarederror.\n",
      "  warnings.warn(smsg, UserWarning)\n",
      "c:\\Users\\student\\anaconda3\\envs\\web_scraping\\lib\\site-packages\\xgboost\\core.py:160: UserWarning: [20:11:28] WARNING: C:\\buildkite-agent\\builds\\buildkite-windows-cpu-autoscaling-group-i-0b3782d1791676daf-1\\xgboost\\xgboost-ci-windows\\src\\objective\\regression_obj.cu:209: reg:linear is now deprecated in favor of reg:squarederror.\n",
      "  warnings.warn(smsg, UserWarning)\n",
      "c:\\Users\\student\\anaconda3\\envs\\web_scraping\\lib\\site-packages\\xgboost\\core.py:160: UserWarning: [20:11:29] WARNING: C:\\buildkite-agent\\builds\\buildkite-windows-cpu-autoscaling-group-i-0b3782d1791676daf-1\\xgboost\\xgboost-ci-windows\\src\\objective\\regression_obj.cu:209: reg:linear is now deprecated in favor of reg:squarederror.\n",
      "  warnings.warn(smsg, UserWarning)\n",
      "c:\\Users\\student\\anaconda3\\envs\\web_scraping\\lib\\site-packages\\xgboost\\core.py:160: UserWarning: [20:11:30] WARNING: C:\\buildkite-agent\\builds\\buildkite-windows-cpu-autoscaling-group-i-0b3782d1791676daf-1\\xgboost\\xgboost-ci-windows\\src\\objective\\regression_obj.cu:209: reg:linear is now deprecated in favor of reg:squarederror.\n",
      "  warnings.warn(smsg, UserWarning)\n"
     ]
    },
    {
     "name": "stdout",
     "output_type": "stream",
     "text": [
      "\tMAE 78478.41461233859 for 11 rounds\n",
      "CV with subsample=0.8, colsample=1.0\n"
     ]
    },
    {
     "name": "stderr",
     "output_type": "stream",
     "text": [
      "c:\\Users\\student\\anaconda3\\envs\\web_scraping\\lib\\site-packages\\xgboost\\core.py:160: UserWarning: [20:11:49] WARNING: C:\\buildkite-agent\\builds\\buildkite-windows-cpu-autoscaling-group-i-0b3782d1791676daf-1\\xgboost\\xgboost-ci-windows\\src\\objective\\regression_obj.cu:209: reg:linear is now deprecated in favor of reg:squarederror.\n",
      "  warnings.warn(smsg, UserWarning)\n",
      "c:\\Users\\student\\anaconda3\\envs\\web_scraping\\lib\\site-packages\\xgboost\\core.py:160: UserWarning: [20:11:50] WARNING: C:\\buildkite-agent\\builds\\buildkite-windows-cpu-autoscaling-group-i-0b3782d1791676daf-1\\xgboost\\xgboost-ci-windows\\src\\objective\\regression_obj.cu:209: reg:linear is now deprecated in favor of reg:squarederror.\n",
      "  warnings.warn(smsg, UserWarning)\n",
      "c:\\Users\\student\\anaconda3\\envs\\web_scraping\\lib\\site-packages\\xgboost\\core.py:160: UserWarning: [20:11:51] WARNING: C:\\buildkite-agent\\builds\\buildkite-windows-cpu-autoscaling-group-i-0b3782d1791676daf-1\\xgboost\\xgboost-ci-windows\\src\\objective\\regression_obj.cu:209: reg:linear is now deprecated in favor of reg:squarederror.\n",
      "  warnings.warn(smsg, UserWarning)\n",
      "c:\\Users\\student\\anaconda3\\envs\\web_scraping\\lib\\site-packages\\xgboost\\core.py:160: UserWarning: [20:11:52] WARNING: C:\\buildkite-agent\\builds\\buildkite-windows-cpu-autoscaling-group-i-0b3782d1791676daf-1\\xgboost\\xgboost-ci-windows\\src\\objective\\regression_obj.cu:209: reg:linear is now deprecated in favor of reg:squarederror.\n",
      "  warnings.warn(smsg, UserWarning)\n",
      "c:\\Users\\student\\anaconda3\\envs\\web_scraping\\lib\\site-packages\\xgboost\\core.py:160: UserWarning: [20:11:53] WARNING: C:\\buildkite-agent\\builds\\buildkite-windows-cpu-autoscaling-group-i-0b3782d1791676daf-1\\xgboost\\xgboost-ci-windows\\src\\objective\\regression_obj.cu:209: reg:linear is now deprecated in favor of reg:squarederror.\n",
      "  warnings.warn(smsg, UserWarning)\n"
     ]
    },
    {
     "name": "stdout",
     "output_type": "stream",
     "text": [
      "\tMAE 67169.06842813635 for 789 rounds\n",
      "CV with subsample=0.8, colsample=0.9\n"
     ]
    },
    {
     "name": "stderr",
     "output_type": "stream",
     "text": [
      "c:\\Users\\student\\anaconda3\\envs\\web_scraping\\lib\\site-packages\\xgboost\\core.py:160: UserWarning: [20:18:00] WARNING: C:\\buildkite-agent\\builds\\buildkite-windows-cpu-autoscaling-group-i-0b3782d1791676daf-1\\xgboost\\xgboost-ci-windows\\src\\objective\\regression_obj.cu:209: reg:linear is now deprecated in favor of reg:squarederror.\n",
      "  warnings.warn(smsg, UserWarning)\n",
      "c:\\Users\\student\\anaconda3\\envs\\web_scraping\\lib\\site-packages\\xgboost\\core.py:160: UserWarning: [20:18:01] WARNING: C:\\buildkite-agent\\builds\\buildkite-windows-cpu-autoscaling-group-i-0b3782d1791676daf-1\\xgboost\\xgboost-ci-windows\\src\\objective\\regression_obj.cu:209: reg:linear is now deprecated in favor of reg:squarederror.\n",
      "  warnings.warn(smsg, UserWarning)\n",
      "c:\\Users\\student\\anaconda3\\envs\\web_scraping\\lib\\site-packages\\xgboost\\core.py:160: UserWarning: [20:18:02] WARNING: C:\\buildkite-agent\\builds\\buildkite-windows-cpu-autoscaling-group-i-0b3782d1791676daf-1\\xgboost\\xgboost-ci-windows\\src\\objective\\regression_obj.cu:209: reg:linear is now deprecated in favor of reg:squarederror.\n",
      "  warnings.warn(smsg, UserWarning)\n",
      "c:\\Users\\student\\anaconda3\\envs\\web_scraping\\lib\\site-packages\\xgboost\\core.py:160: UserWarning: [20:18:03] WARNING: C:\\buildkite-agent\\builds\\buildkite-windows-cpu-autoscaling-group-i-0b3782d1791676daf-1\\xgboost\\xgboost-ci-windows\\src\\objective\\regression_obj.cu:209: reg:linear is now deprecated in favor of reg:squarederror.\n",
      "  warnings.warn(smsg, UserWarning)\n"
     ]
    },
    {
     "name": "stdout",
     "output_type": "stream",
     "text": [
      "\tMAE 76739.26643830023 for 29 rounds\n",
      "CV with subsample=0.8, colsample=0.8\n"
     ]
    },
    {
     "name": "stderr",
     "output_type": "stream",
     "text": [
      "c:\\Users\\student\\anaconda3\\envs\\web_scraping\\lib\\site-packages\\xgboost\\core.py:160: UserWarning: [20:18:27] WARNING: C:\\buildkite-agent\\builds\\buildkite-windows-cpu-autoscaling-group-i-0b3782d1791676daf-1\\xgboost\\xgboost-ci-windows\\src\\objective\\regression_obj.cu:209: reg:linear is now deprecated in favor of reg:squarederror.\n",
      "  warnings.warn(smsg, UserWarning)\n",
      "c:\\Users\\student\\anaconda3\\envs\\web_scraping\\lib\\site-packages\\xgboost\\core.py:160: UserWarning: [20:18:28] WARNING: C:\\buildkite-agent\\builds\\buildkite-windows-cpu-autoscaling-group-i-0b3782d1791676daf-1\\xgboost\\xgboost-ci-windows\\src\\objective\\regression_obj.cu:209: reg:linear is now deprecated in favor of reg:squarederror.\n",
      "  warnings.warn(smsg, UserWarning)\n",
      "c:\\Users\\student\\anaconda3\\envs\\web_scraping\\lib\\site-packages\\xgboost\\core.py:160: UserWarning: [20:18:29] WARNING: C:\\buildkite-agent\\builds\\buildkite-windows-cpu-autoscaling-group-i-0b3782d1791676daf-1\\xgboost\\xgboost-ci-windows\\src\\objective\\regression_obj.cu:209: reg:linear is now deprecated in favor of reg:squarederror.\n",
      "  warnings.warn(smsg, UserWarning)\n",
      "c:\\Users\\student\\anaconda3\\envs\\web_scraping\\lib\\site-packages\\xgboost\\core.py:160: UserWarning: [20:18:30] WARNING: C:\\buildkite-agent\\builds\\buildkite-windows-cpu-autoscaling-group-i-0b3782d1791676daf-1\\xgboost\\xgboost-ci-windows\\src\\objective\\regression_obj.cu:209: reg:linear is now deprecated in favor of reg:squarederror.\n",
      "  warnings.warn(smsg, UserWarning)\n",
      "c:\\Users\\student\\anaconda3\\envs\\web_scraping\\lib\\site-packages\\xgboost\\core.py:160: UserWarning: [20:18:31] WARNING: C:\\buildkite-agent\\builds\\buildkite-windows-cpu-autoscaling-group-i-0b3782d1791676daf-1\\xgboost\\xgboost-ci-windows\\src\\objective\\regression_obj.cu:209: reg:linear is now deprecated in favor of reg:squarederror.\n",
      "  warnings.warn(smsg, UserWarning)\n"
     ]
    },
    {
     "name": "stdout",
     "output_type": "stream",
     "text": [
      "\tMAE 78493.39667859567 for 12 rounds\n",
      "CV with subsample=0.8, colsample=0.7\n"
     ]
    },
    {
     "name": "stderr",
     "output_type": "stream",
     "text": [
      "c:\\Users\\student\\anaconda3\\envs\\web_scraping\\lib\\site-packages\\xgboost\\core.py:160: UserWarning: [20:18:49] WARNING: C:\\buildkite-agent\\builds\\buildkite-windows-cpu-autoscaling-group-i-0b3782d1791676daf-1\\xgboost\\xgboost-ci-windows\\src\\objective\\regression_obj.cu:209: reg:linear is now deprecated in favor of reg:squarederror.\n",
      "  warnings.warn(smsg, UserWarning)\n",
      "c:\\Users\\student\\anaconda3\\envs\\web_scraping\\lib\\site-packages\\xgboost\\core.py:160: UserWarning: [20:18:50] WARNING: C:\\buildkite-agent\\builds\\buildkite-windows-cpu-autoscaling-group-i-0b3782d1791676daf-1\\xgboost\\xgboost-ci-windows\\src\\objective\\regression_obj.cu:209: reg:linear is now deprecated in favor of reg:squarederror.\n",
      "  warnings.warn(smsg, UserWarning)\n",
      "c:\\Users\\student\\anaconda3\\envs\\web_scraping\\lib\\site-packages\\xgboost\\core.py:160: UserWarning: [20:18:51] WARNING: C:\\buildkite-agent\\builds\\buildkite-windows-cpu-autoscaling-group-i-0b3782d1791676daf-1\\xgboost\\xgboost-ci-windows\\src\\objective\\regression_obj.cu:209: reg:linear is now deprecated in favor of reg:squarederror.\n",
      "  warnings.warn(smsg, UserWarning)\n",
      "c:\\Users\\student\\anaconda3\\envs\\web_scraping\\lib\\site-packages\\xgboost\\core.py:160: UserWarning: [20:18:52] WARNING: C:\\buildkite-agent\\builds\\buildkite-windows-cpu-autoscaling-group-i-0b3782d1791676daf-1\\xgboost\\xgboost-ci-windows\\src\\objective\\regression_obj.cu:209: reg:linear is now deprecated in favor of reg:squarederror.\n",
      "  warnings.warn(smsg, UserWarning)\n"
     ]
    },
    {
     "name": "stdout",
     "output_type": "stream",
     "text": [
      "\tMAE 79023.44192827077 for 11 rounds\n",
      "CV with subsample=0.7, colsample=1.0\n"
     ]
    },
    {
     "name": "stderr",
     "output_type": "stream",
     "text": [
      "c:\\Users\\student\\anaconda3\\envs\\web_scraping\\lib\\site-packages\\xgboost\\core.py:160: UserWarning: [20:19:11] WARNING: C:\\buildkite-agent\\builds\\buildkite-windows-cpu-autoscaling-group-i-0b3782d1791676daf-1\\xgboost\\xgboost-ci-windows\\src\\objective\\regression_obj.cu:209: reg:linear is now deprecated in favor of reg:squarederror.\n",
      "  warnings.warn(smsg, UserWarning)\n",
      "c:\\Users\\student\\anaconda3\\envs\\web_scraping\\lib\\site-packages\\xgboost\\core.py:160: UserWarning: [20:19:12] WARNING: C:\\buildkite-agent\\builds\\buildkite-windows-cpu-autoscaling-group-i-0b3782d1791676daf-1\\xgboost\\xgboost-ci-windows\\src\\objective\\regression_obj.cu:209: reg:linear is now deprecated in favor of reg:squarederror.\n",
      "  warnings.warn(smsg, UserWarning)\n",
      "c:\\Users\\student\\anaconda3\\envs\\web_scraping\\lib\\site-packages\\xgboost\\core.py:160: UserWarning: [20:19:13] WARNING: C:\\buildkite-agent\\builds\\buildkite-windows-cpu-autoscaling-group-i-0b3782d1791676daf-1\\xgboost\\xgboost-ci-windows\\src\\objective\\regression_obj.cu:209: reg:linear is now deprecated in favor of reg:squarederror.\n",
      "  warnings.warn(smsg, UserWarning)\n",
      "c:\\Users\\student\\anaconda3\\envs\\web_scraping\\lib\\site-packages\\xgboost\\core.py:160: UserWarning: [20:19:14] WARNING: C:\\buildkite-agent\\builds\\buildkite-windows-cpu-autoscaling-group-i-0b3782d1791676daf-1\\xgboost\\xgboost-ci-windows\\src\\objective\\regression_obj.cu:209: reg:linear is now deprecated in favor of reg:squarederror.\n",
      "  warnings.warn(smsg, UserWarning)\n"
     ]
    },
    {
     "name": "stdout",
     "output_type": "stream",
     "text": [
      "\tMAE 76152.46238629836 for 29 rounds\n",
      "CV with subsample=0.7, colsample=0.9\n"
     ]
    },
    {
     "name": "stderr",
     "output_type": "stream",
     "text": [
      "c:\\Users\\student\\anaconda3\\envs\\web_scraping\\lib\\site-packages\\xgboost\\core.py:160: UserWarning: [20:19:38] WARNING: C:\\buildkite-agent\\builds\\buildkite-windows-cpu-autoscaling-group-i-0b3782d1791676daf-1\\xgboost\\xgboost-ci-windows\\src\\objective\\regression_obj.cu:209: reg:linear is now deprecated in favor of reg:squarederror.\n",
      "  warnings.warn(smsg, UserWarning)\n",
      "c:\\Users\\student\\anaconda3\\envs\\web_scraping\\lib\\site-packages\\xgboost\\core.py:160: UserWarning: [20:19:39] WARNING: C:\\buildkite-agent\\builds\\buildkite-windows-cpu-autoscaling-group-i-0b3782d1791676daf-1\\xgboost\\xgboost-ci-windows\\src\\objective\\regression_obj.cu:209: reg:linear is now deprecated in favor of reg:squarederror.\n",
      "  warnings.warn(smsg, UserWarning)\n",
      "c:\\Users\\student\\anaconda3\\envs\\web_scraping\\lib\\site-packages\\xgboost\\core.py:160: UserWarning: [20:19:40] WARNING: C:\\buildkite-agent\\builds\\buildkite-windows-cpu-autoscaling-group-i-0b3782d1791676daf-1\\xgboost\\xgboost-ci-windows\\src\\objective\\regression_obj.cu:209: reg:linear is now deprecated in favor of reg:squarederror.\n",
      "  warnings.warn(smsg, UserWarning)\n",
      "c:\\Users\\student\\anaconda3\\envs\\web_scraping\\lib\\site-packages\\xgboost\\core.py:160: UserWarning: [20:19:41] WARNING: C:\\buildkite-agent\\builds\\buildkite-windows-cpu-autoscaling-group-i-0b3782d1791676daf-1\\xgboost\\xgboost-ci-windows\\src\\objective\\regression_obj.cu:209: reg:linear is now deprecated in favor of reg:squarederror.\n",
      "  warnings.warn(smsg, UserWarning)\n",
      "c:\\Users\\student\\anaconda3\\envs\\web_scraping\\lib\\site-packages\\xgboost\\core.py:160: UserWarning: [20:19:42] WARNING: C:\\buildkite-agent\\builds\\buildkite-windows-cpu-autoscaling-group-i-0b3782d1791676daf-1\\xgboost\\xgboost-ci-windows\\src\\objective\\regression_obj.cu:209: reg:linear is now deprecated in favor of reg:squarederror.\n",
      "  warnings.warn(smsg, UserWarning)\n"
     ]
    },
    {
     "name": "stdout",
     "output_type": "stream",
     "text": [
      "\tMAE 78051.7970408187 for 20 rounds\n",
      "CV with subsample=0.7, colsample=0.8\n"
     ]
    },
    {
     "name": "stderr",
     "output_type": "stream",
     "text": [
      "c:\\Users\\student\\anaconda3\\envs\\web_scraping\\lib\\site-packages\\xgboost\\core.py:160: UserWarning: [20:20:03] WARNING: C:\\buildkite-agent\\builds\\buildkite-windows-cpu-autoscaling-group-i-0b3782d1791676daf-1\\xgboost\\xgboost-ci-windows\\src\\objective\\regression_obj.cu:209: reg:linear is now deprecated in favor of reg:squarederror.\n",
      "  warnings.warn(smsg, UserWarning)\n",
      "c:\\Users\\student\\anaconda3\\envs\\web_scraping\\lib\\site-packages\\xgboost\\core.py:160: UserWarning: [20:20:04] WARNING: C:\\buildkite-agent\\builds\\buildkite-windows-cpu-autoscaling-group-i-0b3782d1791676daf-1\\xgboost\\xgboost-ci-windows\\src\\objective\\regression_obj.cu:209: reg:linear is now deprecated in favor of reg:squarederror.\n",
      "  warnings.warn(smsg, UserWarning)\n",
      "c:\\Users\\student\\anaconda3\\envs\\web_scraping\\lib\\site-packages\\xgboost\\core.py:160: UserWarning: [20:20:05] WARNING: C:\\buildkite-agent\\builds\\buildkite-windows-cpu-autoscaling-group-i-0b3782d1791676daf-1\\xgboost\\xgboost-ci-windows\\src\\objective\\regression_obj.cu:209: reg:linear is now deprecated in favor of reg:squarederror.\n",
      "  warnings.warn(smsg, UserWarning)\n",
      "c:\\Users\\student\\anaconda3\\envs\\web_scraping\\lib\\site-packages\\xgboost\\core.py:160: UserWarning: [20:20:06] WARNING: C:\\buildkite-agent\\builds\\buildkite-windows-cpu-autoscaling-group-i-0b3782d1791676daf-1\\xgboost\\xgboost-ci-windows\\src\\objective\\regression_obj.cu:209: reg:linear is now deprecated in favor of reg:squarederror.\n",
      "  warnings.warn(smsg, UserWarning)\n"
     ]
    },
    {
     "name": "stdout",
     "output_type": "stream",
     "text": [
      "\tMAE 79057.74671043413 for 21 rounds\n",
      "CV with subsample=0.7, colsample=0.7\n"
     ]
    },
    {
     "name": "stderr",
     "output_type": "stream",
     "text": [
      "c:\\Users\\student\\anaconda3\\envs\\web_scraping\\lib\\site-packages\\xgboost\\core.py:160: UserWarning: [20:20:27] WARNING: C:\\buildkite-agent\\builds\\buildkite-windows-cpu-autoscaling-group-i-0b3782d1791676daf-1\\xgboost\\xgboost-ci-windows\\src\\objective\\regression_obj.cu:209: reg:linear is now deprecated in favor of reg:squarederror.\n",
      "  warnings.warn(smsg, UserWarning)\n",
      "c:\\Users\\student\\anaconda3\\envs\\web_scraping\\lib\\site-packages\\xgboost\\core.py:160: UserWarning: [20:20:28] WARNING: C:\\buildkite-agent\\builds\\buildkite-windows-cpu-autoscaling-group-i-0b3782d1791676daf-1\\xgboost\\xgboost-ci-windows\\src\\objective\\regression_obj.cu:209: reg:linear is now deprecated in favor of reg:squarederror.\n",
      "  warnings.warn(smsg, UserWarning)\n",
      "c:\\Users\\student\\anaconda3\\envs\\web_scraping\\lib\\site-packages\\xgboost\\core.py:160: UserWarning: [20:20:29] WARNING: C:\\buildkite-agent\\builds\\buildkite-windows-cpu-autoscaling-group-i-0b3782d1791676daf-1\\xgboost\\xgboost-ci-windows\\src\\objective\\regression_obj.cu:209: reg:linear is now deprecated in favor of reg:squarederror.\n",
      "  warnings.warn(smsg, UserWarning)\n",
      "c:\\Users\\student\\anaconda3\\envs\\web_scraping\\lib\\site-packages\\xgboost\\core.py:160: UserWarning: [20:20:30] WARNING: C:\\buildkite-agent\\builds\\buildkite-windows-cpu-autoscaling-group-i-0b3782d1791676daf-1\\xgboost\\xgboost-ci-windows\\src\\objective\\regression_obj.cu:209: reg:linear is now deprecated in favor of reg:squarederror.\n",
      "  warnings.warn(smsg, UserWarning)\n",
      "c:\\Users\\student\\anaconda3\\envs\\web_scraping\\lib\\site-packages\\xgboost\\core.py:160: UserWarning: [20:20:31] WARNING: C:\\buildkite-agent\\builds\\buildkite-windows-cpu-autoscaling-group-i-0b3782d1791676daf-1\\xgboost\\xgboost-ci-windows\\src\\objective\\regression_obj.cu:209: reg:linear is now deprecated in favor of reg:squarederror.\n",
      "  warnings.warn(smsg, UserWarning)\n"
     ]
    },
    {
     "name": "stdout",
     "output_type": "stream",
     "text": [
      "\tMAE 79887.33413761416 for 11 rounds\n",
      "Best params: 0.9, 1.0, MAE: 65361.50899472935\n"
     ]
    }
   ],
   "source": [
    "# subsample, colsample\n",
    "# Best params: 0.9, 1.0, MAE: 65361.50899472935\n",
    "\n",
    "min_mae = float(\"Inf\")\n",
    "best_params = None\n",
    "# We start by the largest values and go down to the smallest\n",
    "for subsample, colsample in reversed(gridsearch_params):\n",
    "    print(\"CV with subsample={}, colsample={}\".format(\n",
    "                             subsample,\n",
    "                             colsample))\n",
    "    # We update our parameters\n",
    "    params['subsample'] = subsample\n",
    "    params['colsample_bytree'] = colsample\n",
    "    # Run CV\n",
    "    cv_results = xgboost.cv(\n",
    "        params,\n",
    "        dtrain,\n",
    "        num_boost_round=num_boost_round,\n",
    "        seed=42,\n",
    "        nfold=5,\n",
    "        metrics={'mae'},\n",
    "        early_stopping_rounds=10\n",
    "    )\n",
    "    # Update best score\n",
    "    mean_mae = cv_results['test-mae-mean'].min()\n",
    "    boost_rounds = cv_results['test-mae-mean'].argmin()\n",
    "    print(\"\\tMAE {} for {} rounds\".format(mean_mae, boost_rounds))\n",
    "    if mean_mae < min_mae:\n",
    "        min_mae = mean_mae\n",
    "        best_params = (subsample,colsample)\n",
    "print(\"Best params: {}, {}, MAE: {}\".format(best_params[0], best_params[1], min_mae))"
   ]
  },
  {
   "cell_type": "code",
   "execution_count": 70,
   "metadata": {},
   "outputs": [
    {
     "name": "stdout",
     "output_type": "stream",
     "text": [
      "CPU times: total: 0 ns\n",
      "Wall time: 0 ns\n",
      "CV with eta=0.3\n"
     ]
    },
    {
     "name": "stderr",
     "output_type": "stream",
     "text": [
      "c:\\Users\\student\\anaconda3\\envs\\web_scraping\\lib\\site-packages\\xgboost\\core.py:160: UserWarning: [13:30:43] WARNING: C:\\buildkite-agent\\builds\\buildkite-windows-cpu-autoscaling-group-i-0b3782d1791676daf-1\\xgboost\\xgboost-ci-windows\\src\\objective\\regression_obj.cu:209: reg:linear is now deprecated in favor of reg:squarederror.\n",
      "  warnings.warn(smsg, UserWarning)\n",
      "c:\\Users\\student\\anaconda3\\envs\\web_scraping\\lib\\site-packages\\xgboost\\core.py:160: UserWarning: [13:30:44] WARNING: C:\\buildkite-agent\\builds\\buildkite-windows-cpu-autoscaling-group-i-0b3782d1791676daf-1\\xgboost\\xgboost-ci-windows\\src\\objective\\regression_obj.cu:209: reg:linear is now deprecated in favor of reg:squarederror.\n",
      "  warnings.warn(smsg, UserWarning)\n",
      "c:\\Users\\student\\anaconda3\\envs\\web_scraping\\lib\\site-packages\\xgboost\\core.py:160: UserWarning: [13:30:45] WARNING: C:\\buildkite-agent\\builds\\buildkite-windows-cpu-autoscaling-group-i-0b3782d1791676daf-1\\xgboost\\xgboost-ci-windows\\src\\objective\\regression_obj.cu:209: reg:linear is now deprecated in favor of reg:squarederror.\n",
      "  warnings.warn(smsg, UserWarning)\n"
     ]
    },
    {
     "name": "stdout",
     "output_type": "stream",
     "text": [
      "CPU times: total: 1min 49s\n",
      "Wall time: 10.3 s\n",
      "CV with eta=0.2\n"
     ]
    },
    {
     "name": "stderr",
     "output_type": "stream",
     "text": [
      "c:\\Users\\student\\anaconda3\\envs\\web_scraping\\lib\\site-packages\\xgboost\\core.py:160: UserWarning: [13:30:53] WARNING: C:\\buildkite-agent\\builds\\buildkite-windows-cpu-autoscaling-group-i-0b3782d1791676daf-1\\xgboost\\xgboost-ci-windows\\src\\objective\\regression_obj.cu:209: reg:linear is now deprecated in favor of reg:squarederror.\n",
      "  warnings.warn(smsg, UserWarning)\n",
      "c:\\Users\\student\\anaconda3\\envs\\web_scraping\\lib\\site-packages\\xgboost\\core.py:160: UserWarning: [13:30:54] WARNING: C:\\buildkite-agent\\builds\\buildkite-windows-cpu-autoscaling-group-i-0b3782d1791676daf-1\\xgboost\\xgboost-ci-windows\\src\\objective\\regression_obj.cu:209: reg:linear is now deprecated in favor of reg:squarederror.\n",
      "  warnings.warn(smsg, UserWarning)\n",
      "c:\\Users\\student\\anaconda3\\envs\\web_scraping\\lib\\site-packages\\xgboost\\core.py:160: UserWarning: [13:30:55] WARNING: C:\\buildkite-agent\\builds\\buildkite-windows-cpu-autoscaling-group-i-0b3782d1791676daf-1\\xgboost\\xgboost-ci-windows\\src\\objective\\regression_obj.cu:209: reg:linear is now deprecated in favor of reg:squarederror.\n",
      "  warnings.warn(smsg, UserWarning)\n",
      "c:\\Users\\student\\anaconda3\\envs\\web_scraping\\lib\\site-packages\\xgboost\\core.py:160: UserWarning: [13:30:56] WARNING: C:\\buildkite-agent\\builds\\buildkite-windows-cpu-autoscaling-group-i-0b3782d1791676daf-1\\xgboost\\xgboost-ci-windows\\src\\objective\\regression_obj.cu:209: reg:linear is now deprecated in favor of reg:squarederror.\n",
      "  warnings.warn(smsg, UserWarning)\n"
     ]
    },
    {
     "name": "stdout",
     "output_type": "stream",
     "text": [
      "CPU times: total: 1min 55s\n",
      "Wall time: 10.7 s\n",
      "CV with eta=0.1\n"
     ]
    },
    {
     "name": "stderr",
     "output_type": "stream",
     "text": [
      "c:\\Users\\student\\anaconda3\\envs\\web_scraping\\lib\\site-packages\\xgboost\\core.py:160: UserWarning: [13:31:04] WARNING: C:\\buildkite-agent\\builds\\buildkite-windows-cpu-autoscaling-group-i-0b3782d1791676daf-1\\xgboost\\xgboost-ci-windows\\src\\objective\\regression_obj.cu:209: reg:linear is now deprecated in favor of reg:squarederror.\n",
      "  warnings.warn(smsg, UserWarning)\n",
      "c:\\Users\\student\\anaconda3\\envs\\web_scraping\\lib\\site-packages\\xgboost\\core.py:160: UserWarning: [13:31:05] WARNING: C:\\buildkite-agent\\builds\\buildkite-windows-cpu-autoscaling-group-i-0b3782d1791676daf-1\\xgboost\\xgboost-ci-windows\\src\\objective\\regression_obj.cu:209: reg:linear is now deprecated in favor of reg:squarederror.\n",
      "  warnings.warn(smsg, UserWarning)\n",
      "c:\\Users\\student\\anaconda3\\envs\\web_scraping\\lib\\site-packages\\xgboost\\core.py:160: UserWarning: [13:31:06] WARNING: C:\\buildkite-agent\\builds\\buildkite-windows-cpu-autoscaling-group-i-0b3782d1791676daf-1\\xgboost\\xgboost-ci-windows\\src\\objective\\regression_obj.cu:209: reg:linear is now deprecated in favor of reg:squarederror.\n",
      "  warnings.warn(smsg, UserWarning)\n"
     ]
    },
    {
     "name": "stdout",
     "output_type": "stream",
     "text": [
      "CPU times: total: 2min\n",
      "Wall time: 11 s\n",
      "CV with eta=0.05\n"
     ]
    },
    {
     "ename": "KeyboardInterrupt",
     "evalue": "",
     "output_type": "error",
     "traceback": [
      "\u001b[1;31m---------------------------------------------------------------------------\u001b[0m",
      "\u001b[1;31mKeyboardInterrupt\u001b[0m                         Traceback (most recent call last)",
      "File \u001b[1;32m<timed exec>:1\u001b[0m\n",
      "File \u001b[1;32mc:\\Users\\student\\anaconda3\\envs\\web_scraping\\lib\\site-packages\\xgboost\\training.py:543\u001b[0m, in \u001b[0;36mcv\u001b[1;34m(params, dtrain, num_boost_round, nfold, stratified, folds, metrics, obj, feval, maximize, early_stopping_rounds, fpreproc, as_pandas, verbose_eval, show_stdv, seed, callbacks, shuffle, custom_metric)\u001b[0m\n\u001b[0;32m    540\u001b[0m params\u001b[38;5;241m.\u001b[39mpop(\u001b[38;5;124m\"\u001b[39m\u001b[38;5;124meval_metric\u001b[39m\u001b[38;5;124m\"\u001b[39m, \u001b[38;5;28;01mNone\u001b[39;00m)\n\u001b[0;32m    542\u001b[0m results: Dict[\u001b[38;5;28mstr\u001b[39m, List[\u001b[38;5;28mfloat\u001b[39m]] \u001b[38;5;241m=\u001b[39m {}\n\u001b[1;32m--> 543\u001b[0m cvfolds \u001b[38;5;241m=\u001b[39m \u001b[43mmknfold\u001b[49m\u001b[43m(\u001b[49m\n\u001b[0;32m    544\u001b[0m \u001b[43m    \u001b[49m\u001b[43mdtrain\u001b[49m\u001b[43m,\u001b[49m\u001b[43m \u001b[49m\u001b[43mnfold\u001b[49m\u001b[43m,\u001b[49m\u001b[43m \u001b[49m\u001b[43mparams\u001b[49m\u001b[43m,\u001b[49m\u001b[43m \u001b[49m\u001b[43mseed\u001b[49m\u001b[43m,\u001b[49m\u001b[43m \u001b[49m\u001b[43mmetrics\u001b[49m\u001b[43m,\u001b[49m\u001b[43m \u001b[49m\u001b[43mfpreproc\u001b[49m\u001b[43m,\u001b[49m\u001b[43m \u001b[49m\u001b[43mstratified\u001b[49m\u001b[43m,\u001b[49m\u001b[43m \u001b[49m\u001b[43mfolds\u001b[49m\u001b[43m,\u001b[49m\u001b[43m \u001b[49m\u001b[43mshuffle\u001b[49m\n\u001b[0;32m    545\u001b[0m \u001b[43m\u001b[49m\u001b[43m)\u001b[49m\n\u001b[0;32m    547\u001b[0m metric_fn \u001b[38;5;241m=\u001b[39m _configure_custom_metric(feval, custom_metric)\n\u001b[0;32m    549\u001b[0m \u001b[38;5;66;03m# setup callbacks\u001b[39;00m\n",
      "File \u001b[1;32mc:\\Users\\student\\anaconda3\\envs\\web_scraping\\lib\\site-packages\\xgboost\\training.py:398\u001b[0m, in \u001b[0;36mmknfold\u001b[1;34m(dall, nfold, param, seed, evals, fpreproc, stratified, folds, shuffle)\u001b[0m\n\u001b[0;32m    395\u001b[0m ret \u001b[38;5;241m=\u001b[39m []\n\u001b[0;32m    396\u001b[0m \u001b[38;5;28;01mfor\u001b[39;00m k \u001b[38;5;129;01min\u001b[39;00m \u001b[38;5;28mrange\u001b[39m(nfold):\n\u001b[0;32m    397\u001b[0m     \u001b[38;5;66;03m# perform the slicing using the indexes determined by the above methods\u001b[39;00m\n\u001b[1;32m--> 398\u001b[0m     dtrain \u001b[38;5;241m=\u001b[39m \u001b[43mdall\u001b[49m\u001b[38;5;241;43m.\u001b[39;49m\u001b[43mslice\u001b[49m\u001b[43m(\u001b[49m\u001b[43min_idset\u001b[49m\u001b[43m[\u001b[49m\u001b[43mk\u001b[49m\u001b[43m]\u001b[49m\u001b[43m)\u001b[49m\n\u001b[0;32m    399\u001b[0m     dtest \u001b[38;5;241m=\u001b[39m dall\u001b[38;5;241m.\u001b[39mslice(out_idset[k])\n\u001b[0;32m    400\u001b[0m     \u001b[38;5;66;03m# run preprocessing on the data set if needed\u001b[39;00m\n",
      "File \u001b[1;32mc:\\Users\\student\\anaconda3\\envs\\web_scraping\\lib\\site-packages\\xgboost\\core.py:1259\u001b[0m, in \u001b[0;36mDMatrix.slice\u001b[1;34m(self, rindex, allow_groups)\u001b[0m\n\u001b[0;32m   1256\u001b[0m res\u001b[38;5;241m.\u001b[39mhandle \u001b[38;5;241m=\u001b[39m ctypes\u001b[38;5;241m.\u001b[39mc_void_p()\n\u001b[0;32m   1257\u001b[0m rindex \u001b[38;5;241m=\u001b[39m _maybe_np_slice(rindex, dtype\u001b[38;5;241m=\u001b[39mnp\u001b[38;5;241m.\u001b[39mint32)\n\u001b[0;32m   1258\u001b[0m _check_call(\n\u001b[1;32m-> 1259\u001b[0m     \u001b[43m_LIB\u001b[49m\u001b[38;5;241;43m.\u001b[39;49m\u001b[43mXGDMatrixSliceDMatrixEx\u001b[49m\u001b[43m(\u001b[49m\n\u001b[0;32m   1260\u001b[0m \u001b[43m        \u001b[49m\u001b[38;5;28;43mself\u001b[39;49m\u001b[38;5;241;43m.\u001b[39;49m\u001b[43mhandle\u001b[49m\u001b[43m,\u001b[49m\n\u001b[0;32m   1261\u001b[0m \u001b[43m        \u001b[49m\u001b[43mc_array\u001b[49m\u001b[43m(\u001b[49m\u001b[43mctypes\u001b[49m\u001b[38;5;241;43m.\u001b[39;49m\u001b[43mc_int\u001b[49m\u001b[43m,\u001b[49m\u001b[43m \u001b[49m\u001b[43mrindex\u001b[49m\u001b[43m)\u001b[49m\u001b[43m,\u001b[49m\n\u001b[0;32m   1262\u001b[0m \u001b[43m        \u001b[49m\u001b[43mc_bst_ulong\u001b[49m\u001b[43m(\u001b[49m\u001b[38;5;28;43mlen\u001b[39;49m\u001b[43m(\u001b[49m\u001b[43mrindex\u001b[49m\u001b[43m)\u001b[49m\u001b[43m)\u001b[49m\u001b[43m,\u001b[49m\n\u001b[0;32m   1263\u001b[0m \u001b[43m        \u001b[49m\u001b[43mctypes\u001b[49m\u001b[38;5;241;43m.\u001b[39;49m\u001b[43mbyref\u001b[49m\u001b[43m(\u001b[49m\u001b[43mres\u001b[49m\u001b[38;5;241;43m.\u001b[39;49m\u001b[43mhandle\u001b[49m\u001b[43m)\u001b[49m\u001b[43m,\u001b[49m\n\u001b[0;32m   1264\u001b[0m \u001b[43m        \u001b[49m\u001b[43mctypes\u001b[49m\u001b[38;5;241;43m.\u001b[39;49m\u001b[43mc_int\u001b[49m\u001b[43m(\u001b[49m\u001b[38;5;241;43m1\u001b[39;49m\u001b[43m \u001b[49m\u001b[38;5;28;43;01mif\u001b[39;49;00m\u001b[43m \u001b[49m\u001b[43mallow_groups\u001b[49m\u001b[43m \u001b[49m\u001b[38;5;28;43;01melse\u001b[39;49;00m\u001b[43m \u001b[49m\u001b[38;5;241;43m0\u001b[39;49m\u001b[43m)\u001b[49m\u001b[43m,\u001b[49m\n\u001b[0;32m   1265\u001b[0m \u001b[43m    \u001b[49m\u001b[43m)\u001b[49m\n\u001b[0;32m   1266\u001b[0m )\n\u001b[0;32m   1267\u001b[0m \u001b[38;5;28;01mreturn\u001b[39;00m res\n",
      "\u001b[1;31mKeyboardInterrupt\u001b[0m: "
     ]
    },
    {
     "name": "stdout",
     "output_type": "stream",
     "text": [
      "CV with eta=0.01\n"
     ]
    },
    {
     "name": "stderr",
     "output_type": "stream",
     "text": [
      "c:\\Users\\student\\anaconda3\\envs\\web_scraping\\lib\\site-packages\\xgboost\\core.py:160: UserWarning: [13:31:18] WARNING: C:\\buildkite-agent\\builds\\buildkite-windows-cpu-autoscaling-group-i-0b3782d1791676daf-1\\xgboost\\xgboost-ci-windows\\src\\objective\\regression_obj.cu:209: reg:linear is now deprecated in favor of reg:squarederror.\n",
      "  warnings.warn(smsg, UserWarning)\n",
      "c:\\Users\\student\\anaconda3\\envs\\web_scraping\\lib\\site-packages\\xgboost\\core.py:160: UserWarning: [13:31:19] WARNING: C:\\buildkite-agent\\builds\\buildkite-windows-cpu-autoscaling-group-i-0b3782d1791676daf-1\\xgboost\\xgboost-ci-windows\\src\\objective\\regression_obj.cu:209: reg:linear is now deprecated in favor of reg:squarederror.\n",
      "  warnings.warn(smsg, UserWarning)\n",
      "c:\\Users\\student\\anaconda3\\envs\\web_scraping\\lib\\site-packages\\xgboost\\core.py:160: UserWarning: [13:31:20] WARNING: C:\\buildkite-agent\\builds\\buildkite-windows-cpu-autoscaling-group-i-0b3782d1791676daf-1\\xgboost\\xgboost-ci-windows\\src\\objective\\regression_obj.cu:209: reg:linear is now deprecated in favor of reg:squarederror.\n",
      "  warnings.warn(smsg, UserWarning)\n"
     ]
    },
    {
     "name": "stdout",
     "output_type": "stream",
     "text": [
      "CPU times: total: 2min 37s\n",
      "Wall time: 13 s\n",
      "CV with eta=0.005\n"
     ]
    },
    {
     "name": "stderr",
     "output_type": "stream",
     "text": [
      "c:\\Users\\student\\anaconda3\\envs\\web_scraping\\lib\\site-packages\\xgboost\\core.py:160: UserWarning: [13:31:31] WARNING: C:\\buildkite-agent\\builds\\buildkite-windows-cpu-autoscaling-group-i-0b3782d1791676daf-1\\xgboost\\xgboost-ci-windows\\src\\objective\\regression_obj.cu:209: reg:linear is now deprecated in favor of reg:squarederror.\n",
      "  warnings.warn(smsg, UserWarning)\n",
      "c:\\Users\\student\\anaconda3\\envs\\web_scraping\\lib\\site-packages\\xgboost\\core.py:160: UserWarning: [13:31:32] WARNING: C:\\buildkite-agent\\builds\\buildkite-windows-cpu-autoscaling-group-i-0b3782d1791676daf-1\\xgboost\\xgboost-ci-windows\\src\\objective\\regression_obj.cu:209: reg:linear is now deprecated in favor of reg:squarederror.\n",
      "  warnings.warn(smsg, UserWarning)\n",
      "c:\\Users\\student\\anaconda3\\envs\\web_scraping\\lib\\site-packages\\xgboost\\core.py:160: UserWarning: [13:31:33] WARNING: C:\\buildkite-agent\\builds\\buildkite-windows-cpu-autoscaling-group-i-0b3782d1791676daf-1\\xgboost\\xgboost-ci-windows\\src\\objective\\regression_obj.cu:209: reg:linear is now deprecated in favor of reg:squarederror.\n",
      "  warnings.warn(smsg, UserWarning)\n"
     ]
    },
    {
     "name": "stdout",
     "output_type": "stream",
     "text": [
      "CPU times: total: 3min 26s\n",
      "Wall time: 15.8 s\n",
      "Best params: None, MAE: inf\n"
     ]
    }
   ],
   "source": [
    "# eta\n",
    "# Best params: 0.01, MAE: 70986.35099466259\n",
    "\n",
    "%time\n",
    "# This can take some time…\n",
    "min_mae = float(\"Inf\")\n",
    "best_params = None\n",
    "for eta in [.3, .2, .1, .05, .01, .005]:\n",
    "    print(\"CV with eta={}\".format(eta))\n",
    "    # We update our parameters\n",
    "    params['eta'] = eta\n",
    "    # Run and time CV\n",
    "    %time cv_results = xgboost.cv(params, dtrain, num_boost_round=num_boost_round, seed=42, nfold=5, metrics=['mae'], early_stopping_rounds=10)\n",
    "    \n",
    "    # Update best score\n",
    "    mean_mae = cv_results['test-mae-mean'].min()\n",
    "    boost_rounds = cv_results['test-mae-mean'].argmin()\n",
    "    print(\"\\tMAE {} for {} rounds\\n\".format(mean_mae, boost_rounds))\n",
    "    if mean_mae < min_mae:\n",
    "        min_mae = mean_mae\n",
    "        best_params = eta\n",
    "print(\"Best params: {}, MAE: {}\".format(best_params, min_mae))"
   ]
  },
  {
   "cell_type": "code",
   "execution_count": 75,
   "metadata": {},
   "outputs": [],
   "source": [
    "b_params = {\n",
    "    # Parameters that we are going to tune.\n",
    "    'max_depth':10,\n",
    "    'min_child_weight': 5,\n",
    "    'eta': 0.01,\n",
    "    'subsample': 0.9,\n",
    "    'colsample_bytree': 1,\n",
    "    'reg_lambda': 0.1,\n",
    "    \n",
    "    # Other parameters\n",
    "    # 樂於決定任務的評估指標(這邊是regression)\n",
    "    'objective':'reg:linear',\n",
    "}"
   ]
  },
  {
   "cell_type": "code",
   "execution_count": 78,
   "metadata": {},
   "outputs": [
    {
     "name": "stdout",
     "output_type": "stream",
     "text": [
      "[0]\tTest-rmse:254485.43887\n"
     ]
    },
    {
     "name": "stderr",
     "output_type": "stream",
     "text": [
      "c:\\Users\\student\\anaconda3\\envs\\web_scraping\\lib\\site-packages\\xgboost\\core.py:160: UserWarning: [13:49:31] WARNING: C:\\buildkite-agent\\builds\\buildkite-windows-cpu-autoscaling-group-i-0b3782d1791676daf-1\\xgboost\\xgboost-ci-windows\\src\\objective\\regression_obj.cu:209: reg:linear is now deprecated in favor of reg:squarederror.\n",
      "  warnings.warn(smsg, UserWarning)\n"
     ]
    },
    {
     "name": "stdout",
     "output_type": "stream",
     "text": [
      "[1]\tTest-rmse:252902.32121\n",
      "[2]\tTest-rmse:251256.47020\n",
      "[3]\tTest-rmse:249742.87271\n",
      "[4]\tTest-rmse:248179.03948\n",
      "[5]\tTest-rmse:246798.36479\n",
      "[6]\tTest-rmse:245400.07101\n",
      "[7]\tTest-rmse:243885.99295\n",
      "[8]\tTest-rmse:242432.80675\n",
      "[9]\tTest-rmse:241026.28327\n",
      "[10]\tTest-rmse:239619.84358\n",
      "[11]\tTest-rmse:238308.79521\n",
      "[12]\tTest-rmse:236965.60644\n",
      "[13]\tTest-rmse:235639.03488\n",
      "[14]\tTest-rmse:234667.59799\n",
      "[15]\tTest-rmse:233435.67442\n",
      "[16]\tTest-rmse:232694.29929\n",
      "[17]\tTest-rmse:231580.19674\n",
      "[18]\tTest-rmse:230406.60351\n",
      "[19]\tTest-rmse:229226.08078\n",
      "[20]\tTest-rmse:228056.59653\n",
      "[21]\tTest-rmse:226946.51375\n",
      "[22]\tTest-rmse:225929.90167\n",
      "[23]\tTest-rmse:224908.79318\n",
      "[24]\tTest-rmse:224419.73588\n",
      "[25]\tTest-rmse:223343.71279\n",
      "[26]\tTest-rmse:223049.07358\n",
      "[27]\tTest-rmse:222055.56067\n",
      "[28]\tTest-rmse:221126.12680\n",
      "[29]\tTest-rmse:220059.26164\n",
      "[30]\tTest-rmse:219243.76875\n",
      "[31]\tTest-rmse:219135.03828\n",
      "[32]\tTest-rmse:218103.82373\n",
      "[33]\tTest-rmse:217223.39689\n",
      "[34]\tTest-rmse:216383.64860\n",
      "[35]\tTest-rmse:216703.27374\n",
      "[36]\tTest-rmse:216067.69298\n",
      "[37]\tTest-rmse:215317.41480\n",
      "[38]\tTest-rmse:214607.35796\n",
      "[39]\tTest-rmse:213802.03374\n",
      "[40]\tTest-rmse:214156.63448\n",
      "[41]\tTest-rmse:213407.60384\n",
      "[42]\tTest-rmse:212873.37637\n",
      "[43]\tTest-rmse:213359.37589\n",
      "[44]\tTest-rmse:212757.93772\n",
      "[45]\tTest-rmse:212053.80790\n",
      "[46]\tTest-rmse:211646.26231\n",
      "[47]\tTest-rmse:212329.93485\n",
      "[48]\tTest-rmse:213257.94647\n",
      "[49]\tTest-rmse:212656.05947\n",
      "[50]\tTest-rmse:212222.76046\n",
      "[51]\tTest-rmse:211716.93849\n",
      "[52]\tTest-rmse:210811.88694\n",
      "[53]\tTest-rmse:210026.08046\n",
      "[54]\tTest-rmse:209628.57822\n",
      "[55]\tTest-rmse:208915.99156\n",
      "[56]\tTest-rmse:210005.65369\n",
      "[57]\tTest-rmse:209373.38681\n",
      "[58]\tTest-rmse:210059.65290\n",
      "[59]\tTest-rmse:211539.63654\n",
      "[60]\tTest-rmse:211158.63599\n",
      "[61]\tTest-rmse:210604.70363\n",
      "[62]\tTest-rmse:210081.37968\n",
      "[63]\tTest-rmse:209397.07516\n",
      "[64]\tTest-rmse:208601.68363\n",
      "[65]\tTest-rmse:208023.62283\n",
      "[66]\tTest-rmse:207405.51027\n",
      "[67]\tTest-rmse:208537.71536\n",
      "[68]\tTest-rmse:210129.29980\n",
      "[69]\tTest-rmse:209639.26183\n",
      "[70]\tTest-rmse:208928.40405\n",
      "[71]\tTest-rmse:210509.12261\n",
      "[72]\tTest-rmse:209614.98829\n",
      "[73]\tTest-rmse:208886.85179\n",
      "[74]\tTest-rmse:210573.72385\n",
      "[75]\tTest-rmse:212184.74413\n",
      "[76]\tTest-rmse:211338.05659\n",
      "[77]\tTest-rmse:210471.46135\n",
      "[78]\tTest-rmse:210205.31826\n",
      "[79]\tTest-rmse:209331.62138\n",
      "[80]\tTest-rmse:208562.98363\n",
      "[81]\tTest-rmse:208410.15762\n",
      "[82]\tTest-rmse:207713.38499\n",
      "[83]\tTest-rmse:207079.40792\n",
      "[84]\tTest-rmse:208704.57801\n",
      "[85]\tTest-rmse:208398.05154\n",
      "[86]\tTest-rmse:208217.12937\n",
      "[87]\tTest-rmse:207940.35399\n",
      "[88]\tTest-rmse:207937.90392\n",
      "[89]\tTest-rmse:208955.60231\n",
      "[90]\tTest-rmse:208581.89034\n",
      "[91]\tTest-rmse:208049.96547\n",
      "[92]\tTest-rmse:207884.05811\n",
      "[93]\tTest-rmse:207244.41586\n",
      "[94]\tTest-rmse:206780.72216\n",
      "[95]\tTest-rmse:206357.18017\n",
      "[96]\tTest-rmse:206284.11928\n",
      "[97]\tTest-rmse:206058.92165\n",
      "[98]\tTest-rmse:205839.98935\n",
      "[99]\tTest-rmse:206228.44607\n",
      "[100]\tTest-rmse:206049.52334\n",
      "[101]\tTest-rmse:205815.42426\n",
      "[102]\tTest-rmse:206002.08302\n",
      "[103]\tTest-rmse:206064.39339\n",
      "[104]\tTest-rmse:206112.10842\n",
      "[105]\tTest-rmse:206254.90491\n",
      "[106]\tTest-rmse:206449.01290\n",
      "[107]\tTest-rmse:206224.37292\n",
      "[108]\tTest-rmse:206860.06769\n",
      "[109]\tTest-rmse:206367.63269\n",
      "[110]\tTest-rmse:206102.83670\n",
      "[111]\tTest-rmse:206365.96582\n",
      "[112]\tTest-rmse:206013.42819\n",
      "[113]\tTest-rmse:205369.19845\n",
      "[114]\tTest-rmse:204783.92813\n",
      "[115]\tTest-rmse:204851.99591\n",
      "[116]\tTest-rmse:204817.81478\n",
      "[117]\tTest-rmse:205241.83475\n",
      "[118]\tTest-rmse:206238.01294\n",
      "[119]\tTest-rmse:206410.30443\n",
      "[120]\tTest-rmse:206000.82744\n",
      "[121]\tTest-rmse:205658.05663\n",
      "[122]\tTest-rmse:205625.54750\n",
      "[123]\tTest-rmse:205168.20452\n",
      "[124]\tTest-rmse:205335.56469\n",
      "[125]\tTest-rmse:205581.91008\n",
      "[126]\tTest-rmse:205673.65179\n",
      "[127]\tTest-rmse:205784.87018\n",
      "[128]\tTest-rmse:205630.27055\n",
      "[129]\tTest-rmse:205931.50688\n",
      "[130]\tTest-rmse:206549.49201\n",
      "[131]\tTest-rmse:206361.57036\n",
      "[132]\tTest-rmse:206175.18033\n",
      "[133]\tTest-rmse:205943.36827\n",
      "[134]\tTest-rmse:205754.20678\n",
      "[135]\tTest-rmse:206077.04245\n",
      "[136]\tTest-rmse:206688.74735\n",
      "[137]\tTest-rmse:207817.15492\n",
      "[138]\tTest-rmse:208475.53312\n",
      "[139]\tTest-rmse:208353.65109\n",
      "[140]\tTest-rmse:208521.33845\n",
      "[141]\tTest-rmse:208955.47650\n",
      "[142]\tTest-rmse:208891.04082\n",
      "[143]\tTest-rmse:208895.56057\n",
      "[144]\tTest-rmse:208908.61236\n",
      "[145]\tTest-rmse:208852.67731\n",
      "[146]\tTest-rmse:209778.79311\n",
      "[147]\tTest-rmse:209259.33750\n",
      "[148]\tTest-rmse:209908.02740\n",
      "[149]\tTest-rmse:210105.12740\n",
      "[150]\tTest-rmse:211059.00665\n",
      "[151]\tTest-rmse:210846.95905\n",
      "[152]\tTest-rmse:210414.95744\n",
      "[153]\tTest-rmse:210453.26872\n",
      "[154]\tTest-rmse:210482.62927\n",
      "[155]\tTest-rmse:211524.87263\n",
      "[156]\tTest-rmse:211734.56898\n",
      "[157]\tTest-rmse:212329.97201\n",
      "[158]\tTest-rmse:212532.33388\n",
      "[159]\tTest-rmse:212574.00303\n",
      "[160]\tTest-rmse:212434.81055\n",
      "[161]\tTest-rmse:212513.25643\n",
      "[162]\tTest-rmse:212696.73691\n",
      "[163]\tTest-rmse:212867.62535\n",
      "[164]\tTest-rmse:213006.04723\n",
      "[165]\tTest-rmse:213016.93757\n",
      "[166]\tTest-rmse:213286.53171\n",
      "[167]\tTest-rmse:212945.26527\n",
      "[168]\tTest-rmse:212609.66729\n",
      "[169]\tTest-rmse:213528.46422\n",
      "[170]\tTest-rmse:213237.80792\n",
      "[171]\tTest-rmse:213674.13936\n",
      "[172]\tTest-rmse:213613.73211\n",
      "[173]\tTest-rmse:213520.70205\n",
      "[174]\tTest-rmse:213831.95134\n",
      "[175]\tTest-rmse:213718.99178\n",
      "[176]\tTest-rmse:213957.29572\n",
      "[177]\tTest-rmse:213915.53691\n",
      "[178]\tTest-rmse:213743.85484\n",
      "[179]\tTest-rmse:213802.34016\n",
      "[180]\tTest-rmse:214073.80617\n",
      "[181]\tTest-rmse:213920.43094\n",
      "[182]\tTest-rmse:214031.16742\n",
      "[183]\tTest-rmse:214383.88383\n",
      "[184]\tTest-rmse:214356.79752\n",
      "[185]\tTest-rmse:214668.25294\n",
      "[186]\tTest-rmse:215428.88960\n",
      "[187]\tTest-rmse:215438.60711\n",
      "[188]\tTest-rmse:215950.82961\n",
      "[189]\tTest-rmse:216562.20426\n",
      "[190]\tTest-rmse:216896.80428\n",
      "[191]\tTest-rmse:217167.84214\n",
      "[192]\tTest-rmse:218038.17742\n",
      "[193]\tTest-rmse:217872.02142\n",
      "[194]\tTest-rmse:217750.60074\n",
      "[195]\tTest-rmse:217670.71698\n",
      "[196]\tTest-rmse:217655.38070\n",
      "[197]\tTest-rmse:217612.33416\n",
      "[198]\tTest-rmse:217509.90830\n",
      "[199]\tTest-rmse:217342.18247\n",
      "[200]\tTest-rmse:217470.38929\n",
      "[201]\tTest-rmse:217553.84076\n",
      "[202]\tTest-rmse:217490.79526\n",
      "[203]\tTest-rmse:217438.54988\n",
      "[204]\tTest-rmse:218585.73403\n",
      "[205]\tTest-rmse:218437.82290\n",
      "[206]\tTest-rmse:218870.80964\n",
      "[207]\tTest-rmse:218763.81422\n",
      "[208]\tTest-rmse:218840.44168\n",
      "[209]\tTest-rmse:219965.50234\n",
      "[210]\tTest-rmse:219863.83485\n",
      "[211]\tTest-rmse:220845.45173\n",
      "[212]\tTest-rmse:220760.34425\n",
      "[213]\tTest-rmse:220786.74275\n",
      "[214]\tTest-rmse:222186.14554\n",
      "[215]\tTest-rmse:221970.19495\n",
      "[216]\tTest-rmse:221755.13297\n",
      "[217]\tTest-rmse:221922.12484\n",
      "[218]\tTest-rmse:221701.95825\n",
      "[219]\tTest-rmse:221748.21853\n",
      "[220]\tTest-rmse:221763.18036\n",
      "[221]\tTest-rmse:221601.77758\n",
      "[222]\tTest-rmse:221597.29189\n",
      "[223]\tTest-rmse:221404.12612\n",
      "[224]\tTest-rmse:221377.43438\n",
      "[225]\tTest-rmse:221221.01011\n",
      "[226]\tTest-rmse:221088.00851\n",
      "[227]\tTest-rmse:221297.41728\n",
      "[228]\tTest-rmse:222247.01713\n",
      "[229]\tTest-rmse:222098.77065\n",
      "[230]\tTest-rmse:222139.47020\n",
      "[231]\tTest-rmse:222166.65710\n",
      "[232]\tTest-rmse:222086.44349\n",
      "[233]\tTest-rmse:221942.64959\n",
      "[234]\tTest-rmse:221858.49422\n",
      "[235]\tTest-rmse:221828.67151\n",
      "[236]\tTest-rmse:222925.57875\n",
      "[237]\tTest-rmse:223082.40258\n",
      "[238]\tTest-rmse:223036.92493\n",
      "[239]\tTest-rmse:223139.43447\n",
      "[240]\tTest-rmse:222948.52164\n",
      "[241]\tTest-rmse:223144.94094\n",
      "[242]\tTest-rmse:222947.64001\n",
      "[243]\tTest-rmse:223135.15692\n",
      "[244]\tTest-rmse:224926.60747\n",
      "[245]\tTest-rmse:226420.57755\n",
      "[246]\tTest-rmse:226182.49171\n",
      "[247]\tTest-rmse:225950.49002\n",
      "[248]\tTest-rmse:225748.61677\n",
      "[249]\tTest-rmse:225668.26745\n",
      "[250]\tTest-rmse:225412.95865\n",
      "[251]\tTest-rmse:225325.32509\n",
      "[252]\tTest-rmse:225182.04425\n",
      "[253]\tTest-rmse:225022.96587\n",
      "[254]\tTest-rmse:224862.01813\n",
      "[255]\tTest-rmse:224787.02237\n",
      "[256]\tTest-rmse:224386.60456\n",
      "[257]\tTest-rmse:224320.10455\n",
      "[258]\tTest-rmse:224368.64038\n",
      "[259]\tTest-rmse:224450.28747\n",
      "[260]\tTest-rmse:224380.94064\n",
      "[261]\tTest-rmse:224439.62498\n",
      "[262]\tTest-rmse:224234.30290\n",
      "[263]\tTest-rmse:224123.59529\n",
      "[264]\tTest-rmse:224158.69971\n",
      "[265]\tTest-rmse:224157.99615\n",
      "[266]\tTest-rmse:224052.59772\n",
      "[267]\tTest-rmse:223885.69339\n",
      "[268]\tTest-rmse:223631.82485\n",
      "[269]\tTest-rmse:223393.05294\n",
      "[270]\tTest-rmse:223436.36039\n",
      "[271]\tTest-rmse:223717.61451\n",
      "[272]\tTest-rmse:224053.85229\n",
      "[273]\tTest-rmse:223993.98198\n",
      "[274]\tTest-rmse:224152.69051\n",
      "[275]\tTest-rmse:224430.71560\n",
      "[276]\tTest-rmse:225185.47845\n",
      "[277]\tTest-rmse:225117.21029\n",
      "[278]\tTest-rmse:225112.52918\n",
      "[279]\tTest-rmse:225042.09768\n",
      "[280]\tTest-rmse:224761.99474\n",
      "[281]\tTest-rmse:225014.51602\n",
      "[282]\tTest-rmse:225054.57935\n",
      "[283]\tTest-rmse:224832.70170\n",
      "[284]\tTest-rmse:224893.75314\n",
      "[285]\tTest-rmse:224688.09607\n",
      "[286]\tTest-rmse:224763.11099\n",
      "[287]\tTest-rmse:224922.77852\n",
      "[288]\tTest-rmse:224801.58440\n",
      "[289]\tTest-rmse:225640.68204\n",
      "[290]\tTest-rmse:225586.21510\n",
      "[291]\tTest-rmse:225604.68827\n",
      "[292]\tTest-rmse:225423.65471\n",
      "[293]\tTest-rmse:225389.50234\n",
      "[294]\tTest-rmse:225259.04618\n",
      "[295]\tTest-rmse:225307.08169\n",
      "[296]\tTest-rmse:225430.25712\n",
      "[297]\tTest-rmse:225398.88394\n",
      "[298]\tTest-rmse:226408.15944\n",
      "[299]\tTest-rmse:226315.96274\n",
      "[300]\tTest-rmse:226245.80454\n",
      "[301]\tTest-rmse:226075.09686\n",
      "[302]\tTest-rmse:226505.28078\n",
      "[303]\tTest-rmse:227149.07003\n",
      "[304]\tTest-rmse:227066.65665\n",
      "[305]\tTest-rmse:227633.46621\n",
      "[306]\tTest-rmse:227796.42027\n",
      "[307]\tTest-rmse:227937.85218\n",
      "[308]\tTest-rmse:227742.13311\n",
      "[309]\tTest-rmse:228375.72331\n",
      "[310]\tTest-rmse:228630.87201\n",
      "[311]\tTest-rmse:228700.80107\n",
      "[312]\tTest-rmse:229473.26510\n",
      "[313]\tTest-rmse:229609.56479\n",
      "[314]\tTest-rmse:229840.28787\n",
      "[315]\tTest-rmse:230055.90641\n",
      "[316]\tTest-rmse:229917.83148\n",
      "[317]\tTest-rmse:229929.64165\n",
      "[318]\tTest-rmse:230067.62267\n",
      "[319]\tTest-rmse:230246.07703\n",
      "[320]\tTest-rmse:230434.79464\n",
      "[321]\tTest-rmse:231421.10488\n",
      "[322]\tTest-rmse:232240.21824\n",
      "[323]\tTest-rmse:232732.36833\n",
      "[324]\tTest-rmse:233029.94921\n",
      "[325]\tTest-rmse:233520.29083\n",
      "[326]\tTest-rmse:233455.99591\n",
      "[327]\tTest-rmse:234570.14039\n",
      "[328]\tTest-rmse:234472.57637\n",
      "[329]\tTest-rmse:234659.13582\n",
      "[330]\tTest-rmse:234925.13371\n",
      "[331]\tTest-rmse:234789.59049\n",
      "[332]\tTest-rmse:234712.30920\n",
      "[333]\tTest-rmse:235378.37785\n",
      "[334]\tTest-rmse:235417.82804\n",
      "[335]\tTest-rmse:235425.48823\n",
      "[336]\tTest-rmse:235178.09810\n",
      "[337]\tTest-rmse:235701.54786\n",
      "[338]\tTest-rmse:235758.23355\n",
      "[339]\tTest-rmse:236083.47777\n",
      "[340]\tTest-rmse:235814.47611\n",
      "[341]\tTest-rmse:236315.67133\n",
      "[342]\tTest-rmse:236487.44286\n",
      "[343]\tTest-rmse:236924.30313\n",
      "[344]\tTest-rmse:236925.31200\n",
      "[345]\tTest-rmse:237316.01916\n",
      "[346]\tTest-rmse:237295.13823\n",
      "[347]\tTest-rmse:237756.76676\n",
      "[348]\tTest-rmse:237963.69664\n",
      "[349]\tTest-rmse:238640.39413\n",
      "[350]\tTest-rmse:238653.82473\n",
      "[351]\tTest-rmse:239535.35340\n",
      "[352]\tTest-rmse:239968.99254\n",
      "[353]\tTest-rmse:239725.58198\n",
      "[354]\tTest-rmse:240325.52814\n",
      "[355]\tTest-rmse:240272.12132\n",
      "[356]\tTest-rmse:240332.36106\n",
      "[357]\tTest-rmse:240647.32724\n",
      "[358]\tTest-rmse:240705.44009\n",
      "[359]\tTest-rmse:240919.85833\n",
      "[360]\tTest-rmse:241430.14322\n",
      "[361]\tTest-rmse:241973.97075\n",
      "[362]\tTest-rmse:242034.44589\n",
      "[363]\tTest-rmse:242423.36609\n",
      "[364]\tTest-rmse:242283.51782\n",
      "[365]\tTest-rmse:242456.28163\n",
      "[366]\tTest-rmse:242698.31850\n",
      "[367]\tTest-rmse:242500.68678\n",
      "[368]\tTest-rmse:242815.79071\n",
      "[369]\tTest-rmse:242607.57522\n",
      "[370]\tTest-rmse:243216.73828\n",
      "[371]\tTest-rmse:242988.64221\n",
      "[372]\tTest-rmse:242868.32708\n",
      "[373]\tTest-rmse:244163.70645\n",
      "[374]\tTest-rmse:244036.58956\n",
      "[375]\tTest-rmse:244045.03078\n",
      "[376]\tTest-rmse:244254.84176\n",
      "[377]\tTest-rmse:244567.71096\n",
      "[378]\tTest-rmse:245000.28488\n",
      "[379]\tTest-rmse:244870.65787\n",
      "[380]\tTest-rmse:244771.38698\n",
      "[381]\tTest-rmse:244939.37613\n",
      "[382]\tTest-rmse:244815.15049\n",
      "[383]\tTest-rmse:244671.65322\n",
      "[384]\tTest-rmse:245236.38796\n",
      "[385]\tTest-rmse:245052.78457\n",
      "[386]\tTest-rmse:245610.44191\n",
      "[387]\tTest-rmse:245752.41925\n",
      "[388]\tTest-rmse:246218.40708\n",
      "[389]\tTest-rmse:246309.46604\n",
      "[390]\tTest-rmse:247252.72991\n",
      "[391]\tTest-rmse:247572.25794\n",
      "[392]\tTest-rmse:247902.12837\n",
      "[393]\tTest-rmse:247979.89864\n",
      "[394]\tTest-rmse:249004.83314\n",
      "[395]\tTest-rmse:248966.89749\n",
      "[396]\tTest-rmse:249572.16939\n",
      "[397]\tTest-rmse:249946.87367\n",
      "[398]\tTest-rmse:250400.37104\n",
      "[399]\tTest-rmse:250380.11779\n",
      "[400]\tTest-rmse:250200.87094\n",
      "[401]\tTest-rmse:249839.00138\n",
      "[402]\tTest-rmse:249812.16344\n",
      "[403]\tTest-rmse:249762.65697\n",
      "[404]\tTest-rmse:249568.59410\n",
      "[405]\tTest-rmse:250195.86758\n",
      "[406]\tTest-rmse:249981.39277\n",
      "[407]\tTest-rmse:249619.75115\n",
      "[408]\tTest-rmse:249664.21552\n",
      "[409]\tTest-rmse:249526.79744\n",
      "[410]\tTest-rmse:249553.21422\n",
      "[411]\tTest-rmse:249938.91354\n",
      "[412]\tTest-rmse:250629.84715\n",
      "[413]\tTest-rmse:250585.40140\n",
      "[414]\tTest-rmse:250686.32455\n",
      "[415]\tTest-rmse:250688.83174\n",
      "[416]\tTest-rmse:250972.96062\n",
      "[417]\tTest-rmse:250801.60345\n",
      "[418]\tTest-rmse:251100.09623\n",
      "[419]\tTest-rmse:251049.68671\n",
      "[420]\tTest-rmse:251768.53990\n",
      "[421]\tTest-rmse:251473.48848\n",
      "[422]\tTest-rmse:251478.19876\n",
      "[423]\tTest-rmse:252316.36993\n",
      "[424]\tTest-rmse:253137.92281\n",
      "[425]\tTest-rmse:253435.31732\n",
      "[426]\tTest-rmse:253739.62858\n",
      "[427]\tTest-rmse:253793.83942\n",
      "[428]\tTest-rmse:254096.14673\n",
      "[429]\tTest-rmse:254246.36387\n",
      "[430]\tTest-rmse:254328.85854\n",
      "[431]\tTest-rmse:254366.61854\n",
      "[432]\tTest-rmse:254015.10690\n",
      "[433]\tTest-rmse:254142.23206\n",
      "[434]\tTest-rmse:253924.49170\n",
      "[435]\tTest-rmse:254642.16899\n",
      "[436]\tTest-rmse:254923.61262\n",
      "[437]\tTest-rmse:254641.89512\n",
      "[438]\tTest-rmse:254578.93055\n",
      "[439]\tTest-rmse:254243.76072\n",
      "[440]\tTest-rmse:254770.01740\n",
      "[441]\tTest-rmse:255622.25560\n",
      "[442]\tTest-rmse:255569.48206\n",
      "[443]\tTest-rmse:255841.30300\n",
      "[444]\tTest-rmse:256594.28903\n",
      "[445]\tTest-rmse:256506.69837\n",
      "[446]\tTest-rmse:256222.83927\n",
      "[447]\tTest-rmse:256669.41556\n",
      "[448]\tTest-rmse:257025.12605\n",
      "[449]\tTest-rmse:258179.61365\n",
      "[450]\tTest-rmse:258119.80084\n",
      "[451]\tTest-rmse:257965.65199\n",
      "[452]\tTest-rmse:257578.11693\n",
      "[453]\tTest-rmse:257382.56884\n",
      "[454]\tTest-rmse:257755.35354\n",
      "[455]\tTest-rmse:258634.16964\n",
      "[456]\tTest-rmse:258780.03614\n",
      "[457]\tTest-rmse:258772.19498\n",
      "[458]\tTest-rmse:258479.19685\n",
      "[459]\tTest-rmse:258863.78974\n",
      "[460]\tTest-rmse:258805.39315\n",
      "[461]\tTest-rmse:258731.71854\n",
      "[462]\tTest-rmse:259547.81760\n",
      "[463]\tTest-rmse:259523.91048\n",
      "[464]\tTest-rmse:259583.87178\n",
      "[465]\tTest-rmse:259512.28573\n",
      "[466]\tTest-rmse:259792.41312\n",
      "[467]\tTest-rmse:260524.13871\n",
      "[468]\tTest-rmse:261737.15278\n",
      "[469]\tTest-rmse:261578.37393\n",
      "[470]\tTest-rmse:261883.41910\n",
      "[471]\tTest-rmse:261544.19463\n",
      "[472]\tTest-rmse:261238.93757\n",
      "[473]\tTest-rmse:261382.95956\n",
      "[474]\tTest-rmse:261189.72214\n",
      "[475]\tTest-rmse:262229.25272\n",
      "[476]\tTest-rmse:261901.24131\n",
      "[477]\tTest-rmse:261787.24413\n",
      "[478]\tTest-rmse:261803.04291\n",
      "[479]\tTest-rmse:262007.11534\n",
      "[480]\tTest-rmse:261811.62919\n",
      "[481]\tTest-rmse:261980.93865\n",
      "[482]\tTest-rmse:261762.54679\n",
      "[483]\tTest-rmse:261342.92902\n",
      "[484]\tTest-rmse:261297.42156\n",
      "[485]\tTest-rmse:261259.92269\n",
      "[486]\tTest-rmse:261399.29223\n",
      "[487]\tTest-rmse:261650.18328\n",
      "[488]\tTest-rmse:261261.34555\n",
      "[489]\tTest-rmse:261201.75310\n",
      "[490]\tTest-rmse:261957.19231\n",
      "[491]\tTest-rmse:261640.36611\n",
      "[492]\tTest-rmse:261841.10551\n",
      "[493]\tTest-rmse:261729.13458\n",
      "[494]\tTest-rmse:261547.88335\n",
      "[495]\tTest-rmse:261265.95885\n",
      "[496]\tTest-rmse:261186.70187\n",
      "[497]\tTest-rmse:261483.90016\n",
      "[498]\tTest-rmse:261481.66495\n",
      "[499]\tTest-rmse:261200.54352\n",
      "[500]\tTest-rmse:261101.09769\n",
      "[501]\tTest-rmse:260920.21363\n",
      "[502]\tTest-rmse:260711.90774\n",
      "[503]\tTest-rmse:260480.41232\n",
      "[504]\tTest-rmse:260387.64786\n",
      "[505]\tTest-rmse:260470.29527\n",
      "[506]\tTest-rmse:260401.47240\n",
      "[507]\tTest-rmse:260372.13610\n",
      "[508]\tTest-rmse:260361.24959\n",
      "[509]\tTest-rmse:260118.60463\n",
      "[510]\tTest-rmse:259897.82935\n",
      "[511]\tTest-rmse:259967.09298\n",
      "[512]\tTest-rmse:259841.52181\n",
      "[513]\tTest-rmse:260153.80582\n",
      "[514]\tTest-rmse:260157.46295\n",
      "[515]\tTest-rmse:260158.07801\n",
      "[516]\tTest-rmse:259824.26279\n",
      "[517]\tTest-rmse:259627.19455\n",
      "[518]\tTest-rmse:259548.09389\n",
      "[519]\tTest-rmse:260444.96937\n",
      "[520]\tTest-rmse:260374.45771\n",
      "[521]\tTest-rmse:260485.97333\n",
      "[522]\tTest-rmse:260929.60941\n",
      "[523]\tTest-rmse:260812.32977\n",
      "[524]\tTest-rmse:260781.87446\n",
      "[525]\tTest-rmse:261403.14319\n",
      "[526]\tTest-rmse:261236.85619\n",
      "[527]\tTest-rmse:261638.45769\n",
      "[528]\tTest-rmse:261251.70715\n",
      "[529]\tTest-rmse:261131.81357\n",
      "[530]\tTest-rmse:261328.41973\n",
      "[531]\tTest-rmse:261436.11591\n",
      "[532]\tTest-rmse:261259.36918\n",
      "[533]\tTest-rmse:261404.39588\n",
      "[534]\tTest-rmse:261615.93796\n",
      "[535]\tTest-rmse:261393.51564\n",
      "[536]\tTest-rmse:261215.45450\n",
      "[537]\tTest-rmse:260963.92624\n",
      "[538]\tTest-rmse:261394.90213\n",
      "[539]\tTest-rmse:261470.25282\n",
      "[540]\tTest-rmse:261858.88521\n",
      "[541]\tTest-rmse:261845.60142\n",
      "[542]\tTest-rmse:261639.58367\n",
      "[543]\tTest-rmse:262101.07904\n",
      "[544]\tTest-rmse:262022.39669\n",
      "[545]\tTest-rmse:262307.19534\n",
      "[546]\tTest-rmse:262627.39201\n",
      "[547]\tTest-rmse:262312.92559\n",
      "[548]\tTest-rmse:262635.92140\n",
      "[549]\tTest-rmse:262625.95523\n",
      "[550]\tTest-rmse:262768.83820\n",
      "[551]\tTest-rmse:262817.11924\n",
      "[552]\tTest-rmse:263099.40920\n",
      "[553]\tTest-rmse:262944.62959\n",
      "[554]\tTest-rmse:262765.52899\n",
      "[555]\tTest-rmse:262920.70040\n",
      "[556]\tTest-rmse:262973.12465\n",
      "[557]\tTest-rmse:262795.53932\n",
      "[558]\tTest-rmse:262904.73968\n",
      "[559]\tTest-rmse:262758.95044\n",
      "[560]\tTest-rmse:262390.67525\n",
      "[561]\tTest-rmse:262164.44959\n",
      "[562]\tTest-rmse:262057.21931\n",
      "[563]\tTest-rmse:262384.72337\n",
      "[564]\tTest-rmse:262498.90134\n",
      "[565]\tTest-rmse:262443.51093\n",
      "[566]\tTest-rmse:262668.69250\n",
      "[567]\tTest-rmse:262515.66296\n",
      "[568]\tTest-rmse:262240.20743\n",
      "[569]\tTest-rmse:262660.68737\n",
      "[570]\tTest-rmse:262793.49716\n",
      "[571]\tTest-rmse:262681.81854\n",
      "[572]\tTest-rmse:262664.60931\n",
      "[573]\tTest-rmse:262939.69073\n",
      "[574]\tTest-rmse:262888.41536\n",
      "[575]\tTest-rmse:262714.83121\n",
      "[576]\tTest-rmse:262780.56605\n",
      "[577]\tTest-rmse:262610.61905\n",
      "[578]\tTest-rmse:262596.02107\n",
      "[579]\tTest-rmse:262453.02591\n",
      "[580]\tTest-rmse:262498.21244\n",
      "[581]\tTest-rmse:262464.00315\n",
      "[582]\tTest-rmse:262625.18756\n",
      "[583]\tTest-rmse:262543.39139\n",
      "[584]\tTest-rmse:262844.40771\n",
      "[585]\tTest-rmse:263038.17955\n",
      "[586]\tTest-rmse:262853.46346\n",
      "[587]\tTest-rmse:263434.67847\n",
      "[588]\tTest-rmse:263299.86339\n",
      "[589]\tTest-rmse:263154.33356\n",
      "[590]\tTest-rmse:263555.29090\n",
      "[591]\tTest-rmse:263985.46058\n",
      "[592]\tTest-rmse:263882.59830\n",
      "[593]\tTest-rmse:263610.39509\n",
      "[594]\tTest-rmse:264031.40787\n",
      "[595]\tTest-rmse:263763.44426\n",
      "[596]\tTest-rmse:263915.67837\n",
      "[597]\tTest-rmse:264221.78439\n",
      "[598]\tTest-rmse:264157.54880\n",
      "[599]\tTest-rmse:264071.25468\n",
      "[600]\tTest-rmse:264176.62504\n",
      "[601]\tTest-rmse:264080.54361\n",
      "[602]\tTest-rmse:263973.57735\n",
      "[603]\tTest-rmse:264080.66756\n",
      "[604]\tTest-rmse:264154.84126\n",
      "[605]\tTest-rmse:263908.87246\n",
      "[606]\tTest-rmse:264015.82190\n",
      "[607]\tTest-rmse:263897.86340\n",
      "[608]\tTest-rmse:263681.25522\n",
      "[609]\tTest-rmse:263689.22593\n",
      "[610]\tTest-rmse:263397.33958\n",
      "[611]\tTest-rmse:263289.95198\n",
      "[612]\tTest-rmse:263306.20417\n",
      "[613]\tTest-rmse:263082.19295\n",
      "[614]\tTest-rmse:262964.27583\n",
      "[615]\tTest-rmse:263208.60097\n",
      "[616]\tTest-rmse:263037.45847\n",
      "[617]\tTest-rmse:262997.75052\n",
      "[618]\tTest-rmse:262716.69467\n",
      "[619]\tTest-rmse:262745.90186\n",
      "[620]\tTest-rmse:262592.58132\n",
      "[621]\tTest-rmse:262350.34471\n",
      "[622]\tTest-rmse:262249.64724\n",
      "[623]\tTest-rmse:262708.95604\n",
      "[624]\tTest-rmse:263226.12247\n",
      "[625]\tTest-rmse:262894.11278\n",
      "[626]\tTest-rmse:263185.48326\n",
      "[627]\tTest-rmse:263539.78835\n",
      "[628]\tTest-rmse:263945.13878\n",
      "[629]\tTest-rmse:263758.51361\n",
      "[630]\tTest-rmse:263722.22178\n",
      "[631]\tTest-rmse:263919.41901\n",
      "[632]\tTest-rmse:264152.31033\n",
      "[633]\tTest-rmse:263927.87599\n",
      "[634]\tTest-rmse:263863.86954\n",
      "[635]\tTest-rmse:263877.64035\n",
      "[636]\tTest-rmse:263629.58960\n",
      "[637]\tTest-rmse:263550.34841\n",
      "[638]\tTest-rmse:263682.84820\n",
      "[639]\tTest-rmse:263478.55946\n",
      "[640]\tTest-rmse:263282.41047\n",
      "[641]\tTest-rmse:263389.15064\n",
      "[642]\tTest-rmse:263355.98004\n",
      "[643]\tTest-rmse:263186.12023\n",
      "[644]\tTest-rmse:263267.95058\n",
      "[645]\tTest-rmse:263130.13337\n",
      "[646]\tTest-rmse:263153.06979\n",
      "[647]\tTest-rmse:263009.99484\n",
      "[648]\tTest-rmse:263021.57688\n",
      "[649]\tTest-rmse:262700.24226\n",
      "[650]\tTest-rmse:262635.23753\n",
      "[651]\tTest-rmse:262528.35913\n",
      "[652]\tTest-rmse:262356.59955\n",
      "[653]\tTest-rmse:262245.61246\n",
      "[654]\tTest-rmse:262048.32806\n",
      "[655]\tTest-rmse:262067.97207\n",
      "[656]\tTest-rmse:262761.76930\n",
      "[657]\tTest-rmse:263288.37228\n",
      "[658]\tTest-rmse:263147.51820\n",
      "[659]\tTest-rmse:263056.62034\n",
      "[660]\tTest-rmse:262859.67095\n",
      "[661]\tTest-rmse:262696.64444\n",
      "[662]\tTest-rmse:262584.04692\n",
      "[663]\tTest-rmse:262420.85550\n",
      "[664]\tTest-rmse:262377.30037\n",
      "[665]\tTest-rmse:262420.34821\n",
      "[666]\tTest-rmse:262743.97992\n",
      "[667]\tTest-rmse:262930.85863\n",
      "[668]\tTest-rmse:262822.30077\n",
      "[669]\tTest-rmse:262672.23565\n",
      "[670]\tTest-rmse:262587.27940\n",
      "[671]\tTest-rmse:263019.37764\n",
      "[672]\tTest-rmse:262899.19551\n",
      "[673]\tTest-rmse:262887.68947\n",
      "[674]\tTest-rmse:262548.83487\n",
      "[675]\tTest-rmse:262905.65767\n",
      "[676]\tTest-rmse:262796.47241\n",
      "[677]\tTest-rmse:262986.15227\n",
      "[678]\tTest-rmse:263172.57487\n",
      "[679]\tTest-rmse:263296.66175\n",
      "[680]\tTest-rmse:263133.80955\n",
      "[681]\tTest-rmse:263006.10735\n",
      "[682]\tTest-rmse:263187.50385\n",
      "[683]\tTest-rmse:263042.42894\n",
      "[684]\tTest-rmse:263138.41233\n",
      "[685]\tTest-rmse:263040.58142\n",
      "[686]\tTest-rmse:263193.63270\n",
      "[687]\tTest-rmse:263097.27421\n",
      "[688]\tTest-rmse:263160.64664\n",
      "[689]\tTest-rmse:263596.14158\n",
      "[690]\tTest-rmse:263618.85756\n",
      "[691]\tTest-rmse:263358.83896\n",
      "[692]\tTest-rmse:263259.94833\n",
      "[693]\tTest-rmse:263802.34401\n",
      "[694]\tTest-rmse:263748.13953\n",
      "[695]\tTest-rmse:263728.06951\n",
      "[696]\tTest-rmse:263661.54897\n",
      "[697]\tTest-rmse:263917.20072\n",
      "[698]\tTest-rmse:263777.14767\n",
      "[699]\tTest-rmse:263553.74292\n",
      "[700]\tTest-rmse:263512.11675\n",
      "[701]\tTest-rmse:263436.96865\n",
      "[702]\tTest-rmse:263281.57742\n",
      "[703]\tTest-rmse:263078.70993\n",
      "[704]\tTest-rmse:262859.13907\n",
      "[705]\tTest-rmse:262753.14992\n",
      "[706]\tTest-rmse:262548.09082\n",
      "[707]\tTest-rmse:262594.18895\n",
      "[708]\tTest-rmse:262630.21003\n",
      "[709]\tTest-rmse:262546.55737\n",
      "[710]\tTest-rmse:262550.04276\n",
      "[711]\tTest-rmse:262439.47587\n",
      "[712]\tTest-rmse:262305.64081\n",
      "[713]\tTest-rmse:262574.31194\n",
      "[714]\tTest-rmse:262555.87392\n",
      "[715]\tTest-rmse:262492.05772\n",
      "[716]\tTest-rmse:262513.55786\n",
      "[717]\tTest-rmse:262420.27483\n",
      "[718]\tTest-rmse:262240.30534\n",
      "[719]\tTest-rmse:262131.38228\n",
      "[720]\tTest-rmse:262261.16410\n",
      "[721]\tTest-rmse:262135.91273\n",
      "[722]\tTest-rmse:262461.10050\n",
      "[723]\tTest-rmse:262559.73129\n",
      "[724]\tTest-rmse:262522.41137\n",
      "[725]\tTest-rmse:262451.05980\n",
      "[726]\tTest-rmse:262605.36366\n",
      "[727]\tTest-rmse:262572.15645\n",
      "[728]\tTest-rmse:262517.92047\n",
      "[729]\tTest-rmse:262507.90357\n",
      "[730]\tTest-rmse:262491.74812\n",
      "[731]\tTest-rmse:262448.04905\n",
      "[732]\tTest-rmse:262417.87892\n",
      "[733]\tTest-rmse:262269.65184\n",
      "[734]\tTest-rmse:262209.96160\n",
      "[735]\tTest-rmse:262024.13698\n",
      "[736]\tTest-rmse:262013.58535\n",
      "[737]\tTest-rmse:262012.44484\n",
      "[738]\tTest-rmse:261946.40349\n",
      "[739]\tTest-rmse:262150.41292\n",
      "[740]\tTest-rmse:262295.15157\n",
      "[741]\tTest-rmse:261756.62457\n",
      "[742]\tTest-rmse:261741.24672\n",
      "[743]\tTest-rmse:261719.41880\n",
      "[744]\tTest-rmse:261498.27590\n",
      "[745]\tTest-rmse:261466.82556\n",
      "[746]\tTest-rmse:261755.57315\n",
      "[747]\tTest-rmse:261605.17961\n",
      "[748]\tTest-rmse:261689.16427\n",
      "[749]\tTest-rmse:261648.67944\n",
      "[750]\tTest-rmse:261729.67874\n",
      "[751]\tTest-rmse:261746.98090\n",
      "[752]\tTest-rmse:261686.55761\n",
      "[753]\tTest-rmse:262119.22938\n",
      "[754]\tTest-rmse:262033.88537\n",
      "[755]\tTest-rmse:262278.02643\n",
      "[756]\tTest-rmse:262295.77116\n",
      "[757]\tTest-rmse:262267.98348\n",
      "[758]\tTest-rmse:262244.13656\n",
      "[759]\tTest-rmse:262216.11415\n",
      "[760]\tTest-rmse:262299.02007\n",
      "[761]\tTest-rmse:262205.15921\n",
      "[762]\tTest-rmse:262172.25086\n",
      "[763]\tTest-rmse:262225.17845\n",
      "[764]\tTest-rmse:262136.83778\n",
      "[765]\tTest-rmse:262118.47547\n",
      "[766]\tTest-rmse:262074.94104\n",
      "[767]\tTest-rmse:261963.45537\n",
      "[768]\tTest-rmse:262021.10187\n",
      "[769]\tTest-rmse:262239.99112\n",
      "[770]\tTest-rmse:262219.57728\n",
      "[771]\tTest-rmse:262209.32474\n",
      "[772]\tTest-rmse:262221.94774\n",
      "[773]\tTest-rmse:261938.03393\n",
      "[774]\tTest-rmse:261927.53441\n",
      "[775]\tTest-rmse:262050.62001\n",
      "[776]\tTest-rmse:261913.00510\n",
      "[777]\tTest-rmse:262345.63437\n",
      "[778]\tTest-rmse:262378.83088\n",
      "[779]\tTest-rmse:262307.48693\n",
      "[780]\tTest-rmse:262168.98412\n",
      "[781]\tTest-rmse:262138.23429\n",
      "[782]\tTest-rmse:262121.37436\n",
      "[783]\tTest-rmse:261922.97050\n",
      "[784]\tTest-rmse:262138.62049\n",
      "[785]\tTest-rmse:262107.96886\n",
      "[786]\tTest-rmse:262016.83445\n",
      "[787]\tTest-rmse:262435.07679\n",
      "[788]\tTest-rmse:262351.41377\n",
      "[789]\tTest-rmse:262724.49927\n",
      "[790]\tTest-rmse:262749.29424\n",
      "[791]\tTest-rmse:262657.37326\n",
      "[792]\tTest-rmse:262543.01755\n",
      "[793]\tTest-rmse:262495.35008\n",
      "[794]\tTest-rmse:262356.09523\n",
      "[795]\tTest-rmse:262681.31140\n",
      "[796]\tTest-rmse:262436.01651\n",
      "[797]\tTest-rmse:262772.04248\n",
      "[798]\tTest-rmse:262908.82284\n",
      "[799]\tTest-rmse:262793.57245\n",
      "[800]\tTest-rmse:262657.58319\n",
      "[801]\tTest-rmse:262529.35225\n",
      "[802]\tTest-rmse:262550.07364\n",
      "[803]\tTest-rmse:262504.72064\n",
      "[804]\tTest-rmse:263500.88652\n",
      "[805]\tTest-rmse:263722.57981\n",
      "[806]\tTest-rmse:263652.75755\n",
      "[807]\tTest-rmse:263669.88316\n",
      "[808]\tTest-rmse:263903.21913\n",
      "[809]\tTest-rmse:263818.65367\n",
      "[810]\tTest-rmse:263692.62035\n",
      "[811]\tTest-rmse:263560.21548\n",
      "[812]\tTest-rmse:263618.16460\n",
      "[813]\tTest-rmse:263981.24256\n",
      "[814]\tTest-rmse:263849.40921\n",
      "[815]\tTest-rmse:263922.43143\n",
      "[816]\tTest-rmse:263867.37304\n",
      "[817]\tTest-rmse:263968.77342\n",
      "[818]\tTest-rmse:264011.45313\n",
      "[819]\tTest-rmse:264045.29935\n",
      "[820]\tTest-rmse:264461.39818\n",
      "[821]\tTest-rmse:264817.12469\n",
      "[822]\tTest-rmse:264718.92303\n",
      "[823]\tTest-rmse:264626.28186\n",
      "[824]\tTest-rmse:265026.85034\n",
      "[825]\tTest-rmse:264945.11615\n",
      "[826]\tTest-rmse:264794.25805\n",
      "[827]\tTest-rmse:264767.39276\n",
      "[828]\tTest-rmse:265110.68465\n",
      "[829]\tTest-rmse:265059.08873\n",
      "[830]\tTest-rmse:264944.38470\n",
      "[831]\tTest-rmse:265034.32005\n",
      "[832]\tTest-rmse:264959.17080\n",
      "[833]\tTest-rmse:264827.47124\n",
      "[834]\tTest-rmse:264862.78347\n",
      "[835]\tTest-rmse:264891.67413\n",
      "[836]\tTest-rmse:264988.37334\n",
      "[837]\tTest-rmse:264976.10122\n",
      "[838]\tTest-rmse:264972.72555\n",
      "[839]\tTest-rmse:265227.87881\n",
      "[840]\tTest-rmse:265112.83325\n",
      "[841]\tTest-rmse:265314.24695\n",
      "[842]\tTest-rmse:265561.58930\n",
      "[843]\tTest-rmse:265374.20086\n",
      "[844]\tTest-rmse:265476.68847\n",
      "[845]\tTest-rmse:265772.06476\n",
      "[846]\tTest-rmse:265843.42928\n",
      "[847]\tTest-rmse:266256.88204\n",
      "[848]\tTest-rmse:266181.27559\n",
      "[849]\tTest-rmse:266427.85903\n",
      "[850]\tTest-rmse:266426.18043\n",
      "[851]\tTest-rmse:266535.69941\n",
      "[852]\tTest-rmse:266914.70951\n",
      "[853]\tTest-rmse:267045.42713\n",
      "[854]\tTest-rmse:266847.03266\n",
      "[855]\tTest-rmse:267107.82987\n",
      "[856]\tTest-rmse:267046.66885\n",
      "[857]\tTest-rmse:267617.02619\n",
      "[858]\tTest-rmse:267799.27991\n",
      "[859]\tTest-rmse:268245.87293\n",
      "[860]\tTest-rmse:268391.23885\n",
      "[861]\tTest-rmse:268328.51844\n",
      "[862]\tTest-rmse:268391.21410\n",
      "[863]\tTest-rmse:268990.20736\n",
      "[864]\tTest-rmse:268906.11437\n",
      "[865]\tTest-rmse:269050.76884\n",
      "[866]\tTest-rmse:269005.81469\n",
      "[867]\tTest-rmse:268864.06594\n",
      "[868]\tTest-rmse:268824.92535\n",
      "[869]\tTest-rmse:269175.86857\n",
      "[870]\tTest-rmse:269017.64742\n",
      "[871]\tTest-rmse:269108.36892\n",
      "[872]\tTest-rmse:268850.14189\n",
      "[873]\tTest-rmse:269324.78480\n",
      "[874]\tTest-rmse:269227.83879\n",
      "[875]\tTest-rmse:269356.07009\n",
      "[876]\tTest-rmse:269364.21894\n",
      "[877]\tTest-rmse:269346.14285\n",
      "[878]\tTest-rmse:269437.08356\n",
      "[879]\tTest-rmse:269345.82564\n",
      "[880]\tTest-rmse:269419.85225\n",
      "[881]\tTest-rmse:269760.78485\n",
      "[882]\tTest-rmse:269676.80903\n",
      "[883]\tTest-rmse:269582.09158\n",
      "[884]\tTest-rmse:269644.90205\n",
      "[885]\tTest-rmse:269572.92483\n",
      "[886]\tTest-rmse:269700.70840\n",
      "[887]\tTest-rmse:269660.00847\n",
      "[888]\tTest-rmse:270199.19715\n",
      "[889]\tTest-rmse:270176.88471\n",
      "[890]\tTest-rmse:270059.46845\n",
      "[891]\tTest-rmse:270238.79504\n",
      "[892]\tTest-rmse:270157.70925\n",
      "[893]\tTest-rmse:270204.41946\n",
      "[894]\tTest-rmse:270034.84456\n",
      "[895]\tTest-rmse:269981.67855\n",
      "[896]\tTest-rmse:270058.75524\n",
      "[897]\tTest-rmse:270304.51038\n",
      "[898]\tTest-rmse:270453.23140\n",
      "[899]\tTest-rmse:270451.75545\n",
      "[900]\tTest-rmse:270388.71182\n",
      "[901]\tTest-rmse:270403.83766\n",
      "[902]\tTest-rmse:270332.27050\n",
      "[903]\tTest-rmse:270209.88557\n",
      "[904]\tTest-rmse:270105.93050\n",
      "[905]\tTest-rmse:270054.76329\n",
      "[906]\tTest-rmse:270089.99679\n",
      "[907]\tTest-rmse:270061.61013\n",
      "[908]\tTest-rmse:269938.04728\n",
      "[909]\tTest-rmse:270028.38476\n",
      "[910]\tTest-rmse:269951.44259\n",
      "[911]\tTest-rmse:269916.89838\n",
      "[912]\tTest-rmse:269966.18407\n",
      "[913]\tTest-rmse:270002.92990\n",
      "[914]\tTest-rmse:270012.44477\n",
      "[915]\tTest-rmse:270118.88025\n",
      "[916]\tTest-rmse:270142.71489\n",
      "[917]\tTest-rmse:269965.50257\n",
      "[918]\tTest-rmse:269894.54065\n",
      "[919]\tTest-rmse:269888.16279\n",
      "[920]\tTest-rmse:269792.80083\n",
      "[921]\tTest-rmse:269648.96923\n",
      "[922]\tTest-rmse:269698.19517\n",
      "[923]\tTest-rmse:269681.45741\n",
      "[924]\tTest-rmse:270060.12985\n",
      "[925]\tTest-rmse:269977.01630\n",
      "[926]\tTest-rmse:269990.13566\n",
      "[927]\tTest-rmse:270394.10888\n",
      "[928]\tTest-rmse:270378.68739\n",
      "[929]\tTest-rmse:270444.03716\n",
      "[930]\tTest-rmse:270374.52042\n",
      "[931]\tTest-rmse:270327.27394\n",
      "[932]\tTest-rmse:270389.76749\n",
      "[933]\tTest-rmse:270423.99379\n",
      "[934]\tTest-rmse:270413.19906\n",
      "[935]\tTest-rmse:270360.15605\n",
      "[936]\tTest-rmse:270298.12138\n",
      "[937]\tTest-rmse:270300.49577\n",
      "[938]\tTest-rmse:270269.05879\n",
      "[939]\tTest-rmse:270227.05338\n",
      "[940]\tTest-rmse:270130.67572\n",
      "[941]\tTest-rmse:270525.52341\n",
      "[942]\tTest-rmse:270483.86345\n",
      "[943]\tTest-rmse:270521.30427\n",
      "[944]\tTest-rmse:270554.96207\n",
      "[945]\tTest-rmse:270301.63935\n",
      "[946]\tTest-rmse:270214.27422\n",
      "[947]\tTest-rmse:270262.64824\n",
      "[948]\tTest-rmse:270343.74517\n",
      "[949]\tTest-rmse:270372.65477\n",
      "[950]\tTest-rmse:270328.60396\n",
      "[951]\tTest-rmse:270267.52824\n",
      "[952]\tTest-rmse:270293.66212\n",
      "[953]\tTest-rmse:270572.52498\n",
      "[954]\tTest-rmse:270575.09133\n",
      "[955]\tTest-rmse:270473.84571\n",
      "[956]\tTest-rmse:270378.54489\n",
      "[957]\tTest-rmse:270310.06982\n",
      "[958]\tTest-rmse:270214.15673\n",
      "[959]\tTest-rmse:270239.40751\n",
      "[960]\tTest-rmse:270521.66348\n",
      "[961]\tTest-rmse:270532.94943\n",
      "[962]\tTest-rmse:270644.49704\n",
      "[963]\tTest-rmse:270578.97778\n",
      "[964]\tTest-rmse:270562.14984\n",
      "[965]\tTest-rmse:270422.81424\n",
      "[966]\tTest-rmse:270373.13579\n",
      "[967]\tTest-rmse:270308.84112\n",
      "[968]\tTest-rmse:270280.88178\n",
      "[969]\tTest-rmse:270330.14503\n",
      "[970]\tTest-rmse:270398.93502\n",
      "[971]\tTest-rmse:270458.45334\n",
      "[972]\tTest-rmse:270427.03948\n",
      "[973]\tTest-rmse:270356.54457\n",
      "[974]\tTest-rmse:270400.37371\n",
      "[975]\tTest-rmse:270355.32170\n",
      "[976]\tTest-rmse:270792.49061\n",
      "[977]\tTest-rmse:270786.11643\n",
      "[978]\tTest-rmse:270828.88772\n",
      "[979]\tTest-rmse:271066.32136\n",
      "[980]\tTest-rmse:271004.20187\n",
      "[981]\tTest-rmse:270832.70548\n",
      "[982]\tTest-rmse:270855.62778\n",
      "[983]\tTest-rmse:270896.48789\n",
      "[984]\tTest-rmse:270872.08886\n",
      "[985]\tTest-rmse:270985.03754\n",
      "[986]\tTest-rmse:270930.63501\n",
      "[987]\tTest-rmse:270783.23184\n",
      "[988]\tTest-rmse:270715.12326\n",
      "[989]\tTest-rmse:270681.48144\n",
      "[990]\tTest-rmse:271020.17804\n",
      "[991]\tTest-rmse:271367.22983\n",
      "[992]\tTest-rmse:271544.52388\n",
      "[993]\tTest-rmse:271381.87831\n",
      "[994]\tTest-rmse:271283.77147\n",
      "[995]\tTest-rmse:271526.28377\n",
      "[996]\tTest-rmse:271562.63260\n",
      "[997]\tTest-rmse:271615.16975\n",
      "[998]\tTest-rmse:271694.30655\n",
      "[999]\tTest-rmse:271883.78526\n"
     ]
    }
   ],
   "source": [
    "# further best model\n",
    "b_num_boost_round = 1000\n",
    "best_model = xgboost.train(\n",
    "    b_params,\n",
    "    dtrain,\n",
    "    num_boost_round=b_num_boost_round,\n",
    "    evals=[(dtest, \"Test\")]\n",
    ")"
   ]
  },
  {
   "cell_type": "code",
   "execution_count": 79,
   "metadata": {},
   "outputs": [
    {
     "name": "stdout",
     "output_type": "stream",
     "text": [
      "train mae:64526.78205300291\n",
      "train MSE:243092060505.61533\n",
      "R2_score (train):  0.9178082863187346\n",
      "--------------------------------------------------\n",
      "test mae:68427.60415815948\n",
      "test MSE:73920792825.77776\n",
      "R2_score (test):  -0.12698191996858244\n"
     ]
    }
   ],
   "source": [
    "# 1000棵樹效果好一些\n",
    "from sklearn.metrics import mean_squared_error\n",
    "from sklearn.metrics import mean_absolute_error\n",
    "from sklearn.metrics import r2_score\n",
    "\n",
    "print(f\"train mae:{mean_absolute_error(best_model.predict(dtrain), y_train)}\")\n",
    "print(f\"train MSE:{mean_squared_error(best_model.predict(dtrain), y_train)}\")\n",
    "r2_score_linear_train = r2_score(y_train, best_model.predict(dtrain))\n",
    "print('R2_score (train): ', r2_score_linear_train)\n",
    "print('-'*50)\n",
    "\n",
    "print(f\"test mae:{mean_absolute_error(best_model.predict(dtest), y_test)}\")\n",
    "print(f\"test MSE:{mean_squared_error(best_model.predict(dtest), y_test)}\")\n",
    "r2_score_linear_test = r2_score(y_test, best_model.predict(dtest))\n",
    "print('R2_score (test): ', r2_score_linear_test)\n"
   ]
  },
  {
   "cell_type": "code",
   "execution_count": 52,
   "metadata": {},
   "outputs": [
    {
     "ename": "AttributeError",
     "evalue": "'Booster' object has no attribute 'fit'",
     "output_type": "error",
     "traceback": [
      "\u001b[1;31m---------------------------------------------------------------------------\u001b[0m",
      "\u001b[1;31mAttributeError\u001b[0m                            Traceback (most recent call last)",
      "Cell \u001b[1;32mIn[52], line 5\u001b[0m\n\u001b[0;32m      2\u001b[0m \u001b[38;5;28;01mfrom\u001b[39;00m \u001b[38;5;21;01msklearn\u001b[39;00m\u001b[38;5;21;01m.\u001b[39;00m\u001b[38;5;21;01mmetrics\u001b[39;00m \u001b[38;5;28;01mimport\u001b[39;00m mean_squared_error\n\u001b[0;32m      3\u001b[0m \u001b[38;5;28;01mfrom\u001b[39;00m \u001b[38;5;21;01msklearn\u001b[39;00m\u001b[38;5;21;01m.\u001b[39;00m\u001b[38;5;21;01mmetrics\u001b[39;00m \u001b[38;5;28;01mimport\u001b[39;00m mean_absolute_error\n\u001b[1;32m----> 5\u001b[0m \u001b[43mbest_model\u001b[49m\u001b[38;5;241;43m.\u001b[39;49m\u001b[43mfit\u001b[49m(X_train, y_train)\n\u001b[0;32m      6\u001b[0m y_test_pred_xg \u001b[38;5;241m=\u001b[39m best_model\u001b[38;5;241m.\u001b[39mpredict(X_test)\n\u001b[0;32m     10\u001b[0m \u001b[38;5;66;03m# R2 score，即決定係數，反映Y的全部變異能通過迴歸關係被所有X解釋的比例。\u001b[39;00m\n\u001b[0;32m     11\u001b[0m \n\u001b[0;32m     12\u001b[0m \u001b[38;5;66;03m# y_pred_linear_train = model_xg.fit(X_test) # test\u001b[39;00m\n",
      "\u001b[1;31mAttributeError\u001b[0m: 'Booster' object has no attribute 'fit'"
     ]
    }
   ],
   "source": [
    "from sklearn.metrics import r2_score\n",
    "from sklearn.metrics import mean_squared_error\n",
    "from sklearn.metrics import mean_absolute_error\n",
    "\n",
    "best_model.fit(X_train, y_train)\n",
    "y_test_pred_xg = best_model.predict(X_test)\n",
    "\n",
    "\n",
    "\n",
    "# R2 score，即決定係數，反映Y的全部變異能通過迴歸關係被所有X解釋的比例。\n",
    "\n",
    "# y_pred_linear_train = model_xg.fit(X_test) # test\n",
    "r2_score_linear_test = r2_score(y_test, y_test_pred_xg)\n",
    "\n",
    "# train\n",
    "y_train_predict = best_model.predict(X_train) \n",
    "r2_score_linear_train = r2_score(y_train, y_train_predict)\n",
    "\n",
    "# y_pred_linear_test = model_xg.predict(X_test)\n",
    "# r2_score_linear_test = r2_score(y_test, y_pred_linear_test)\n",
    "\n",
    "# RMSE一般指均方根誤差(標準誤差)，可衡量預測值和實際值之間的平均差異，藉此估計預測模型預測目標值的準確度(越低越好)\n",
    "rmse_train = (np.sqrt(mean_squared_error(y_train, y_train_predict)))\n",
    "rmse_test = (np.sqrt(mean_squared_error(y_test, y_test_pred_xg)))\n",
    "\n",
    "print('R2_score (train): ', r2_score_linear_train)\n",
    "print('R2_score (test): ', r2_score_linear_test)\n",
    "print(\"RMSE: \", rmse_train)\n",
    "print(\"RMSE: \", rmse_test)"
   ]
  },
  {
   "cell_type": "markdown",
   "metadata": {},
   "source": [
    "# 基礎形式的xgboost"
   ]
  },
  {
   "cell_type": "code",
   "execution_count": null,
   "metadata": {},
   "outputs": [],
   "source": [
    "# model_xg = XGBRFRegressor()\n",
    "# model_xg.fit(X_train, y_train)\n",
    "# y_test_pred_xg = model_xg.predict(X_test)\n",
    "# # metrics.accuracy_score(y_test, y_test_pred_xg)"
   ]
  },
  {
   "cell_type": "code",
   "execution_count": null,
   "metadata": {},
   "outputs": [
    {
     "name": "stdout",
     "output_type": "stream",
     "text": [
      "R2_score (train):  0.9344782935499697\n",
      "R2_score (test):  0.38124705414878035\n",
      "RMSE:  440214.1209514309\n",
      "RMSE:  201457.51543300366\n"
     ]
    }
   ],
   "source": [
    "from sklearn.metrics import r2_score\n",
    "from sklearn.metrics import mean_squared_error\n",
    "from sklearn.metrics import mean_absolute_error\n",
    "\n",
    "# R2 score，即決定係數，反映Y的全部變異能通過迴歸關係被所有X解釋的比例。\n",
    "\n",
    "# y_pred_linear_train = model_xg.fit(X_test) # test\n",
    "r2_score_linear_test = r2_score(y_test, y_test_pred_xg)\n",
    "\n",
    "# train\n",
    "y_train_predict = model_xg.predict(X_train) \n",
    "r2_score_linear_train = r2_score(y_train, y_train_predict)\n",
    "\n",
    "# y_pred_linear_test = model_xg.predict(X_test)\n",
    "# r2_score_linear_test = r2_score(y_test, y_pred_linear_test)\n",
    "\n",
    "# RMSE一般指均方根誤差(標準誤差)，可衡量預測值和實際值之間的平均差異，藉此估計預測模型預測目標值的準確度(越低越好)\n",
    "rmse_train = (np.sqrt(mean_squared_error(y_train, y_train_predict)))\n",
    "rmse_test = (np.sqrt(mean_squared_error(y_test, y_test_pred_xg)))\n",
    "\n",
    "print('R2_score (train): ', r2_score_linear_train)\n",
    "print('R2_score (test): ', r2_score_linear_test)\n",
    "print(\"RMSE: \", rmse_train)\n",
    "print(\"RMSE: \", rmse_test)"
   ]
  },
  {
   "cell_type": "code",
   "execution_count": null,
   "metadata": {},
   "outputs": [],
   "source": []
  }
 ],
 "metadata": {
  "kernelspec": {
   "display_name": "web_scraping",
   "language": "python",
   "name": "python3"
  },
  "language_info": {
   "codemirror_mode": {
    "name": "ipython",
    "version": 3
   },
   "file_extension": ".py",
   "mimetype": "text/x-python",
   "name": "python",
   "nbconvert_exporter": "python",
   "pygments_lexer": "ipython3",
   "version": "3.10.14"
  }
 },
 "nbformat": 4,
 "nbformat_minor": 2
}
