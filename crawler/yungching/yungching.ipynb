{
 "cells": [
  {
   "cell_type": "code",
   "execution_count": 31,
   "metadata": {},
   "outputs": [
    {
     "name": "stdout",
     "output_type": "stream",
     "text": [
      "100\n"
     ]
    }
   ],
   "source": [
    "import json\n",
    "with open(\"../591-code/result-data/taipei_591_page_crawler_for_coordinate.json\", \"r\") as f:\n",
    "    data = f.read()\n",
    "    house_list = json.loads(data)\n",
    "    print(len(house_list))"
   ]
  },
  {
   "cell_type": "code",
   "execution_count": null,
   "metadata": {},
   "outputs": [],
   "source": []
  },
  {
   "cell_type": "code",
   "execution_count": null,
   "metadata": {},
   "outputs": [],
   "source": [
    "url = 'https://buy.yungching.com.tw/region/%E5%8F%B0%E5%8C%97%E5%B8%82-_c/?pg=1'\n"
   ]
  },
  {
   "cell_type": "code",
   "execution_count": 1,
   "metadata": {},
   "outputs": [],
   "source": [
    "import requests\n",
    "from bs4 import BeautifulSoup \n",
    "import warnings\n",
    "import re\n",
    "import logging\n",
    "import json\n",
    "from time import sleep\n",
    "warnings.filterwarnings(\"ignore\")"
   ]
  },
  {
   "cell_type": "code",
   "execution_count": 2,
   "metadata": {},
   "outputs": [],
   "source": [
    "url = 'https://buy.yungching.com.tw/region/%E5%8F%B0%E5%8C%97%E5%B8%82-_c/?pg=1'"
   ]
  },
  {
   "cell_type": "code",
   "execution_count": 3,
   "metadata": {},
   "outputs": [],
   "source": [
    "headers={'user-agent' : 'Mozilla/5.0 (Windows NT 10.0; Win64; x64) AppleWebKit/537.36 (KHTML, like Gecko) Chrome/84.0.4147.125 Safari/537.36'}\n",
    "res=requests.get(url, headers = headers)"
   ]
  },
  {
   "cell_type": "code",
   "execution_count": 5,
   "metadata": {},
   "outputs": [],
   "source": [
    "soup=BeautifulSoup(res.text,'html.parser')"
   ]
  },
  {
   "cell_type": "code",
   "execution_count": 22,
   "metadata": {},
   "outputs": [],
   "source": [
    "info_price_num = soup.select('li.m-list-item > a.item-img.gtmPushEvent')"
   ]
  },
  {
   "cell_type": "code",
   "execution_count": 24,
   "metadata": {},
   "outputs": [
    {
     "name": "stdout",
     "output_type": "stream",
     "text": [
      "/house/6078056\n",
      "/house/6320035\n",
      "/house/6314788\n",
      "/house/5881510\n",
      "/house/6293140\n",
      "/house/5246176\n",
      "/house/6104546\n",
      "/house/6326114\n",
      "/house/6023505\n",
      "/house/6236591\n",
      "/house/5539796\n",
      "/house/6276733\n",
      "/house/5949318\n",
      "/house/6285237\n",
      "/house/6167116\n",
      "/house/6310802\n",
      "/house/5984579\n",
      "/house/4050152\n",
      "/house/6088708\n",
      "/house/4713251\n",
      "/house/4751186\n",
      "/house/5906120\n",
      "/house/5929306\n",
      "/house/3999808\n",
      "/house/5913297\n",
      "/house/5302555\n",
      "/house/5703708\n",
      "/house/5667257\n",
      "/house/6361016\n",
      "/house/5971878\n"
     ]
    }
   ],
   "source": [
    "for i in info_price_num:\n",
    "    print(i['href'])"
   ]
  },
  {
   "cell_type": "code",
   "execution_count": 25,
   "metadata": {},
   "outputs": [],
   "source": [
    "headers={'user-agent' : 'Mozilla/5.0 (Windows NT 10.0; Win64; x64) AppleWebKit/537.36 (KHTML, like Gecko) Chrome/84.0.4147.125 Safari/537.36'}\n",
    "\n",
    "house_id_list = []\n",
    "for i in range(1,182):\n",
    "    url = f'https://buy.yungching.com.tw/region/%E5%8F%B0%E5%8C%97%E5%B8%82-_c/?pg={i}'\n",
    "    res=requests.get(url, headers = headers)\n",
    "    soup=BeautifulSoup(res.text,'html.parser')\n",
    "    info_price_num = soup.select('li.m-list-item > a.item-img.gtmPushEvent')\n",
    "    for i in info_price_num:\n",
    "        house_id_list.append(i['href'])    "
   ]
  },
  {
   "cell_type": "code",
   "execution_count": 26,
   "metadata": {},
   "outputs": [
    {
     "data": {
      "text/plain": [
       "5413"
      ]
     },
     "execution_count": 26,
     "metadata": {},
     "output_type": "execute_result"
    }
   ],
   "source": [
    "len(house_id_list)"
   ]
  },
  {
   "cell_type": "code",
   "execution_count": null,
   "metadata": {},
   "outputs": [],
   "source": [
    "for house_id in house_id_list:\n",
    "    uu = f'https://buy.yungching.com.tw{house_id}'\n",
    "    "
   ]
  }
 ],
 "metadata": {
  "kernelspec": {
   "display_name": "web_scraping",
   "language": "python",
   "name": "python3"
  },
  "language_info": {
   "codemirror_mode": {
    "name": "ipython",
    "version": 3
   },
   "file_extension": ".py",
   "mimetype": "text/x-python",
   "name": "python",
   "nbconvert_exporter": "python",
   "pygments_lexer": "ipython3",
   "version": "3.10.14"
  }
 },
 "nbformat": 4,
 "nbformat_minor": 2
}
